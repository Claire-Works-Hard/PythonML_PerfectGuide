{
  "nbformat": 4,
  "nbformat_minor": 0,
  "metadata": {
    "colab": {
      "name": "Numpy_1_ndarray_basic.ipynb",
      "provenance": [],
      "collapsed_sections": [],
      "authorship_tag": "ABX9TyO5s0XSTE1dldZHyep9+pxw"
    },
    "kernelspec": {
      "name": "python3",
      "display_name": "Python 3"
    },
    "language_info": {
      "name": "python"
    }
  },
  "cells": [
    {
      "cell_type": "markdown",
      "metadata": {
        "id": "uQwMYKf9JhZ9"
      },
      "source": [
        "Source : 파이썬 머신러닝 완벽 가이드(권철민, 위키북스)"
      ]
    },
    {
      "cell_type": "markdown",
      "metadata": {
        "id": "NOgPeCDIVbhG"
      },
      "source": [
        "# Numpy  \n",
        "> **Numpy**  \n",
        "Numerical Python을 의미하는 Numpy는 파이썬에서 선형대수 기반의 프로그램을 쉽게 만들 수 있도록 지원하는 대표적인 패키지이다.   \n",
        "\n",
        "- Numpy를 이해하는 것은 파이썬 기반의 머신러닝에서 매우 중요하다.   \n",
        "1. 많은 머신러닝 알고리즘이 넘파이 기반으로 작성돼 있고, 이들 알고리즘의 입력 및 출력 데이터를 넘파이 배열 타입으로 사용하기 때문\n",
        "2. 넘파이가 배열을 다루는 기본 방식을 이해하면 판다스 등 다른 데이터 핸들링 패키지를 이해하는 데에도 많은 도움이 됨\n",
        "\n"
      ]
    },
    {
      "cell_type": "markdown",
      "metadata": {
        "id": "zuPf0t-FW3SC"
      },
      "source": [
        "## 1. Numpy ndarray 개요  \n",
        "\n",
        "> **ndarray**  \n",
        "넘파이의 기반 데이터 타입, ndarray를 이용해 넘파이에서 다차원 배열을 쉽게 생성하고 다양한 연산을 수행할 수 있다.  \n",
        "\n",
        "- **np.array()**  \n",
        ": ndarray로 변환을 원하는 객체를 인자로 입력하면 ndarray를 반환  \n",
        "인자로는 파이썬의 리스트 객체가 주로 사용됨\n",
        "\n",
        "- **ndarray.shape**  \n",
        ": ndarray의 차원과 크기, 즉 행과 열의 수를 튜플 형태로 반환  \n",
        "\n",
        "- **ndarray.ndim**  \n",
        ": ndarray의 차원 값을 반환"
      ]
    },
    {
      "cell_type": "code",
      "metadata": {
        "id": "IS-5jvoIT1Nz"
      },
      "source": [
        "# Numpy 모듈 임포트\n",
        "import numpy as np"
      ],
      "execution_count": 1,
      "outputs": []
    },
    {
      "cell_type": "code",
      "metadata": {
        "colab": {
          "base_uri": "https://localhost:8080/"
        },
        "id": "bRbRFiYVaGxR",
        "outputId": "0e9ee241-05c4-403b-9ab3-9c56e5ab6efd"
      },
      "source": [
        "# 1차원 배열\n",
        "array1 = np.array([1, 2, 3])\n",
        "print('array1 type: ', type(array1))\n",
        "print('array1 shape: ', array1.shape)\n",
        "\n",
        "# 2차원 배열 (2행 3열)\n",
        "array2 = np.array([[1, 2, 3], \n",
        "                   [2, 3, 4]])\n",
        "print('array2 type: ', type(array2))\n",
        "print('array2 shape: ', array2.shape)\n",
        "\n",
        "# 2차원 배열 (1행 3열)\n",
        "array3 = np.array([[1, 2, 3]])\n",
        "print('array3 type: ', type(array3))\n",
        "print('array3 shape: ', array3.shape)"
      ],
      "execution_count": 2,
      "outputs": [
        {
          "output_type": "stream",
          "name": "stdout",
          "text": [
            "array1 type:  <class 'numpy.ndarray'>\n",
            "array1 shape:  (3,)\n",
            "array2 type:  <class 'numpy.ndarray'>\n",
            "array2 shape:  (2, 3)\n",
            "array3 type:  <class 'numpy.ndarray'>\n",
            "array3 shape:  (1, 3)\n"
          ]
        }
      ]
    },
    {
      "cell_type": "code",
      "metadata": {
        "colab": {
          "base_uri": "https://localhost:8080/"
        },
        "id": "QVDTg_ZkcAf_",
        "outputId": "c2c5812e-74b5-4ae7-e84a-cc4e576d6b04"
      },
      "source": [
        "# 각 ndarray의 차원 확인\n",
        "print('array1: {:0}차원, \\narray2: {:1}차원, \\narray3: {:2}차원'.format(array1.ndim, array2.ndim, array3.ndim))"
      ],
      "execution_count": 3,
      "outputs": [
        {
          "output_type": "stream",
          "name": "stdout",
          "text": [
            "array1: 1차원, \n",
            "array2: 2차원, \n",
            "array3:  2차원\n"
          ]
        }
      ]
    },
    {
      "cell_type": "markdown",
      "metadata": {
        "id": "jM4m4cX2hh2_"
      },
      "source": [
        "## 2. ndarray의 데이터 타입   \n",
        "\n",
        "ndarray 내의 데이터값은 숫자, 문자열, 불 값 등이 모두 가능하다.  \n",
        "숫자형의 경우 int형(8, 16, 32bit), float형(16, 32, 64, 128bit), complex형도 가능  \n",
        "\n",
        "- **ndarray.dtype**  \n",
        ": ndarray 내 데이터 타입 확인  \n",
        "\n",
        "단, ndarray 내의 데이터 타입은 그 연산의 특성상 같은 데이터 타입만 가능하다.  \n",
        "\n",
        "만약 서로 다른 데이터 유형이 섞여 있는 경우에는 데이터 크기가 더 큰 타입으로 형 변환을 일괄 적용한다.  \n",
        "\n",
        "- **ndarray.astype()**  \n",
        ": ndarray 내 데이터값의 타입 변경, 인자로 원하는 타입을 문자열로 지정  \n",
        "주로 대용량의 데이터를 다룰 때 메모리 절약을 위해 사용"
      ]
    },
    {
      "cell_type": "code",
      "metadata": {
        "colab": {
          "base_uri": "https://localhost:8080/"
        },
        "id": "3p1FaZdwgWks",
        "outputId": "8fbd2574-45a4-432d-b8bd-50d3749cd04c"
      },
      "source": [
        "list1 = [1, 2, 3]\n",
        "print('list1: ', type(list1))\n",
        "\n",
        "# list를 ndarray로 변경\n",
        "array1 = np.array(list1)\n",
        "print('array1: ', type(array1))\n",
        "\n",
        "print(array1, 'array1 내의 데이터 타입: ', array1.dtype)"
      ],
      "execution_count": 4,
      "outputs": [
        {
          "output_type": "stream",
          "name": "stdout",
          "text": [
            "list1:  <class 'list'>\n",
            "array1:  <class 'numpy.ndarray'>\n",
            "[1 2 3] array1 내의 데이터 타입:  int64\n"
          ]
        }
      ]
    },
    {
      "cell_type": "code",
      "metadata": {
        "colab": {
          "base_uri": "https://localhost:8080/"
        },
        "id": "CG_XANZ5lVb3",
        "outputId": "0c59e556-50b4-4c08-e19b-60e48248d0c7"
      },
      "source": [
        "# int형과 문자열이 섞여있는 list2를 ndarray로 변환\n",
        "list2 = [1, 2, 'test']\n",
        "array2 = np.array(list2)\n",
        "print(array2, 'array2 내의 데이터 타입: ', array2.dtype)\n",
        "\n",
        "# int형과 float형이 섞여 있는 list3를 ndarray로 변환\n",
        "list3 = [1, 2, 3.0]\n",
        "array3 = np.array(list3)\n",
        "print(array3, 'array3 내의 데이터 타입: ', array3.dtype)"
      ],
      "execution_count": 5,
      "outputs": [
        {
          "output_type": "stream",
          "name": "stdout",
          "text": [
            "['1' '2' 'test'] array2 내의 데이터 타입:  <U21\n",
            "[1. 2. 3.] array3 내의 데이터 타입:  float64\n"
          ]
        }
      ]
    },
    {
      "cell_type": "code",
      "metadata": {
        "colab": {
          "base_uri": "https://localhost:8080/"
        },
        "id": "_2xO_eiGmoAY",
        "outputId": "dcf8b573-c7d3-47e2-ae4e-56159c29f651"
      },
      "source": [
        "# int32 -> float64로 변환\n",
        "array_int = np.array([1, 2, 3])\n",
        "array_float = array_int.astype('float64')\n",
        "print(array_float, array_float.dtype)\n",
        "\n",
        "# 다시 float64 -> int32로 변환\n",
        "array_int1 = array_float.astype('int32')\n",
        "print(array_int1, array_int1.dtype)\n",
        "\n",
        "# float64 -> int32로 변환\n",
        "array_float1 = np.array([1.1, 2.1, 3.1])\n",
        "array_int2 = array_float1.astype('int32')\n",
        "print(array_int2, array_int2.dtype)"
      ],
      "execution_count": 6,
      "outputs": [
        {
          "output_type": "stream",
          "name": "stdout",
          "text": [
            "[1. 2. 3.] float64\n",
            "[1 2 3] int32\n",
            "[1 2 3] int32\n"
          ]
        }
      ]
    },
    {
      "cell_type": "markdown",
      "metadata": {
        "id": "BUna2IBernwQ"
      },
      "source": [
        "## 3. ndarray를 편리하게 생성하기 - arange, zeros, ones  \n",
        "특정 크기와 차원을 가진 ndarray를 연속값이나 0이나 1로 초기화해 쉽게 생성할 수 있다.  \n",
        "주로 테스트용으로 데이터를 만들거나 대규모의 데이터를 일괄적으로 초기화해야 할 경우 사용한다.  \n",
        "\n",
        "- **np.arange()**  \n",
        ": default 함수 인자는 stop값, 함수 인자로 stop값만 부여하면 0부터 stop값의 -1까지의 값을 순차적으로 ndarray의 데이터값으로 변환해 줌  \n",
        "start값을 부여하면 0이 아닌 start값부터 시작  \n",
        "- **np.zeros()**  \n",
        ": 함수 인자로 튜플 형태의 shape값을 입력하면 모든 값을 0으로 채운 해당 shape를 가진 ndarray를 반환  \n",
        "함수 인자로 dtype을 정해주지 않으면 default로 float64 형의 데이터로 ndarray를 채움  \n",
        "- **np.ones()**  \n",
        ": 함수 인자로 튜플 형태의 shape값을 입력하면 모든 값을 1로 채운 해당 shape를 가진 ndarray를 반환  \n",
        "함수 인자로 dtype을 정해주지 않으면 default로 float64 형의 데이터로 ndarray를 채움"
      ]
    },
    {
      "cell_type": "code",
      "metadata": {
        "id": "KMmfwSG5nKXz",
        "colab": {
          "base_uri": "https://localhost:8080/"
        },
        "outputId": "29100b50-3a01-4f42-c041-b4e0736a359d"
      },
      "source": [
        "# arange()에 stop값만 지정\n",
        "sequence_array = np.arange(10)\n",
        "print(sequence_array)\n",
        "print(sequence_array.dtype)\n",
        "print(sequence_array.shape)\n",
        "\n",
        "# arange()에 start값과 stop값을 모두 지정\n",
        "sequence_array2 = np.arange(1, 10)\n",
        "print(sequence_array2)\n",
        "print(sequence_array2.dtype)\n",
        "print(sequence_array2.shape)"
      ],
      "execution_count": 13,
      "outputs": [
        {
          "output_type": "stream",
          "name": "stdout",
          "text": [
            "[0 1 2 3 4 5 6 7 8 9]\n",
            "int64\n",
            "(10,)\n",
            "[1 2 3 4 5 6 7 8 9]\n",
            "int64\n",
            "(9,)\n"
          ]
        }
      ]
    },
    {
      "cell_type": "code",
      "metadata": {
        "id": "MZmO-2DTxcKe",
        "colab": {
          "base_uri": "https://localhost:8080/"
        },
        "outputId": "dc9329f5-fbf2-4fed-bf2e-af77df9c7699"
      },
      "source": [
        "# zeros()\n",
        "zero_array = np.zeros((3, 2), dtype='int32')\n",
        "print(zero_array)\n",
        "print(zero_array.dtype)\n",
        "print(zero_array.shape)\n",
        "\n",
        "# ones()\n",
        "one_array = np.ones((3, 2))\n",
        "print(one_array)\n",
        "print(one_array.dtype)\n",
        "print(one_array.shape)"
      ],
      "execution_count": 17,
      "outputs": [
        {
          "output_type": "stream",
          "name": "stdout",
          "text": [
            "[[0 0]\n",
            " [0 0]\n",
            " [0 0]]\n",
            "int32\n",
            "(3, 2)\n",
            "[[1. 1.]\n",
            " [1. 1.]\n",
            " [1. 1.]]\n",
            "float64\n",
            "(3, 2)\n"
          ]
        }
      ]
    },
    {
      "cell_type": "markdown",
      "metadata": {
        "id": "Yoqy6oCPDnzY"
      },
      "source": [
        "## 4. ndarray의 차원과 크기를 변경하는 reshape()  \n",
        "- **ndarray.reshape()**  \n",
        ": 변환을 원하는 크기를 함수 인자로 부여하면 ndarray를 특정 차원 및 크기로 변환해 줌  \n",
        "만약 지정된 사이즈로 변경이 불가능할 경우 오류 발생  \n",
        "\n",
        "*reshape() 인자에 -1 적용하기*  \n",
        "(예시) ndarray.reshape(-1, 5)의 경우, ndarray와 호환될 수 있는 2차원 ndarray로 변환하되, 고정된 5개 칼럼에 맞는 로우를 자동으로 생성해 변환하라는 의미  \n",
        "\n",
        "**ndarray.reshape(-1, 1)**  \n",
        ": 원본 ndarray가 어떤 형태라도 2차원이고, 여러 개의 로우를 가지되 반드시 1개 컬럼을 가진 ndarray로 변환됨을 보장함"
      ]
    },
    {
      "cell_type": "code",
      "metadata": {
        "colab": {
          "base_uri": "https://localhost:8080/"
        },
        "id": "vUCB-O0WDDKT",
        "outputId": "ce600fe9-0dd0-4fd1-ae30-5b9050696d53"
      },
      "source": [
        "# 0~9까지의 1차원 ndarray 생성\n",
        "array1 = np.arange(10)\n",
        "print('array1:\\n', array1)\n",
        "\n",
        "# 2행 5열 형태의 2차원 ndarray로 변환\n",
        "array2 = array1.reshape((2, 5))\n",
        "print('array2:\\n', array2)\n",
        "\n",
        "# 5행 2열 형태의 2차원 ndarray로 변환\n",
        "array3 = array1.reshape((5, 2))\n",
        "print('array3:\\n', array3)"
      ],
      "execution_count": 20,
      "outputs": [
        {
          "output_type": "stream",
          "name": "stdout",
          "text": [
            "array1:\n",
            " [0 1 2 3 4 5 6 7 8 9]\n",
            "array2:\n",
            " [[0 1 2 3 4]\n",
            " [5 6 7 8 9]]\n",
            "array3:\n",
            " [[0 1]\n",
            " [2 3]\n",
            " [4 5]\n",
            " [6 7]\n",
            " [8 9]]\n"
          ]
        }
      ]
    },
    {
      "cell_type": "code",
      "metadata": {
        "colab": {
          "base_uri": "https://localhost:8080/",
          "height": 198
        },
        "id": "11-zvnLyEUi9",
        "outputId": "94727a03-de4a-48d9-ee51-5547a4b5b6aa"
      },
      "source": [
        "# 변경 불가능한 사이즈로 reshape()\n",
        "array4 = array1.reshape((4, 3))\n",
        "print('array4:\\n', array4)"
      ],
      "execution_count": 21,
      "outputs": [
        {
          "output_type": "error",
          "ename": "ValueError",
          "evalue": "ignored",
          "traceback": [
            "\u001b[0;31m---------------------------------------------------------------------------\u001b[0m",
            "\u001b[0;31mValueError\u001b[0m                                Traceback (most recent call last)",
            "\u001b[0;32m<ipython-input-21-199b4c7045e1>\u001b[0m in \u001b[0;36m<module>\u001b[0;34m()\u001b[0m\n\u001b[1;32m      1\u001b[0m \u001b[0;31m# 변경 불가능한 사이즈로 reshape()\u001b[0m\u001b[0;34m\u001b[0m\u001b[0;34m\u001b[0m\u001b[0;34m\u001b[0m\u001b[0m\n\u001b[0;32m----> 2\u001b[0;31m \u001b[0marray4\u001b[0m \u001b[0;34m=\u001b[0m \u001b[0marray1\u001b[0m\u001b[0;34m.\u001b[0m\u001b[0mreshape\u001b[0m\u001b[0;34m(\u001b[0m\u001b[0;34m(\u001b[0m\u001b[0;36m4\u001b[0m\u001b[0;34m,\u001b[0m \u001b[0;36m3\u001b[0m\u001b[0;34m)\u001b[0m\u001b[0;34m)\u001b[0m\u001b[0;34m\u001b[0m\u001b[0;34m\u001b[0m\u001b[0m\n\u001b[0m\u001b[1;32m      3\u001b[0m \u001b[0mprint\u001b[0m\u001b[0;34m(\u001b[0m\u001b[0;34m'array4:\\n'\u001b[0m\u001b[0;34m,\u001b[0m \u001b[0marray4\u001b[0m\u001b[0;34m)\u001b[0m\u001b[0;34m\u001b[0m\u001b[0;34m\u001b[0m\u001b[0m\n",
            "\u001b[0;31mValueError\u001b[0m: cannot reshape array of size 10 into shape (4,3)"
          ]
        }
      ]
    },
    {
      "cell_type": "code",
      "metadata": {
        "colab": {
          "base_uri": "https://localhost:8080/"
        },
        "id": "DeHzs9KGFUzY",
        "outputId": "0f0bee9e-de27-4968-b17c-9f1529e555c9"
      },
      "source": [
        "# reshape() 인자에 -1 적용\n",
        "array1 = np.arange(10)\n",
        "print(array1)\n",
        "print('array1 shape: ', array1.shape)\n",
        "\n",
        "array2 = array1.reshape((-1, 5))\n",
        "print('array2 shape: ', array2.shape)\n",
        "\n",
        "array3 = array1.reshape((5, -1))\n",
        "print('array3 shape: ', array3.shape)"
      ],
      "execution_count": 23,
      "outputs": [
        {
          "output_type": "stream",
          "name": "stdout",
          "text": [
            "[0 1 2 3 4 5 6 7 8 9]\n",
            "array1 shape:  (10,)\n",
            "array2 shape:  (2, 5)\n",
            "array3 shape:  (5, 2)\n"
          ]
        }
      ]
    },
    {
      "cell_type": "code",
      "metadata": {
        "colab": {
          "base_uri": "https://localhost:8080/",
          "height": 198
        },
        "id": "nMyJUwOFFtGL",
        "outputId": "cf5859e2-bf8f-44d9-e359-a520cb4bdfb6"
      },
      "source": [
        "# 변경 불가능한 사이즈로 reshape()\n",
        "array4 = array1.reshape((-1, 4))\n",
        "print(array4)"
      ],
      "execution_count": 24,
      "outputs": [
        {
          "output_type": "error",
          "ename": "ValueError",
          "evalue": "ignored",
          "traceback": [
            "\u001b[0;31m---------------------------------------------------------------------------\u001b[0m",
            "\u001b[0;31mValueError\u001b[0m                                Traceback (most recent call last)",
            "\u001b[0;32m<ipython-input-24-934449559bc1>\u001b[0m in \u001b[0;36m<module>\u001b[0;34m()\u001b[0m\n\u001b[1;32m      1\u001b[0m \u001b[0;31m# 변경 불가능한 사이즈로 reshape()\u001b[0m\u001b[0;34m\u001b[0m\u001b[0;34m\u001b[0m\u001b[0;34m\u001b[0m\u001b[0m\n\u001b[0;32m----> 2\u001b[0;31m \u001b[0marray4\u001b[0m \u001b[0;34m=\u001b[0m \u001b[0marray1\u001b[0m\u001b[0;34m.\u001b[0m\u001b[0mreshape\u001b[0m\u001b[0;34m(\u001b[0m\u001b[0;34m(\u001b[0m\u001b[0;34m-\u001b[0m\u001b[0;36m1\u001b[0m\u001b[0;34m,\u001b[0m \u001b[0;36m4\u001b[0m\u001b[0;34m)\u001b[0m\u001b[0;34m)\u001b[0m\u001b[0;34m\u001b[0m\u001b[0;34m\u001b[0m\u001b[0m\n\u001b[0m\u001b[1;32m      3\u001b[0m \u001b[0mprint\u001b[0m\u001b[0;34m(\u001b[0m\u001b[0marray4\u001b[0m\u001b[0;34m)\u001b[0m\u001b[0;34m\u001b[0m\u001b[0;34m\u001b[0m\u001b[0m\n",
            "\u001b[0;31mValueError\u001b[0m: cannot reshape array of size 10 into shape (4)"
          ]
        }
      ]
    },
    {
      "cell_type": "code",
      "metadata": {
        "colab": {
          "base_uri": "https://localhost:8080/"
        },
        "id": "JiwX3-4LHcNb",
        "outputId": "b3f51c34-994b-49be-b243-c0a5a55d1666"
      },
      "source": [
        "# 3차원 ndarray 만들기\n",
        "array1 = np.arange(8)\n",
        "array3d = array1.reshape((2, 2, 2))\n",
        "print('array3d:\\n', array3d)\n",
        "\n",
        "# 3차원 ndarray를 2차원 ndarray로 변환\n",
        "array5 = array3d.reshape((-1, 1))\n",
        "print('array5:\\n', array5)\n",
        "print('array5 shape: ', array5.shape)\n",
        "\n",
        "# 1차원 ndarray를 2차원 ndarray로 변환\n",
        "print('array1:\\n', array1)\n",
        "print('array1 shape: ', array1.shape)\n",
        "array6 = array1.reshape((-1, 1))\n",
        "print('array6:\\n', array6)\n",
        "print('array6 shape: ', array6.shape)"
      ],
      "execution_count": 29,
      "outputs": [
        {
          "output_type": "stream",
          "name": "stdout",
          "text": [
            "array3d:\n",
            " [[[0 1]\n",
            "  [2 3]]\n",
            "\n",
            " [[4 5]\n",
            "  [6 7]]]\n",
            "array5:\n",
            " [[0]\n",
            " [1]\n",
            " [2]\n",
            " [3]\n",
            " [4]\n",
            " [5]\n",
            " [6]\n",
            " [7]]\n",
            "array5 shape:  (8, 1)\n",
            "array1:\n",
            " [0 1 2 3 4 5 6 7]\n",
            "array1 shape:  (8,)\n",
            "array6:\n",
            " [[0]\n",
            " [1]\n",
            " [2]\n",
            " [3]\n",
            " [4]\n",
            " [5]\n",
            " [6]\n",
            " [7]]\n",
            "array6 shape:  (8, 1)\n"
          ]
        }
      ]
    },
    {
      "cell_type": "code",
      "metadata": {
        "id": "c_gsdUikIZ1w"
      },
      "source": [
        ""
      ],
      "execution_count": null,
      "outputs": []
    }
  ]
}