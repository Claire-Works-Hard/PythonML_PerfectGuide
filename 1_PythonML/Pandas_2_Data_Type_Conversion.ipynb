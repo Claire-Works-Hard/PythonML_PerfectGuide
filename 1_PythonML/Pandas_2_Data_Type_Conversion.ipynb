{
  "nbformat": 4,
  "nbformat_minor": 0,
  "metadata": {
    "colab": {
      "name": "Pandas_2_Data_Type_Conversion.ipynb",
      "provenance": [],
      "collapsed_sections": [],
      "authorship_tag": "ABX9TyNESlSTXMqnEP75e/amggm/"
    },
    "kernelspec": {
      "name": "python3",
      "display_name": "Python 3"
    },
    "language_info": {
      "name": "python"
    }
  },
  "cells": [
    {
      "cell_type": "markdown",
      "metadata": {
        "id": "C7wO2QyIZAUI"
      },
      "source": [
        "Source : 파이썬 머신러닝 완벽 가이드(권철민, 위키북스)"
      ]
    },
    {
      "cell_type": "markdown",
      "metadata": {
        "id": "ZF1z9O7gZGPu"
      },
      "source": [
        "# Data Handling - Pandas  \n",
        "> **Pandas**  \n",
        "파이썬에서 데이터 핸들링을 가능하게 해주는 가장 인기 있는 라이브러리\n",
        "\n",
        "> **DataFrame**  \n",
        "DataFrame은 Pandas의 핵심 객체, DataFrame은 여러 개의 행과 열로 이루어진 2차원 데이터를 담는 데이터 구조체\n",
        "\n",
        "> **Index**  \n",
        "RDBMS의 PK처럼 개별 데이터를 고유하게 식별하는 Key 값\n",
        "\n",
        "> **Series**  \n",
        "칼럼이 하나뿐인 데이터 구조체  \n",
        "(cf) DataFrame은 칼럼이 여러 개인 데이터 구조체"
      ]
    },
    {
      "cell_type": "markdown",
      "metadata": {
        "id": "Qilh-60VZRUj"
      },
      "source": [
        "## 2. DataFrame과 list, dictionary, 넘파이 ndarray 상호 변환"
      ]
    },
    {
      "cell_type": "markdown",
      "metadata": {
        "id": "BMQa9pdLZLBW"
      },
      "source": [
        "### 2-1. Numpy ndarray, list, dict를 DataFrame으로 변환하기  \n",
        "\n",
        "- **pd.DataFrame(data, columns)**  \n",
        ": 기본적으로 DataFrame은 행과 열을 가지는 2차원 데이터이므로 2차원 이하 데이터들만 DataFrame으로 변환될 수 있다.\n",
        "  - data : ndarray, list, dictionary  \n",
        "  - columns : 칼럼명 list (칼럼명을 지정하지 않으면 자동으로 칼럼명을 할당)  \n",
        "\n",
        "- **dictionary를 DataFrame으로 변환하기**  \n",
        ": 딕셔너리의 Key는 칼럼명, Value는 Key에 해당하는 칼럼 데이터로 변환된다.  \n",
        "따라서 Key는 문자열로, Value는 리스트(또는 ndarray) 형태로 딕셔너리를 구성한다.  "
      ]
    },
    {
      "cell_type": "code",
      "metadata": {
        "colab": {
          "base_uri": "https://localhost:8080/"
        },
        "id": "kqoPVlhbYAhq",
        "outputId": "520d88aa-d0af-4f5b-c43f-b8126647e6fa"
      },
      "source": [
        "#1차원 데이터로 DataFrame 만들기 : 칼럼명은 1개 필요\n",
        "import numpy as np\n",
        "import pandas as pd\n",
        "\n",
        "# 1차원 list와 ndarray 생성\n",
        "col_name1=['col1']\n",
        "list1 = [1, 2, 3]\n",
        "array1 = np.array(list1)\n",
        "print('array1 shape: ', array1.shape)\n",
        "\n",
        "#list를 이용해 DataFrame 생성\n",
        "df_list1 = pd.DataFrame(list1, columns=col_name1)\n",
        "print('1차원 리스트로 만든 DataFrame:\\n', df_list1)\n",
        "\n",
        "#Numpy ndarray를 이용해 DataFrame 생성\n",
        "df_array1 = pd.DataFrame(array1, columns=col_name1)\n",
        "print('1차원 ndarray로 만든 DataFrame:\\n', df_array1)"
      ],
      "execution_count": null,
      "outputs": [
        {
          "output_type": "stream",
          "name": "stdout",
          "text": [
            "array1 shape:  (3,)\n",
            "1차원 리스트로 만든 DataFrame:\n",
            "    col1\n",
            "0     1\n",
            "1     2\n",
            "2     3\n",
            "1차원 ndarray로 만든 DataFrame:\n",
            "    col1\n",
            "0     1\n",
            "1     2\n",
            "2     3\n"
          ]
        }
      ]
    },
    {
      "cell_type": "code",
      "metadata": {
        "colab": {
          "base_uri": "https://localhost:8080/"
        },
        "id": "x4sDmRE-bfdz",
        "outputId": "9c2ee1b0-2b12-4bf4-e51b-351633a4d1a9"
      },
      "source": [
        "# 2차원 데이터로 DataFrame 만들기\n",
        "\n",
        "# 2차원 list, ndarray 생성\n",
        "list2 = [[1, 2, 3],\n",
        "         [11, 12, 13]]\n",
        "array2 = np.array(list2)\n",
        "print('array2 shape: ', array2.shape)\n",
        "\n",
        "#2행 3열 형태의 2차원 list, ndarray를 DataFrame으로 변환 : 3개 칼럼명이 필요\n",
        "col_name2 = ['col1', 'col2', 'col3']\n",
        "\n",
        "df_list2 = pd.DataFrame(list2, columns=col_name2)\n",
        "print('2차원 리스트로 만든 DataFrame:\\n', df_list2)\n",
        "\n",
        "df_array2 = pd.DataFrame(array2, columns=col_name2)\n",
        "print('2차원 ndarray로 만든 DataFrame:\\n', df_array2)"
      ],
      "execution_count": null,
      "outputs": [
        {
          "output_type": "stream",
          "name": "stdout",
          "text": [
            "array2 shape:  (2, 3)\n",
            "2차원 리스트로 만든 DataFrame:\n",
            "    col1  col2  col3\n",
            "0     1     2     3\n",
            "1    11    12    13\n",
            "2차원 ndarray로 만든 DataFrame:\n",
            "    col1  col2  col3\n",
            "0     1     2     3\n",
            "1    11    12    13\n"
          ]
        }
      ]
    },
    {
      "cell_type": "code",
      "metadata": {
        "colab": {
          "base_uri": "https://localhost:8080/",
          "height": 128
        },
        "id": "-MXgJ4y3cHGM",
        "outputId": "b6d259f4-4678-4c1a-ec4a-8d14f2e87549"
      },
      "source": [
        "# 딕셔너리를 DataFrame으로 변환하기\n",
        "dict = {'col1':[1, 11], 'col2':[2, 12], 'col3':[3, 13]}\n",
        "df_dict = pd.DataFrame(dict)\n",
        "print('딕셔너리로 만든 DataFrame')\n",
        "df_dict"
      ],
      "execution_count": null,
      "outputs": [
        {
          "output_type": "stream",
          "name": "stdout",
          "text": [
            "딕셔너리로 만든 DataFrame\n"
          ]
        },
        {
          "output_type": "execute_result",
          "data": {
            "text/html": [
              "<div>\n",
              "<style scoped>\n",
              "    .dataframe tbody tr th:only-of-type {\n",
              "        vertical-align: middle;\n",
              "    }\n",
              "\n",
              "    .dataframe tbody tr th {\n",
              "        vertical-align: top;\n",
              "    }\n",
              "\n",
              "    .dataframe thead th {\n",
              "        text-align: right;\n",
              "    }\n",
              "</style>\n",
              "<table border=\"1\" class=\"dataframe\">\n",
              "  <thead>\n",
              "    <tr style=\"text-align: right;\">\n",
              "      <th></th>\n",
              "      <th>col1</th>\n",
              "      <th>col2</th>\n",
              "      <th>col3</th>\n",
              "    </tr>\n",
              "  </thead>\n",
              "  <tbody>\n",
              "    <tr>\n",
              "      <th>0</th>\n",
              "      <td>1</td>\n",
              "      <td>2</td>\n",
              "      <td>3</td>\n",
              "    </tr>\n",
              "    <tr>\n",
              "      <th>1</th>\n",
              "      <td>11</td>\n",
              "      <td>12</td>\n",
              "      <td>13</td>\n",
              "    </tr>\n",
              "  </tbody>\n",
              "</table>\n",
              "</div>"
            ],
            "text/plain": [
              "   col1  col2  col3\n",
              "0     1     2     3\n",
              "1    11    12    13"
            ]
          },
          "metadata": {},
          "execution_count": 9
        }
      ]
    },
    {
      "cell_type": "markdown",
      "metadata": {
        "id": "c4xKsUlIdHE8"
      },
      "source": [
        "### 2-2. DataFrame을 Numpy ndarray, list, dict로 변환하기  \n",
        "\n",
        "- **DataFrame.values**  \n",
        ": DataFrame 객체를 ndarray로 변환  \n",
        "많은 머신러닝 패키지가 기본 데이터 형으로 넘파이 ndarray를 사용하기 때문에 DataFrame 객체를 ndarray로 변환하기 위해 이 메서드가 매우 많이 사용됨  \n",
        "\n",
        "- **DataFrame.values.tolist()**  \n",
        ": DataFrame을 ndarray로 변환하고 list로 최종 변환  \n",
        "\n",
        "- **DataFrame.to_dict()**  \n",
        ": DataFrame 객체를 딕셔너리로 변환  \n",
        "인자로 'list'를 입력하면 딕셔너리의 값이 리스트로 반환됨"
      ]
    },
    {
      "cell_type": "code",
      "metadata": {
        "colab": {
          "base_uri": "https://localhost:8080/"
        },
        "id": "5JjAW6Krc5nq",
        "outputId": "533009d5-f814-46d1-de53-25b60d670869"
      },
      "source": [
        "# DataFrame 객체를 ndarray로 변환\n",
        "array3 = df_dict.values\n",
        "print('df_dict.values 타입: ', type(array3))\n",
        "print('df_dict.values shape: ', array3.shape)\n",
        "print('df_dict.values:\\n', array3)"
      ],
      "execution_count": null,
      "outputs": [
        {
          "output_type": "stream",
          "name": "stdout",
          "text": [
            "df_dict.values 타입:  <class 'numpy.ndarray'>\n",
            "df_dict.values shape:  (2, 3)\n",
            "df_dict.values:\n",
            " [[ 1  2  3]\n",
            " [11 12 13]]\n"
          ]
        }
      ]
    },
    {
      "cell_type": "code",
      "metadata": {
        "colab": {
          "base_uri": "https://localhost:8080/"
        },
        "id": "97mrnlu0d5xt",
        "outputId": "4ca03d42-d29e-483f-c584-26a5ef0bd761"
      },
      "source": [
        "# DataFrame을 list로 변환\n",
        "list3 = df_dict.values.tolist()\n",
        "print('df_dict.values.tolist() 타입: ', type(list3))\n",
        "print('df_dict.values.tolist(): ', list3)"
      ],
      "execution_count": null,
      "outputs": [
        {
          "output_type": "stream",
          "name": "stdout",
          "text": [
            "df_dict.values.tolist() 타입:  <class 'list'>\n",
            "df_dict.values.tolist():  [[1, 2, 3], [11, 12, 13]]\n"
          ]
        }
      ]
    },
    {
      "cell_type": "code",
      "metadata": {
        "colab": {
          "base_uri": "https://localhost:8080/"
        },
        "id": "j6tpTEqCeufi",
        "outputId": "1476303a-e4aa-42c9-8adf-7a4157a52438"
      },
      "source": [
        "# DataFrame을 dictionary로 변환\n",
        "dict3 = df_dict.to_dict('list')\n",
        "print('df_dict.to_dict() 타입: ', type(dict3))\n",
        "print('df_dict.to_dict(): ', dict3)"
      ],
      "execution_count": null,
      "outputs": [
        {
          "output_type": "stream",
          "name": "stdout",
          "text": [
            "df_dict.to_dict() 타입:  <class 'dict'>\n",
            "df_dict.to_dict():  {'col1': [1, 11], 'col2': [2, 12], 'col3': [3, 13]}\n"
          ]
        }
      ]
    }
  ]
}