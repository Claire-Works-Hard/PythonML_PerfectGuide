{
  "nbformat": 4,
  "nbformat_minor": 0,
  "metadata": {
    "colab": {
      "name": "Pandas_8_apply_lambda.ipynb",
      "provenance": [],
      "collapsed_sections": [],
      "authorship_tag": "ABX9TyM1e4pV8K0mUzSNCgnclBj7"
    },
    "kernelspec": {
      "name": "python3",
      "display_name": "Python 3"
    },
    "language_info": {
      "name": "python"
    }
  },
  "cells": [
    {
      "cell_type": "markdown",
      "metadata": {
        "id": "5HIjdnYXHCNE"
      },
      "source": [
        "Source : 파이썬 머신러닝 완벽 가이드(권철민, 위키북스)"
      ]
    },
    {
      "cell_type": "markdown",
      "metadata": {
        "id": "vd2CyTX1HGO3"
      },
      "source": [
        "# Data Handling - Pandas  \n",
        "> **Pandas**  \n",
        "파이썬에서 데이터 핸들링을 가능하게 해주는 가장 인기 있는 라이브러리\n",
        "\n",
        "> **DataFrame**  \n",
        "DataFrame은 Pandas의 핵심 객체, DataFrame은 여러 개의 행과 열로 이루어진 2차원 데이터를 담는 데이터 구조체\n",
        "\n",
        "> **Index**  \n",
        "RDBMS의 PK처럼 개별 데이터를 고유하게 식별하는 Key 값\n",
        "\n",
        "> **Series**  \n",
        "칼럼이 하나뿐인 데이터 구조체  \n",
        "(cf) DataFrame은 칼럼이 여러 개인 데이터 구조체"
      ]
    },
    {
      "cell_type": "markdown",
      "metadata": {
        "id": "9MT2pziKHZff"
      },
      "source": [
        "## 8. apply lambda 식으로 데이터 가공  \n",
        "\n",
        "> **lambda 식**  \n",
        "함수의 선언과 함수 내의 처리를 한 줄의 식으로 쉽게 변환하는 식  \n",
        "\n",
        "- `lambda 입력 인자 : 반환 값`  \n",
        "- **map()** : lambda 식을 이용할 때 여러 개의 값을 입력 인자로 사용할 경우에 사용  \n",
        "\n",
        "- **판다의 DataFrame의 apply lambda 식**  \n",
        "`DataFrame.apply(lambda 입력 인자 : 반환 값)`  \n",
        "`DataFrame.apply(lambda 입력 인자 : 조건식이 참일 경우 반환 값 if 조건식 else 조건식이 참이 아닐 경우 반환 값`\n"
      ]
    },
    {
      "cell_type": "code",
      "metadata": {
        "id": "vuBVLA9-GeGj",
        "colab": {
          "base_uri": "https://localhost:8080/"
        },
        "outputId": "8c30ca29-24ff-4cd0-c8af-cecf396b6d2c"
      },
      "source": [
        "# 입력값의 제곱 값을 구해서 반환하는 get_square(a) 함수\n",
        "def get_square(a):\n",
        "  return a**2\n",
        "\n",
        "print(\"3의 제곱은 : \", get_square(3))\n",
        "\n",
        "# get_square(a)를 lambda 식으로 변환\n",
        "lambda_square = lambda x : x**2\n",
        "\n",
        "print(\"3의 제곱은 : \", lambda_square(3))\n",
        "\n",
        "# map() 함수를 결합하여 lambda 식에 여러 개의 값을 입력 인자로 사용\n",
        "a = [1, 2, 3]\n",
        "lambda_squares = map(lambda_square, a)\n",
        "print(\"1, 2, 3의 제곱은 : \", list(lambda_squares))"
      ],
      "execution_count": 1,
      "outputs": [
        {
          "output_type": "stream",
          "name": "stdout",
          "text": [
            "3의 제곱은 :  9\n",
            "3의 제곱은 :  9\n",
            "1, 2, 3의 제곱은 :  [1, 4, 9]\n"
          ]
        }
      ]
    },
    {
      "cell_type": "code",
      "metadata": {
        "colab": {
          "base_uri": "https://localhost:8080/",
          "height": 204
        },
        "id": "jeexwQpA2rbU",
        "outputId": "dcace287-9a46-4201-feeb-eb2ebc1d7ddb"
      },
      "source": [
        "# titanic DataFrame 만들기\n",
        "import pandas as pd\n",
        "\n",
        "titanic_df = pd.read_csv(\"titanic_train.csv\")\n",
        "\n",
        "# 'Name' 칼럼의 문자열 개수를 별도 칼럼 'Name_len'으로 만들기\n",
        "titanic_df['Name_len'] = titanic_df['Name'].apply(lambda x : len(x))\n",
        "titanic_df[['Name', 'Name_len']].head()"
      ],
      "execution_count": 2,
      "outputs": [
        {
          "output_type": "execute_result",
          "data": {
            "text/html": [
              "<div>\n",
              "<style scoped>\n",
              "    .dataframe tbody tr th:only-of-type {\n",
              "        vertical-align: middle;\n",
              "    }\n",
              "\n",
              "    .dataframe tbody tr th {\n",
              "        vertical-align: top;\n",
              "    }\n",
              "\n",
              "    .dataframe thead th {\n",
              "        text-align: right;\n",
              "    }\n",
              "</style>\n",
              "<table border=\"1\" class=\"dataframe\">\n",
              "  <thead>\n",
              "    <tr style=\"text-align: right;\">\n",
              "      <th></th>\n",
              "      <th>Name</th>\n",
              "      <th>Name_len</th>\n",
              "    </tr>\n",
              "  </thead>\n",
              "  <tbody>\n",
              "    <tr>\n",
              "      <th>0</th>\n",
              "      <td>Braund, Mr. Owen Harris</td>\n",
              "      <td>23</td>\n",
              "    </tr>\n",
              "    <tr>\n",
              "      <th>1</th>\n",
              "      <td>Cumings, Mrs. John Bradley (Florence Briggs Th...</td>\n",
              "      <td>51</td>\n",
              "    </tr>\n",
              "    <tr>\n",
              "      <th>2</th>\n",
              "      <td>Heikkinen, Miss. Laina</td>\n",
              "      <td>22</td>\n",
              "    </tr>\n",
              "    <tr>\n",
              "      <th>3</th>\n",
              "      <td>Futrelle, Mrs. Jacques Heath (Lily May Peel)</td>\n",
              "      <td>44</td>\n",
              "    </tr>\n",
              "    <tr>\n",
              "      <th>4</th>\n",
              "      <td>Allen, Mr. William Henry</td>\n",
              "      <td>24</td>\n",
              "    </tr>\n",
              "  </tbody>\n",
              "</table>\n",
              "</div>"
            ],
            "text/plain": [
              "                                                Name  Name_len\n",
              "0                            Braund, Mr. Owen Harris        23\n",
              "1  Cumings, Mrs. John Bradley (Florence Briggs Th...        51\n",
              "2                             Heikkinen, Miss. Laina        22\n",
              "3       Futrelle, Mrs. Jacques Heath (Lily May Peel)        44\n",
              "4                           Allen, Mr. William Henry        24"
            ]
          },
          "metadata": {},
          "execution_count": 2
        }
      ]
    },
    {
      "cell_type": "code",
      "metadata": {
        "colab": {
          "base_uri": "https://localhost:8080/",
          "height": 359
        },
        "id": "Z80Jhybh7112",
        "outputId": "31793194-c527-4800-f537-5a77e6e974cf"
      },
      "source": [
        "# 나이가 15세 이하라면 'Child', 그렇지 않으면 'Adult'로 구분하는 새로운 칼럼 'Child_Adult' 만들기\n",
        "titanic_df['Child_Adult'] = titanic_df['Age'].apply(lambda x : 'Child' if x <= 15 else 'Adult')\n",
        "titanic_df[['Age', 'Child_Adult']].head(10)"
      ],
      "execution_count": 3,
      "outputs": [
        {
          "output_type": "execute_result",
          "data": {
            "text/html": [
              "<div>\n",
              "<style scoped>\n",
              "    .dataframe tbody tr th:only-of-type {\n",
              "        vertical-align: middle;\n",
              "    }\n",
              "\n",
              "    .dataframe tbody tr th {\n",
              "        vertical-align: top;\n",
              "    }\n",
              "\n",
              "    .dataframe thead th {\n",
              "        text-align: right;\n",
              "    }\n",
              "</style>\n",
              "<table border=\"1\" class=\"dataframe\">\n",
              "  <thead>\n",
              "    <tr style=\"text-align: right;\">\n",
              "      <th></th>\n",
              "      <th>Age</th>\n",
              "      <th>Child_Adult</th>\n",
              "    </tr>\n",
              "  </thead>\n",
              "  <tbody>\n",
              "    <tr>\n",
              "      <th>0</th>\n",
              "      <td>22.0</td>\n",
              "      <td>Adult</td>\n",
              "    </tr>\n",
              "    <tr>\n",
              "      <th>1</th>\n",
              "      <td>38.0</td>\n",
              "      <td>Adult</td>\n",
              "    </tr>\n",
              "    <tr>\n",
              "      <th>2</th>\n",
              "      <td>26.0</td>\n",
              "      <td>Adult</td>\n",
              "    </tr>\n",
              "    <tr>\n",
              "      <th>3</th>\n",
              "      <td>35.0</td>\n",
              "      <td>Adult</td>\n",
              "    </tr>\n",
              "    <tr>\n",
              "      <th>4</th>\n",
              "      <td>35.0</td>\n",
              "      <td>Adult</td>\n",
              "    </tr>\n",
              "    <tr>\n",
              "      <th>5</th>\n",
              "      <td>NaN</td>\n",
              "      <td>Adult</td>\n",
              "    </tr>\n",
              "    <tr>\n",
              "      <th>6</th>\n",
              "      <td>54.0</td>\n",
              "      <td>Adult</td>\n",
              "    </tr>\n",
              "    <tr>\n",
              "      <th>7</th>\n",
              "      <td>2.0</td>\n",
              "      <td>Child</td>\n",
              "    </tr>\n",
              "    <tr>\n",
              "      <th>8</th>\n",
              "      <td>27.0</td>\n",
              "      <td>Adult</td>\n",
              "    </tr>\n",
              "    <tr>\n",
              "      <th>9</th>\n",
              "      <td>14.0</td>\n",
              "      <td>Child</td>\n",
              "    </tr>\n",
              "  </tbody>\n",
              "</table>\n",
              "</div>"
            ],
            "text/plain": [
              "    Age Child_Adult\n",
              "0  22.0       Adult\n",
              "1  38.0       Adult\n",
              "2  26.0       Adult\n",
              "3  35.0       Adult\n",
              "4  35.0       Adult\n",
              "5   NaN       Adult\n",
              "6  54.0       Adult\n",
              "7   2.0       Child\n",
              "8  27.0       Adult\n",
              "9  14.0       Child"
            ]
          },
          "metadata": {},
          "execution_count": 3
        }
      ]
    },
    {
      "cell_type": "code",
      "metadata": {
        "colab": {
          "base_uri": "https://localhost:8080/"
        },
        "id": "_stj1_Lx9GYN",
        "outputId": "b2f01891-64d9-4fc5-bbff-5ebf9fd3659b"
      },
      "source": [
        "# 나이가 15세 이하면 'Child', 15세 초과 ~ 60세 이하면 'Adult', 60세 초과면 'Elderly'로 분류하는 'Age_Cat' 칼럼 만들기\n",
        "titanic_df['Age_Cat'] = titanic_df['Age'].apply(lambda x : 'Child' if x <= 15 else ('Adult' if x <= 60 else 'Elderly'))\n",
        "titanic_df['Age_Cat'].value_counts()"
      ],
      "execution_count": 4,
      "outputs": [
        {
          "output_type": "execute_result",
          "data": {
            "text/plain": [
              "Adult      609\n",
              "Elderly    199\n",
              "Child       83\n",
              "Name: Age_Cat, dtype: int64"
            ]
          },
          "metadata": {},
          "execution_count": 4
        }
      ]
    },
    {
      "cell_type": "code",
      "metadata": {
        "colab": {
          "base_uri": "https://localhost:8080/"
        },
        "id": "oLINpqZx-G0T",
        "outputId": "8be19a98-a0c5-4fba-be92-915e260671ba"
      },
      "source": [
        "# 나이가 5살 이하면 'Baby', 12살 이하면 'Child', 18살 이하면 'Teenager', 25살 이하면 'Student', 35살 이하면 'Young Adult', 60세 이하면 'Adult', 그보다 초과면 'Elderlyl'로 분류하는 함수 만들기\n",
        "def get_category(age):\n",
        "  cat = ''\n",
        "  if age <= 5:\n",
        "    cat = 'Baby'\n",
        "  elif age <= 12:\n",
        "    cat = 'Child'\n",
        "  elif age <= 18:\n",
        "    cat = 'Teenager'\n",
        "  elif age <= 25:\n",
        "    cat = 'Student'\n",
        "  elif age <= 35:\n",
        "    cat = 'Yound Adult'\n",
        "  elif age <= 60:\n",
        "    cat = 'Adult'\n",
        "  else:\n",
        "    cat = 'Elderly'\n",
        "\n",
        "  return cat\n",
        "\n",
        "# lambda 식에 위에서 생성한 get_category() 함수를 반환 값으로 지정\n",
        "# get_category(x)는 입력값으로 'Age' 칼럼 값을 받아서 해당하는 cat을 반환\n",
        "titanic_df['Age_Cat'] = titanic_df['Age'].apply(lambda x : get_category(x))\n",
        "titanic_df['Age_Cat'].value_counts()"
      ],
      "execution_count": 5,
      "outputs": [
        {
          "output_type": "execute_result",
          "data": {
            "text/plain": [
              "Elderly        199\n",
              "Yound Adult    196\n",
              "Adult          195\n",
              "Student        162\n",
              "Teenager        70\n",
              "Baby            44\n",
              "Child           25\n",
              "Name: Age_Cat, dtype: int64"
            ]
          },
          "metadata": {},
          "execution_count": 5
        }
      ]
    }
  ]
}