{
  "nbformat": 4,
  "nbformat_minor": 0,
  "metadata": {
    "colab": {
      "name": "Numpy_3_matrix_sort_operations.ipynb",
      "provenance": [],
      "authorship_tag": "ABX9TyOlodzW/2qYxDbfRNGOpHbz"
    },
    "kernelspec": {
      "name": "python3",
      "display_name": "Python 3"
    },
    "language_info": {
      "name": "python"
    }
  },
  "cells": [
    {
      "cell_type": "markdown",
      "metadata": {
        "id": "JvLsYM06-crU"
      },
      "source": [
        "Source : 파이썬 머신러닝 완벽 가이드(권철민, 위키북스)"
      ]
    },
    {
      "cell_type": "markdown",
      "metadata": {
        "id": "C7Tg2Zk--fdH"
      },
      "source": [
        "# Numpy  \n",
        "> **Numpy**  \n",
        "Numerical Python을 의미하는 Numpy는 파이썬에서 선형대수 기반의 프로그램을 쉽게 만들 수 있도록 지원하는 대표적인 패키지이다.   \n",
        "\n",
        "- Numpy를 이해하는 것은 파이썬 기반의 머신러닝에서 매우 중요하다.   \n",
        "1. 많은 머신러닝 알고리즘이 넘파이 기반으로 작성돼 있고, 이들 알고리즘의 입력 및 출력 데이터를 넘파이 배열 타입으로 사용하기 때문\n",
        "2. 넘파이가 배열을 다루는 기본 방식을 이해하면 판다스 등 다른 데이터 핸들링 패키지를 이해하는 데에도 많은 도움이 됨"
      ]
    },
    {
      "cell_type": "markdown",
      "metadata": {
        "id": "NfOuHjf--go1"
      },
      "source": [
        "## 6. 행렬의 정렬 : sort(), argsort()  \n"
      ]
    },
    {
      "cell_type": "markdown",
      "metadata": {
        "id": "DSHNcTTV-9A5"
      },
      "source": [
        "### 6-1. 행렬 정렬  \n",
        "- **np.sort()**  \n",
        ": 원 행렬은 그대로 유지한 채 원 행렬의 정렬된 행렬을 반환  \n",
        "default는 행렬 내 원소를 오름차순으로 정렬, 내림차순으로 정렬하려면 `[::-1]`을 적용\n",
        "\n",
        "- **ndarray.sort()**  \n",
        ": 원 행렬 자체를 정렬한 형태로 변환, 반환 값은 None  \n",
        "default는 행렬 내 원소를 오름차순으로 정렬, 내림차순으로 정렬하려면 `[::-1]`을 적용\n",
        "\n",
        "#### 다차원 행렬의 정렬  \n",
        "axis 축 값 설정을 통해 row 방향, 혹은 column 방향으로 정렬을 수행  \n",
        "(예시) 2차원 행렬 A  \n",
        "- np.sort(A, axis=0) : 로우 방향으로 정렬  \n",
        "- np.sort(A, axis=1) : 컬럼 방향으로 정렬"
      ]
    },
    {
      "cell_type": "code",
      "metadata": {
        "colab": {
          "base_uri": "https://localhost:8080/"
        },
        "id": "b4xjtZf99_N9",
        "outputId": "015e4b0c-9732-4eda-bb0f-7abeca50ce46"
      },
      "source": [
        "import numpy as np\n",
        "\n",
        "# 정렬되지 않은 원본 행렬 생성\n",
        "array_org = np.array([3, 1, 9, 5])\n",
        "print('원본 행렬: ', array_org)\n",
        "\n",
        "# np.sort()로 정렬\n",
        "sort_array1 = np.sort(array_org)\n",
        "print('np.sort() 호출 후 반환된 정렬 행렬: ', sort_array1)\n",
        "print('np.sort() 호출 후 원본 행렬: ', array_org)\n",
        "\n",
        "# ndarray.sort()로 정렬\n",
        "sort_array2 = array_org.sort()\n",
        "print('ndarray.sort() 호출 후 반환된 정렬 행렬: ', sort_array2)\n",
        "print('ndarray.sort() 호출 후 원본 행렬: ', array_org)"
      ],
      "execution_count": 1,
      "outputs": [
        {
          "output_type": "stream",
          "name": "stdout",
          "text": [
            "원본 행렬:  [3 1 9 5]\n",
            "np.sort() 호출 후 반환된 정렬 행렬:  [1 3 5 9]\n",
            "np.sort() 호출 후 원본 행렬:  [3 1 9 5]\n",
            "ndarray.sort() 호출 후 반환된 정렬 행렬:  None\n",
            "ndarray.sort() 호출 후 원본 행렬:  [1 3 5 9]\n"
          ]
        }
      ]
    },
    {
      "cell_type": "code",
      "metadata": {
        "colab": {
          "base_uri": "https://localhost:8080/"
        },
        "id": "VnvLZz05_7uj",
        "outputId": "d9d81920-0bbd-4dbd-b5c5-31cabf0208be"
      },
      "source": [
        "# 내림차순으로 정렬\n",
        "sort_array1_desc = np.sort(array_org)[::-1]\n",
        "print('내림차순으로 정렬: ', sort_array1_desc)"
      ],
      "execution_count": 2,
      "outputs": [
        {
          "output_type": "stream",
          "name": "stdout",
          "text": [
            "내림차순으로 정렬:  [9 5 3 1]\n"
          ]
        }
      ]
    },
    {
      "cell_type": "code",
      "metadata": {
        "colab": {
          "base_uri": "https://localhost:8080/"
        },
        "id": "J5-4M_-FA3z9",
        "outputId": "bf78a84c-7dc0-4d0c-88d8-7e28873e3c54"
      },
      "source": [
        "# 2차원 행렬 생성\n",
        "array2d = np.array([[8, 12],\n",
        "                    [7, 1]])\n",
        "print('2차원 원본 행렬:\\n', array2d)\n",
        "\n",
        "# axis 0 (로우 방향) 정렬\n",
        "sort_array2d_axis0 = np.sort(array2d, axis=0)\n",
        "print('axis 0 방향으로 정렬:\\n', sort_array2d_axis0)\n",
        "\n",
        "# axis1 (칼럼 방향) 정렬\n",
        "sort_array2d_axis1 = np.sort(array2d, axis=1)\n",
        "print('axis 1 방향으로 정렬:\\n', sort_array2d_axis1)"
      ],
      "execution_count": 3,
      "outputs": [
        {
          "output_type": "stream",
          "name": "stdout",
          "text": [
            "2차원 원본 행렬:\n",
            " [[ 8 12]\n",
            " [ 7  1]]\n",
            "axis 0 방향으로 정렬:\n",
            " [[ 7  1]\n",
            " [ 8 12]]\n",
            "axis 1 방향으로 정렬:\n",
            " [[ 8 12]\n",
            " [ 1  7]]\n"
          ]
        }
      ]
    },
    {
      "cell_type": "markdown",
      "metadata": {
        "id": "ZMen8QvvCPuL"
      },
      "source": [
        "### 6-2. 정렬된 행렬의 인덱스를 반환하기  \n",
        "\n",
        "- **np.argsort()**  \n",
        ": 원본 행렬이 정렬되었을 때 기존 원본 행렬 인덱스를 ndarray 형으로 반환  \n",
        "default는 행렬 내 원소를 오름차순으로 정렬, 내림차순으로 정렬하려면 [::-1]을 적용  \n",
        "\n",
        "*ndarray에서 argsort()의 활용도가 매우 높다.*  \n",
        "넘파이의 ndarray는 판다스 DataFrame 칼럼과 같은 메타 데이터를 가질 수 없으므로, 실제 값과 그 값이 뜻하는 메타 데이터를 별도의 ndarray로 각각 가져야 한다.  \n",
        "예를 들어, 학생별 시험 성적을 데이터로 표현하기 위해서는 학생의 이름과 시험 성적을 name_array, score_array와 같이 각각의 ndarray로 가져야 한다.  \n",
        "이때 시험 성적순으로 학생 이름을 출력하고자 한다면 np.argsort(score_array)를 이용해 변환된 인덱스를 name_array[]에 넣어 팬시 인덱싱으로 추출할 수 있다."
      ]
    },
    {
      "cell_type": "code",
      "metadata": {
        "colab": {
          "base_uri": "https://localhost:8080/"
        },
        "id": "QX48A-avBl_D",
        "outputId": "56a3e58a-47c4-49d0-baca-372538ce6e96"
      },
      "source": [
        "# 정렬된 행렬의 원본 인덱스 반환\n",
        "array_org = np.array([3, 1, 9, 5])\n",
        "sort_indices = np.argsort(array_org)\n",
        "print(type(sort_indices))\n",
        "print('행렬 정렬 시 원본 행렬의 인덱스: ', sort_indices)"
      ],
      "execution_count": 4,
      "outputs": [
        {
          "output_type": "stream",
          "name": "stdout",
          "text": [
            "<class 'numpy.ndarray'>\n",
            "행렬 정렬 시 원본 행렬의 인덱스:  [1 0 3 2]\n"
          ]
        }
      ]
    },
    {
      "cell_type": "code",
      "metadata": {
        "colab": {
          "base_uri": "https://localhost:8080/"
        },
        "id": "mVOeECnZDgBk",
        "outputId": "e4e33fcc-f0c3-4d81-9236-337b4c2148a4"
      },
      "source": [
        "# 내림차순 정렬 후 원본 인덱스 반환\n",
        "array_org = np.array([3, 1, 9, 5])\n",
        "sort_indices_desc = np.argsort(array_org)[::-1]\n",
        "print('행렬 내림차순 정렬 시 원본 행렬의 인덱스: ', sort_indices_desc)"
      ],
      "execution_count": 5,
      "outputs": [
        {
          "output_type": "stream",
          "name": "stdout",
          "text": [
            "행렬 내림차순 정렬 시 원본 행렬의 인덱스:  [2 3 0 1]\n"
          ]
        }
      ]
    },
    {
      "cell_type": "code",
      "metadata": {
        "colab": {
          "base_uri": "https://localhost:8080/"
        },
        "id": "XrRaT5jzEFto",
        "outputId": "f89259f2-9b6f-4c40-ee08-cb49e93b2521"
      },
      "source": [
        "# 학생 별 시험 성적\n",
        "import numpy as np\n",
        "\n",
        "name_array = np.array(['John', 'Mike', 'Sarah', 'Kate', 'Samuel'])\n",
        "score_array = np.array([78, 95, 84, 98, 88])\n",
        "\n",
        "# 성적순으로 학생 이름을 출력하기\n",
        "sort_indices_desc = np.argsort(score_array)[::-1]\n",
        "print('성적 내림차순 정렬 시 score_array의 인덱스: ', sort_indices_desc)\n",
        "print('성적 내림차순으로 name_array의 이름 출력: ', name_array[sort_indices_desc])"
      ],
      "execution_count": 6,
      "outputs": [
        {
          "output_type": "stream",
          "name": "stdout",
          "text": [
            "성적 내림차순 정렬 시 score_array의 인덱스:  [3 1 4 2 0]\n",
            "성적 내림차순으로 name_array의 이름 출력:  ['Kate' 'Mike' 'Samuel' 'Sarah' 'John']\n"
          ]
        }
      ]
    },
    {
      "cell_type": "markdown",
      "metadata": {
        "id": "0HPXUZfuHWOC"
      },
      "source": [
        "## 7. 선형대수 연산 : 행렬 내적과 전치 행렬 구하기"
      ]
    },
    {
      "cell_type": "markdown",
      "metadata": {
        "id": "n35_QXvPHZ_9"
      },
      "source": [
        "### 7-1. 행렬 내적(행렬 곱)  \n",
        "- **np.dot()** : 두 행렬의 내적 구하기  \n",
        "\n",
        "두 행렬 A와 B의 내적은 왼쪽 행렬의 로우(행)와 오른쪽 행렬의 칼럼(열)의 원소들은 순차적으로 곱한 뒤 그 결과를 모두 더한 값  \n",
        "따라서 왼쪽 행렬의 열 개수와 오른쪽 행렬의 행 개수가 동일해야 내적 연산이 가능함"
      ]
    },
    {
      "cell_type": "code",
      "metadata": {
        "colab": {
          "base_uri": "https://localhost:8080/"
        },
        "id": "F1--8vXdFf6M",
        "outputId": "7aa5f599-f2ea-4e86-b2c8-f66263e2baa5"
      },
      "source": [
        "# 행렬 내적 구하기\n",
        "A = np.array([[1, 2, 3],\n",
        "              [4, 5, 6]])\n",
        "\n",
        "B = np.array([[7, 8],\n",
        "              [9, 10], \n",
        "              [11, 12]])\n",
        "\n",
        "dot_product = np.dot(A, B)\n",
        "print('행렬 내적 결과:\\n', dot_product)"
      ],
      "execution_count": 7,
      "outputs": [
        {
          "output_type": "stream",
          "name": "stdout",
          "text": [
            "행렬 내적 결과:\n",
            " [[ 58  64]\n",
            " [139 154]]\n"
          ]
        }
      ]
    },
    {
      "cell_type": "markdown",
      "metadata": {
        "id": "OWLAndHFLQ1V"
      },
      "source": [
        "### 7-2. 전치 행렬  \n",
        "원 행렬에서 행과 열 위치를 교환한 원소로 구성한 행렬을 그 행렬의 전치 행렬이라고 한다.  \n",
        "예를 들어 2*2의 행렬 A가 있을 경우, A행렬의 1행2열의 원소를 2행1열의 원소로, 2행1열의 원소를 1행2열의 원소로 교환하는 것이다.  \n",
        "이때 행렬 A의 전치 행렬은 A^T와 같이 표기한다.  \n",
        "\n",
        "- **np.transport()** : 전치 행렬 구하기"
      ]
    },
    {
      "cell_type": "code",
      "metadata": {
        "colab": {
          "base_uri": "https://localhost:8080/"
        },
        "id": "KHtxGQ_hLOi2",
        "outputId": "2b5d498b-5fee-4730-bace-1859b2b33cfd"
      },
      "source": [
        "# 전치 행렬 구하기\n",
        "A = np.array([[1, 2],\n",
        "              [3, 4]])\n",
        "transpose_mat = np.transpose(A)\n",
        "print('A의 전치 행렬:\\n', transpose_mat)\n",
        "\n",
        "B = np.array([[1, 2],\n",
        "              [3, 4],\n",
        "              [5, 6]])\n",
        "transpose_mat2 = np.transpose(B)\n",
        "print('B의 전치 행렬:\\n', transpose_mat2)"
      ],
      "execution_count": 8,
      "outputs": [
        {
          "output_type": "stream",
          "name": "stdout",
          "text": [
            "A의 전치 행렬:\n",
            " [[1 3]\n",
            " [2 4]]\n",
            "B의 전치 행렬:\n",
            " [[1 3 5]\n",
            " [2 4 6]]\n"
          ]
        }
      ]
    }
  ]
}