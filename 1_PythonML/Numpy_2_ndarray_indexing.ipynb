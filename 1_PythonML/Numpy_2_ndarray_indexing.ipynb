{
  "nbformat": 4,
  "nbformat_minor": 0,
  "metadata": {
    "colab": {
      "name": "Numpy_2_ndarray_indexing.ipynb",
      "provenance": [],
      "collapsed_sections": [],
      "authorship_tag": "ABX9TyPWCphssCpXTFq+97/AjvfS"
    },
    "kernelspec": {
      "name": "python3",
      "display_name": "Python 3"
    },
    "language_info": {
      "name": "python"
    }
  },
  "cells": [
    {
      "cell_type": "markdown",
      "metadata": {
        "id": "uQwMYKf9JhZ9"
      },
      "source": [
        "Source : 파이썬 머신러닝 완벽 가이드(권철민, 위키북스)"
      ]
    },
    {
      "cell_type": "markdown",
      "metadata": {
        "id": "9j-VxNolJ7Yu"
      },
      "source": [
        "## 5. ndarray의 데이터 세트 선택하기 : Indexing  \n",
        "\n",
        "- **Indexing**  \n",
        "1. 단일 값 추출 : 원하는 위치의 인덱스 값을 지정하면 해당 위치의 데이터가 반환된다.  \n",
        "\n",
        "2. Slicing : Slicing은 연속된 인덱스상의 ndarray를 추출하는 방식이다. `:` 기호 사이에 시작 인덱스와 종료 인덱스를 표시하면 시작 인덱스에서 종료 인덱스의 -1 위치에 있는 데이터의 ndarray를 반환한다.  \n",
        "(예시) `1:5`라고 하면 시작 인덱스 1과 종료 인덱스 -1인 4까지에 해당하는 ndarray를 반환  \n",
        "\n",
        "3. Fancy Indexing : 일정한 인덱싱 집합을 리스트 또는 ndarray 형태로 지정해 해당 위치에 있는 데이터의 ndarray를 반환한다.  \n",
        "\n",
        "4. Boolean Indexing : 특정 조건에 해당하는지 여부인 True/False 값 인뎅싱 집합을 기반으로 True에 해당하는 인덱스 위치에 있는 데이터의 ndarray를 반환한다."
      ]
    },
    {
      "cell_type": "markdown",
      "metadata": {
        "id": "YvnTbxopO2Bw"
      },
      "source": [
        "### 5-1. 단일 값 추출  \n",
        "\n",
        "#### 1차원 ndarray에서 단일 값 추출하기  \n",
        "- **ndarray객체[위치 인덱스 값]**  \n",
        "\n",
        "*index에 - 기호를 이용하면 맨 뒤에서부터 데이터를 추출할 수 있다.*  \n",
        "인덱스 -1은 맨 뒤의 데이터 값을 의미하며, -2는 맨 뒤에서 두 번째에 있는 데이터 값이다.  \n",
        "  \n",
        "#### 다차원 ndarray에서 단일 값 추출하기  \n",
        "- **2차원 ndarray 객체[로우 위치 인덱스, 칼럼 위치 인덱스]**  \n",
        "\n",
        "- 다차원 ndarray의 axis(축) 개념  \n",
        ": 원래 넘파이 ndarray에서는 로우, 칼럼 개념을 사용하지 않고 axis 개념을 사용함  \n",
        "만약 축 기반의 연산에서 axis가 생략되면 axis 0을 의미함  \n",
        "  - axis 0 : row(행) 방향의 축\n",
        "  - axis 1 : column(열) 방향의 축\n",
        "  - axis 2 : depth(높이) 방향의 축\n"
      ]
    },
    {
      "cell_type": "code",
      "metadata": {
        "colab": {
          "base_uri": "https://localhost:8080/"
        },
        "id": "z66tuj6HLNJO",
        "outputId": "575ac710-4364-41ff-c2ec-8b827a6aca2a"
      },
      "source": [
        "import numpy as np\n",
        "\n",
        "# 1~9까지의 1차원 ndarray 생성\n",
        "array1 = np.arange(start=1, stop=10)\n",
        "print('array1: ', array1)\n",
        "\n",
        "# index는 0부터 시작하므로 array1[2]는 3번째 index 위치의 데이터 값을 의미\n",
        "print('array1[2]: ', array1[2])\n",
        "print('arary1[2]의 type: ', type(array1[2]))\n",
        "\n",
        "# index에 - 기호를 이용하여 맨 뒤에서부터 데이터 추출\n",
        "print('맨 뒤의 값: ', array1[-1])\n",
        "print('맨 뒤에서 두 번째 값: ', array1[-2])"
      ],
      "execution_count": 1,
      "outputs": [
        {
          "output_type": "stream",
          "name": "stdout",
          "text": [
            "array1:  [1 2 3 4 5 6 7 8 9]\n",
            "array1[2]:  3\n",
            "arary1[2]의 type:  <class 'numpy.int64'>\n",
            "맨 뒤의 값:  9\n",
            "맨 뒤에서 두 번째 값:  8\n"
          ]
        }
      ]
    },
    {
      "cell_type": "code",
      "metadata": {
        "colab": {
          "base_uri": "https://localhost:8080/"
        },
        "id": "2XBGpr_YPjix",
        "outputId": "22714df5-3601-444f-f627-68bae2025f99"
      },
      "source": [
        "# 단일 인덱스를 이용해서 ndarray 내의 데이터값 수정하기\n",
        "print('원래 array1: ', array1)\n",
        "\n",
        "array1[0] = 9\n",
        "array1[-1] = 0\n",
        "print('수정된 array1: ', array1)"
      ],
      "execution_count": 2,
      "outputs": [
        {
          "output_type": "stream",
          "name": "stdout",
          "text": [
            "원래 array1:  [1 2 3 4 5 6 7 8 9]\n",
            "수정된 array1:  [9 2 3 4 5 6 7 8 0]\n"
          ]
        }
      ]
    },
    {
      "cell_type": "code",
      "metadata": {
        "colab": {
          "base_uri": "https://localhost:8080/"
        },
        "id": "BvMdjl9nh9M3",
        "outputId": "008025d4-1a1c-45fc-d142-21c5e76b01c1"
      },
      "source": [
        "# 1차원 ndarray를 2차원으로 변환\n",
        "array1d = np.arange(start=1, stop=10)\n",
        "array2d = array1d.reshape((3, 3))\n",
        "print('array2d:\\n', array2d)\n",
        "\n",
        "# 2차원 ndarray에서의 단일 인덱싱\n",
        "print('(row=0, col=0) index가 가리키는 값: ', array2d[0, 0])\n",
        "print('(row=0, col=1) index가 가리키는 값: ', array2d[0, 1])\n",
        "print('(row=1, col=0) index가 가리키는 값: ', array2d[1, 0])\n",
        "print('(row=2, col=2) index가 가리키는 값: ', array2d[2, 2])"
      ],
      "execution_count": 3,
      "outputs": [
        {
          "output_type": "stream",
          "name": "stdout",
          "text": [
            "array2d:\n",
            " [[1 2 3]\n",
            " [4 5 6]\n",
            " [7 8 9]]\n",
            "(row=0, col=0) index가 가리키는 값:  1\n",
            "(row=0, col=1) index가 가리키는 값:  2\n",
            "(row=1, col=0) index가 가리키는 값:  4\n",
            "(row=2, col=2) index가 가리키는 값:  9\n"
          ]
        }
      ]
    },
    {
      "cell_type": "markdown",
      "metadata": {
        "id": "jCIBEZYXlsuo"
      },
      "source": [
        "### 5-2. Slicing  \n",
        "`:` 기호를 이용해 연속한 데이터를 슬라이싱해서 추출  \n",
        "이때, 슬라이싱으로 추출된 데이터 세트는 ndarray 타입  \n",
        "\n",
        "#### 1차원 ndarray에서 슬라이싱  \n",
        "- **ndarray[시작 인덱스:종료 인덱스]**  \n",
        "시작 인덱스에서 (종료 인덱스 -1)의 위치에 있는 데이터의 ndarray를 반환함  \n",
        "\n",
        "*슬라이싱 기호 `:` 앞/뒤에 있는 시작 인덱스와 종료 인덱스는 생략이 가능하다.*  \n",
        "  1. `:` 기호 앞에 시작 인덱스를 생략 : 자동으로 맨 처음 인덱스인 0으로 간주  \n",
        "  2. `:` 기호 뒤에 종료 인덱스를 생략 : 자동으로 맨 마지막 데이터까지 반환함\n",
        "  3. `:` 기호 앞/뒤에 시작/종료 인덱스를 모두 생략하면 자동으로 맨 처음부터 마지막 데이터를 모두 반환함  \n",
        "\n",
        "#### 다차원 ndarray에서 슬라이싱  \n",
        "1차원에서의 슬라이싱과 유사함  \n",
        "다만, `콤마(,)`로 구분된 로우와 칼럼 인덱스에 각각 슬라이싱을 적용\n",
        "- **2차원 ndarray[로우 시작 인덱스:종료 인덱스, 칼럼 시작 인덱스:종료 인덱스]**  \n",
        "\n",
        "2차원 ndarray에서 뒤에 오는 인덱스를 없애면 1차원 ndarray를 반환  \n",
        "3차원 ndarray에서 뒤에 오는 인덱스를 없애면 2차원 ndarray를 반환"
      ]
    },
    {
      "cell_type": "code",
      "metadata": {
        "colab": {
          "base_uri": "https://localhost:8080/"
        },
        "id": "fMKxlgKfja6K",
        "outputId": "945128ec-90f6-4c74-a8f3-09053b260ff4"
      },
      "source": [
        "# 1차원 ndarray에서 슬라이싱\n",
        "array1 = np.arange(start=1, stop=10)\n",
        "print('array1: ', array1)\n",
        "array2 = array1[0:3]\n",
        "print('array1에서 인덱스 값 0~2에 해당하는 데이터 추출: ', array2)\n",
        "print('슬라이싱으로 추출된 데이터 세트의 type: ', type(array2))"
      ],
      "execution_count": 4,
      "outputs": [
        {
          "output_type": "stream",
          "name": "stdout",
          "text": [
            "array1:  [1 2 3 4 5 6 7 8 9]\n",
            "array1에서 인덱스 값 0~2에 해당하는 데이터 추출:  [1 2 3]\n",
            "슬라이싱으로 추출된 데이터 세트의 type:  <class 'numpy.ndarray'>\n"
          ]
        }
      ]
    },
    {
      "cell_type": "code",
      "metadata": {
        "colab": {
          "base_uri": "https://localhost:8080/"
        },
        "id": "HAp9U12Fmbq_",
        "outputId": "c37b2886-7531-4c23-cb82-0c14e15b8b22"
      },
      "source": [
        "array1 = np.arange(start=1, stop=10)\n",
        "print('array1: ', array1)\n",
        "\n",
        "# 시작 인덱스 생략\n",
        "array3 = array1[:3]\n",
        "print(array3)\n",
        "\n",
        "# 종료 인덱스 생략\n",
        "array4 = array1[3:]\n",
        "print(array4)\n",
        "\n",
        "# 시작, 종료 인덱스 모두 생략\n",
        "array5 = array1[:]\n",
        "print(array5)"
      ],
      "execution_count": 5,
      "outputs": [
        {
          "output_type": "stream",
          "name": "stdout",
          "text": [
            "array1:  [1 2 3 4 5 6 7 8 9]\n",
            "[1 2 3]\n",
            "[4 5 6 7 8 9]\n",
            "[1 2 3 4 5 6 7 8 9]\n"
          ]
        }
      ]
    },
    {
      "cell_type": "code",
      "metadata": {
        "colab": {
          "base_uri": "https://localhost:8080/"
        },
        "id": "rFgkcpsxm34G",
        "outputId": "2b90f521-bf35-48eb-a1dc-32a98e5afd5a"
      },
      "source": [
        "# 2차원 ndarray 생성\n",
        "array1d = np.arange(start=1, stop=10)\n",
        "array2d = array1d.reshape((3, 3))\n",
        "print('array2d:\\n', array2d)\n",
        "\n",
        "# 2차원 ndarray에서 슬라이싱\n",
        "print('array2d[0:2, 0:2]: \\n', array2d[0:2, 0:2])\n",
        "print('array2d[1:3, 0:3]: \\n', array2d[1:3, 0:3])\n",
        "print('array2d[1:3, :]: \\n', array2d[1:3, :])\n",
        "print('array2d[:, :]: \\n', array2d[:, :])\n",
        "print('array2d[:2, 1:]: \\n', array2d[:2, 1:])\n",
        "print('array2d[:2, 0]: \\n', array2d[:2, 0])"
      ],
      "execution_count": 6,
      "outputs": [
        {
          "output_type": "stream",
          "name": "stdout",
          "text": [
            "array2d:\n",
            " [[1 2 3]\n",
            " [4 5 6]\n",
            " [7 8 9]]\n",
            "array2d[0:2, 0:2]: \n",
            " [[1 2]\n",
            " [4 5]]\n",
            "array2d[1:3, 0:3]: \n",
            " [[4 5 6]\n",
            " [7 8 9]]\n",
            "array2d[1:3, :]: \n",
            " [[4 5 6]\n",
            " [7 8 9]]\n",
            "array2d[:, :]: \n",
            " [[1 2 3]\n",
            " [4 5 6]\n",
            " [7 8 9]]\n",
            "array2d[:2, 1:]: \n",
            " [[2 3]\n",
            " [5 6]]\n",
            "array2d[:2, 0]: \n",
            " [1 4]\n"
          ]
        }
      ]
    },
    {
      "cell_type": "code",
      "metadata": {
        "colab": {
          "base_uri": "https://localhost:8080/"
        },
        "id": "FCbzwph_qgj8",
        "outputId": "31212c15-e762-4940-d388-f236489d0364"
      },
      "source": [
        "# 2차원 ndarray에서 axis 1에 해당하는 인덱스를 생략하면 axis 0 인덱스 값에 맞는 1차원 ndarray를 반환\n",
        "print('원래 array2d:\\n', array2d)\n",
        "print(array2d[0])\n",
        "print(array2d[1])\n",
        "print('array2d[0]의 shape: ', array2d[0].shape)\n",
        "print('array2d[1]의 shape: ', array2d[1].shape)"
      ],
      "execution_count": 7,
      "outputs": [
        {
          "output_type": "stream",
          "name": "stdout",
          "text": [
            "원래 array2d:\n",
            " [[1 2 3]\n",
            " [4 5 6]\n",
            " [7 8 9]]\n",
            "[1 2 3]\n",
            "[4 5 6]\n",
            "array2d[0]의 shape:  (3,)\n",
            "array2d[1]의 shape:  (3,)\n"
          ]
        }
      ]
    },
    {
      "cell_type": "markdown",
      "metadata": {
        "id": "8EoWekKfsbqa"
      },
      "source": [
        "### 5-3. Fancy Indexing  \n",
        "리스트나 ndarray로 인덱스 집합을 지정하면 해당 위치의 인덱스에 해당하는 ndarray를 반환  "
      ]
    },
    {
      "cell_type": "code",
      "metadata": {
        "colab": {
          "base_uri": "https://localhost:8080/"
        },
        "id": "DPZcPnH_r3d4",
        "outputId": "9d7f42b0-f422-4471-a222-6486ea3ded0e"
      },
      "source": [
        "array1d = np.arange(start=1, stop=10)\n",
        "array2d = array1d.reshape((3, 3))\n",
        "print('array2d:\\n', array2d)\n",
        "\n",
        "array6 = array2d[[0, 1], 2]\n",
        "print('array2d[[0, 1], 2] : ', array6)\n",
        "\n",
        "array7 = array2d[[0, 1], 0:2]\n",
        "print('array2d[[0, 1], 0:2] : \\n', array7)\n",
        "\n",
        "array8 = array2d[[0, 1]]\n",
        "print('array2d[[0, 1]] : \\n', array8)"
      ],
      "execution_count": 8,
      "outputs": [
        {
          "output_type": "stream",
          "name": "stdout",
          "text": [
            "array2d:\n",
            " [[1 2 3]\n",
            " [4 5 6]\n",
            " [7 8 9]]\n",
            "array2d[[0, 1], 2] :  [3 6]\n",
            "array2d[[0, 1], 0:2] : \n",
            " [[1 2]\n",
            " [4 5]]\n",
            "array2d[[0, 1]] : \n",
            " [[1 2 3]\n",
            " [4 5 6]]\n"
          ]
        }
      ]
    },
    {
      "cell_type": "markdown",
      "metadata": {
        "id": "a4PZdyesunOO"
      },
      "source": [
        "**위 코드에 대한 설명**  \n",
        "array2d[[0, 1], 2]는 로우 축에 팬시 인덱싱을 적용, 칼럼 축에는 단일 인덱싱을 적용함  \n",
        "(row, col) 인덱스가 각각 (0, 2), (1, 2)로 적용돼 [3 6]을 반환\n",
        "\n",
        "array2d[[0, 1], 0:2]는 ((0, 0), (0, 1)), ((1, 0), (1, 1)) 인덱스가 적용돼 [[1 2], [4 5]]를 반환\n",
        "\n",
        "array2d[[0, 1]]는 ((0, :), (1, :)) 인덱싱이 적용돼 [[1 2 3 ], [4 5 6]]을 반환"
      ]
    },
    {
      "cell_type": "markdown",
      "metadata": {
        "id": "uIsniyaLvr2U"
      },
      "source": [
        "### 5-4. Boolean Indexing \n",
        "조건 필터링과 검색을 동시에 할 수 있어서 자주 쓰이는 인덱싱 방식  \n",
        "\n",
        "- **ndarray[조건문]**  \n",
        ": 해당 조건을 만족하는 ndarray 데이터 세트를 반환"
      ]
    },
    {
      "cell_type": "code",
      "metadata": {
        "colab": {
          "base_uri": "https://localhost:8080/"
        },
        "id": "1_ianKuUteZi",
        "outputId": "a9974dfd-1fb8-49e3-a3dc-c0b39619a905"
      },
      "source": [
        "array1d = np.arange(start=1, stop=10)\n",
        "print('array1d:\\n', array1d)\n",
        "\n",
        "# []안에 array1d > 5의 조건문을 적음\n",
        "array9 = array1d[array1d > 5]\n",
        "print('array1d > 5 불린 인덱싱 결과 값: ', array9)"
      ],
      "execution_count": 9,
      "outputs": [
        {
          "output_type": "stream",
          "name": "stdout",
          "text": [
            "array1d:\n",
            " [1 2 3 4 5 6 7 8 9]\n",
            "array1d > 5 불린 인덱싱 결과 값:  [6 7 8 9]\n"
          ]
        }
      ]
    },
    {
      "cell_type": "code",
      "metadata": {
        "colab": {
          "base_uri": "https://localhost:8080/"
        },
        "id": "4AYx2drq69UZ",
        "outputId": "71cd3644-cdf3-419f-8b16-a70f3817c958"
      },
      "source": [
        "# ndarray 객체에 조건식 할당\n",
        "array1d > 5"
      ],
      "execution_count": 10,
      "outputs": [
        {
          "output_type": "execute_result",
          "data": {
            "text/plain": [
              "array([False, False, False, False, False,  True,  True,  True,  True])"
            ]
          },
          "metadata": {},
          "execution_count": 10
        }
      ]
    },
    {
      "cell_type": "code",
      "metadata": {
        "colab": {
          "base_uri": "https://localhost:8080/"
        },
        "id": "TmPTNpLg7FU9",
        "outputId": "5acac864-e4cd-432e-f01b-aa1049a8fa02"
      },
      "source": [
        "# 위와 동일한 boolean ndarray를 직접 만들어서 이를 array1d[] 내의 인덱스로 입력\n",
        "boolean_indexes = np.array([False, False, False, False, False, True, True, True, True])\n",
        "array10 = array1d[boolean_indexes]\n",
        "print('불린 인덱스로 필터링 결과: ', array10)"
      ],
      "execution_count": 11,
      "outputs": [
        {
          "output_type": "stream",
          "name": "stdout",
          "text": [
            "불린 인덱스로 필터링 결과:  [6 7 8 9]\n"
          ]
        }
      ]
    },
    {
      "cell_type": "code",
      "metadata": {
        "colab": {
          "base_uri": "https://localhost:8080/"
        },
        "id": "JGN5IH7g72q0",
        "outputId": "288c008d-7f03-4528-b1f9-3da11f821d8e"
      },
      "source": [
        "# 직접 인덱스 집합을 만들어서 이를 array1d[] 내의 인덱스로 입력\n",
        "indexes = np.array([5, 6, 7, 8])\n",
        "array11 = array1d[indexes]\n",
        "print('일반 인덱스로 필터링 결과: ', array11)"
      ],
      "execution_count": 12,
      "outputs": [
        {
          "output_type": "stream",
          "name": "stdout",
          "text": [
            "일반 인덱스로 필터링 결과:  [6 7 8 9]\n"
          ]
        }
      ]
    }
  ]
}