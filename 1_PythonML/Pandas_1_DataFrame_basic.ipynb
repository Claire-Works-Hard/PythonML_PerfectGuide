{
  "nbformat": 4,
  "nbformat_minor": 5,
  "metadata": {
    "kernelspec": {
      "display_name": "Python 3",
      "language": "python",
      "name": "python3"
    },
    "language_info": {
      "codemirror_mode": {
        "name": "ipython",
        "version": 3
      },
      "file_extension": ".py",
      "mimetype": "text/x-python",
      "name": "python",
      "nbconvert_exporter": "python",
      "pygments_lexer": "ipython3",
      "version": "3.8.8"
    },
    "toc": {
      "base_numbering": 1,
      "nav_menu": {},
      "number_sections": true,
      "sideBar": true,
      "skip_h1_title": false,
      "title_cell": "Table of Contents",
      "title_sidebar": "Contents",
      "toc_cell": false,
      "toc_position": {},
      "toc_section_display": true,
      "toc_window_display": false
    },
    "varInspector": {
      "cols": {
        "lenName": 16,
        "lenType": 16,
        "lenVar": 40
      },
      "kernels_config": {
        "python": {
          "delete_cmd_postfix": "",
          "delete_cmd_prefix": "del ",
          "library": "var_list.py",
          "varRefreshCmd": "print(var_dic_list())"
        },
        "r": {
          "delete_cmd_postfix": ") ",
          "delete_cmd_prefix": "rm(",
          "library": "var_list.r",
          "varRefreshCmd": "cat(var_dic_list()) "
        }
      },
      "types_to_exclude": [
        "module",
        "function",
        "builtin_function_or_method",
        "instance",
        "_Feature"
      ],
      "window_display": false
    },
    "colab": {
      "name": "Pandas_1_DataFrame_basic.ipynb",
      "provenance": [],
      "collapsed_sections": [
        "3K23SXQUJltj",
        "ap4J7trPJltl",
        "TuVFkYaeJltm",
        "Wyrq266IJlto",
        "CkYgOsbuJltp",
        "8I3BEVzbJltp",
        "CY6DHK9BJltr",
        "JM9mXeXyJltt"
      ]
    }
  },
  "cells": [
    {
      "cell_type": "markdown",
      "metadata": {
        "id": "HlBp2r3OJltL"
      },
      "source": [
        "Source : 파이썬 머신러닝 완벽 가이드(권철민, 위키북스)"
      ],
      "id": "HlBp2r3OJltL"
    },
    {
      "cell_type": "markdown",
      "metadata": {
        "id": "7y5gSYCdJltP"
      },
      "source": [
        "# Data Handling - Pandas  \n",
        "> **Pandas**  \n",
        "파이썬에서 데이터 핸들링을 가능하게 해주는 가장 인기 있는 라이브러리\n",
        "\n",
        "> **DataFrame**  \n",
        "DataFrame은 Pandas의 핵심 객체, DataFrame은 여러 개의 행과 열로 이루어진 2차원 데이터를 담는 데이터 구조체\n",
        "\n",
        "> **Index**  \n",
        "RDBMS의 PK처럼 개별 데이터를 고유하게 식별하는 Key 값\n",
        "\n",
        "> **Series**  \n",
        "칼럼이 하나뿐인 데이터 구조체  \n",
        "(cf) DataFrame은 칼럼이 여러 개인 데이터 구조체"
      ],
      "id": "7y5gSYCdJltP"
    },
    {
      "cell_type": "markdown",
      "metadata": {
        "id": "sXpDanpOJltQ"
      },
      "source": [
        "## 1. 파일을 DataFrame으로 로딩, 판다스 기본 API  \n",
        "\n",
        "### 1-1. 데이터 다운로드  \n",
        "Kaggle에서 타이타닉 탑승자 데이터 파일 내려받기  \n",
        "https://www.kaggle.com/c/titanic/data  \n",
        "train.csv를 Jupyter Notebook의 디렉터리로 titanic_train.csv라는 파일명으로 변경해서 내려받기  \n"
      ],
      "id": "sXpDanpOJltQ"
    },
    {
      "cell_type": "markdown",
      "metadata": {
        "id": "FkYSUn-EQiuF"
      },
      "source": [
        "### 1-2. DataFrame으로 로딩, 기본 정보 확인\n",
        "- **pd.read_csv(filepath, [sep=','])**  \n",
        ": 호출 시 파일명 인자로 들어온 파일을 로딩해 DataFrame 객체로 반환  \n",
        "별다른 파라미터 지정이 없을 경우 파일의 맨 처음 로우를 칼럼명으로 인지해서 칼럼으로 변환하며, 콤마로 분리된 데이터값들이 해당 칼럼에 맞게 할당됨  \n",
        "  - filepath : 로드하려는 데이터 파일의 경로를 포함한 파일명 입력  \n",
        "  - sep : 필드 구분 문자, default값은 콤마(`,`)로 할당됨  \n",
        "\n",
        "- **DataFrame.head()**  \n",
        ": DataFrame의 맨 앞에 있는 N개의 로우 반환, default는 5개  \n",
        "\n",
        "- **DataFrame.shape**  \n",
        ": DataFrame의 행과 열을 튜플 형태로 반환  \n",
        "\n",
        "- **DataFrame.info()**  \n",
        ": 총 데이터 건수(전체 row 수, column 수), 칼럼별 데이터 타입, Null 건수, 전체 칼럼의 타입 요약 등을 알려주는 메서드  \n",
        "\n",
        "- **DataFrame.describe()**  \n",
        ": 숫자 형 칼럼에 대한 개략적인 데이터 분포도를 확인 -> 머신러닝 성능 향상시키는 중요한 요소  \n",
        "  - count : Not Null인 데이터 건수  \n",
        "  - mean : 전체 데이터의 평균값  \n",
        "  - std : 표준편차  \n",
        "  - min : 최솟값\n",
        "  - max : 최댓값\n",
        "  - n-percentile : 25/50/75 percentile 값  \n",
        "\n",
        "- **DataFrame['칼럼명']**  \n",
        ": Series 형태로 특정 칼럼 데이터 세트가 반환됨\n",
        "\n",
        "- **DataFrame['칼럼명'].value_counts()**  \n",
        ": 해당 칼럼값의 유형과 건수를 반환, 데이터의 분포도를 확인하는 데 매우 유용한 함수  \n",
        "Series 객체만 value_counts() 메서드를 가짐"
      ],
      "id": "FkYSUn-EQiuF"
    },
    {
      "cell_type": "code",
      "metadata": {
        "ExecuteTime": {
          "end_time": "2021-09-28T11:13:31.454989Z",
          "start_time": "2021-09-28T11:13:30.961371Z"
        },
        "colab": {
          "base_uri": "https://localhost:8080/",
          "height": 436
        },
        "id": "jLTczC1AJltQ",
        "outputId": "92e82cff-8879-47dc-a5c1-fe49660ac941"
      },
      "source": [
        "import pandas as pd\n",
        "\n",
        "# 타이타닉 탐승자 데이터를 DataFrame으로 로딩\n",
        "titanic_df = pd.read_csv('titanic_train.csv')\n",
        "print('titanic_df 변수 type:', type(titanic_df))\n",
        "titanic_df"
      ],
      "id": "jLTczC1AJltQ",
      "execution_count": null,
      "outputs": [
        {
          "output_type": "stream",
          "name": "stdout",
          "text": [
            "titanic_df 변수 type: <class 'pandas.core.frame.DataFrame'>\n"
          ]
        },
        {
          "output_type": "execute_result",
          "data": {
            "text/html": [
              "<div>\n",
              "<style scoped>\n",
              "    .dataframe tbody tr th:only-of-type {\n",
              "        vertical-align: middle;\n",
              "    }\n",
              "\n",
              "    .dataframe tbody tr th {\n",
              "        vertical-align: top;\n",
              "    }\n",
              "\n",
              "    .dataframe thead th {\n",
              "        text-align: right;\n",
              "    }\n",
              "</style>\n",
              "<table border=\"1\" class=\"dataframe\">\n",
              "  <thead>\n",
              "    <tr style=\"text-align: right;\">\n",
              "      <th></th>\n",
              "      <th>PassengerId</th>\n",
              "      <th>Survived</th>\n",
              "      <th>Pclass</th>\n",
              "      <th>Name</th>\n",
              "      <th>Sex</th>\n",
              "      <th>Age</th>\n",
              "      <th>SibSp</th>\n",
              "      <th>Parch</th>\n",
              "      <th>Ticket</th>\n",
              "      <th>Fare</th>\n",
              "      <th>Cabin</th>\n",
              "      <th>Embarked</th>\n",
              "    </tr>\n",
              "  </thead>\n",
              "  <tbody>\n",
              "    <tr>\n",
              "      <th>0</th>\n",
              "      <td>1</td>\n",
              "      <td>0</td>\n",
              "      <td>3</td>\n",
              "      <td>Braund, Mr. Owen Harris</td>\n",
              "      <td>male</td>\n",
              "      <td>22.0</td>\n",
              "      <td>1</td>\n",
              "      <td>0</td>\n",
              "      <td>A/5 21171</td>\n",
              "      <td>7.2500</td>\n",
              "      <td>NaN</td>\n",
              "      <td>S</td>\n",
              "    </tr>\n",
              "    <tr>\n",
              "      <th>1</th>\n",
              "      <td>2</td>\n",
              "      <td>1</td>\n",
              "      <td>1</td>\n",
              "      <td>Cumings, Mrs. John Bradley (Florence Briggs Th...</td>\n",
              "      <td>female</td>\n",
              "      <td>38.0</td>\n",
              "      <td>1</td>\n",
              "      <td>0</td>\n",
              "      <td>PC 17599</td>\n",
              "      <td>71.2833</td>\n",
              "      <td>C85</td>\n",
              "      <td>C</td>\n",
              "    </tr>\n",
              "    <tr>\n",
              "      <th>2</th>\n",
              "      <td>3</td>\n",
              "      <td>1</td>\n",
              "      <td>3</td>\n",
              "      <td>Heikkinen, Miss. Laina</td>\n",
              "      <td>female</td>\n",
              "      <td>26.0</td>\n",
              "      <td>0</td>\n",
              "      <td>0</td>\n",
              "      <td>STON/O2. 3101282</td>\n",
              "      <td>7.9250</td>\n",
              "      <td>NaN</td>\n",
              "      <td>S</td>\n",
              "    </tr>\n",
              "    <tr>\n",
              "      <th>3</th>\n",
              "      <td>4</td>\n",
              "      <td>1</td>\n",
              "      <td>1</td>\n",
              "      <td>Futrelle, Mrs. Jacques Heath (Lily May Peel)</td>\n",
              "      <td>female</td>\n",
              "      <td>35.0</td>\n",
              "      <td>1</td>\n",
              "      <td>0</td>\n",
              "      <td>113803</td>\n",
              "      <td>53.1000</td>\n",
              "      <td>C123</td>\n",
              "      <td>S</td>\n",
              "    </tr>\n",
              "    <tr>\n",
              "      <th>4</th>\n",
              "      <td>5</td>\n",
              "      <td>0</td>\n",
              "      <td>3</td>\n",
              "      <td>Allen, Mr. William Henry</td>\n",
              "      <td>male</td>\n",
              "      <td>35.0</td>\n",
              "      <td>0</td>\n",
              "      <td>0</td>\n",
              "      <td>373450</td>\n",
              "      <td>8.0500</td>\n",
              "      <td>NaN</td>\n",
              "      <td>S</td>\n",
              "    </tr>\n",
              "    <tr>\n",
              "      <th>...</th>\n",
              "      <td>...</td>\n",
              "      <td>...</td>\n",
              "      <td>...</td>\n",
              "      <td>...</td>\n",
              "      <td>...</td>\n",
              "      <td>...</td>\n",
              "      <td>...</td>\n",
              "      <td>...</td>\n",
              "      <td>...</td>\n",
              "      <td>...</td>\n",
              "      <td>...</td>\n",
              "      <td>...</td>\n",
              "    </tr>\n",
              "    <tr>\n",
              "      <th>886</th>\n",
              "      <td>887</td>\n",
              "      <td>0</td>\n",
              "      <td>2</td>\n",
              "      <td>Montvila, Rev. Juozas</td>\n",
              "      <td>male</td>\n",
              "      <td>27.0</td>\n",
              "      <td>0</td>\n",
              "      <td>0</td>\n",
              "      <td>211536</td>\n",
              "      <td>13.0000</td>\n",
              "      <td>NaN</td>\n",
              "      <td>S</td>\n",
              "    </tr>\n",
              "    <tr>\n",
              "      <th>887</th>\n",
              "      <td>888</td>\n",
              "      <td>1</td>\n",
              "      <td>1</td>\n",
              "      <td>Graham, Miss. Margaret Edith</td>\n",
              "      <td>female</td>\n",
              "      <td>19.0</td>\n",
              "      <td>0</td>\n",
              "      <td>0</td>\n",
              "      <td>112053</td>\n",
              "      <td>30.0000</td>\n",
              "      <td>B42</td>\n",
              "      <td>S</td>\n",
              "    </tr>\n",
              "    <tr>\n",
              "      <th>888</th>\n",
              "      <td>889</td>\n",
              "      <td>0</td>\n",
              "      <td>3</td>\n",
              "      <td>Johnston, Miss. Catherine Helen \"Carrie\"</td>\n",
              "      <td>female</td>\n",
              "      <td>NaN</td>\n",
              "      <td>1</td>\n",
              "      <td>2</td>\n",
              "      <td>W./C. 6607</td>\n",
              "      <td>23.4500</td>\n",
              "      <td>NaN</td>\n",
              "      <td>S</td>\n",
              "    </tr>\n",
              "    <tr>\n",
              "      <th>889</th>\n",
              "      <td>890</td>\n",
              "      <td>1</td>\n",
              "      <td>1</td>\n",
              "      <td>Behr, Mr. Karl Howell</td>\n",
              "      <td>male</td>\n",
              "      <td>26.0</td>\n",
              "      <td>0</td>\n",
              "      <td>0</td>\n",
              "      <td>111369</td>\n",
              "      <td>30.0000</td>\n",
              "      <td>C148</td>\n",
              "      <td>C</td>\n",
              "    </tr>\n",
              "    <tr>\n",
              "      <th>890</th>\n",
              "      <td>891</td>\n",
              "      <td>0</td>\n",
              "      <td>3</td>\n",
              "      <td>Dooley, Mr. Patrick</td>\n",
              "      <td>male</td>\n",
              "      <td>32.0</td>\n",
              "      <td>0</td>\n",
              "      <td>0</td>\n",
              "      <td>370376</td>\n",
              "      <td>7.7500</td>\n",
              "      <td>NaN</td>\n",
              "      <td>Q</td>\n",
              "    </tr>\n",
              "  </tbody>\n",
              "</table>\n",
              "<p>891 rows × 12 columns</p>\n",
              "</div>"
            ],
            "text/plain": [
              "     PassengerId  Survived  Pclass  ...     Fare Cabin  Embarked\n",
              "0              1         0       3  ...   7.2500   NaN         S\n",
              "1              2         1       1  ...  71.2833   C85         C\n",
              "2              3         1       3  ...   7.9250   NaN         S\n",
              "3              4         1       1  ...  53.1000  C123         S\n",
              "4              5         0       3  ...   8.0500   NaN         S\n",
              "..           ...       ...     ...  ...      ...   ...       ...\n",
              "886          887         0       2  ...  13.0000   NaN         S\n",
              "887          888         1       1  ...  30.0000   B42         S\n",
              "888          889         0       3  ...  23.4500   NaN         S\n",
              "889          890         1       1  ...  30.0000  C148         C\n",
              "890          891         0       3  ...   7.7500   NaN         Q\n",
              "\n",
              "[891 rows x 12 columns]"
            ]
          },
          "metadata": {},
          "execution_count": 3
        }
      ]
    },
    {
      "cell_type": "code",
      "metadata": {
        "ExecuteTime": {
          "end_time": "2021-09-28T11:28:37.726635Z",
          "start_time": "2021-09-28T11:28:37.709886Z"
        },
        "colab": {
          "base_uri": "https://localhost:8080/",
          "height": 142
        },
        "id": "GKrTJMyPJltV",
        "outputId": "9ed87f31-7935-46fb-a43a-8b7f1a1d1894"
      },
      "source": [
        "# DataFrame의 맨 앞 3개의 로우를 반환\n",
        "titanic_df.head(3)"
      ],
      "id": "GKrTJMyPJltV",
      "execution_count": null,
      "outputs": [
        {
          "output_type": "execute_result",
          "data": {
            "text/html": [
              "<div>\n",
              "<style scoped>\n",
              "    .dataframe tbody tr th:only-of-type {\n",
              "        vertical-align: middle;\n",
              "    }\n",
              "\n",
              "    .dataframe tbody tr th {\n",
              "        vertical-align: top;\n",
              "    }\n",
              "\n",
              "    .dataframe thead th {\n",
              "        text-align: right;\n",
              "    }\n",
              "</style>\n",
              "<table border=\"1\" class=\"dataframe\">\n",
              "  <thead>\n",
              "    <tr style=\"text-align: right;\">\n",
              "      <th></th>\n",
              "      <th>PassengerId</th>\n",
              "      <th>Survived</th>\n",
              "      <th>Pclass</th>\n",
              "      <th>Name</th>\n",
              "      <th>Sex</th>\n",
              "      <th>Age</th>\n",
              "      <th>SibSp</th>\n",
              "      <th>Parch</th>\n",
              "      <th>Ticket</th>\n",
              "      <th>Fare</th>\n",
              "      <th>Cabin</th>\n",
              "      <th>Embarked</th>\n",
              "    </tr>\n",
              "  </thead>\n",
              "  <tbody>\n",
              "    <tr>\n",
              "      <th>0</th>\n",
              "      <td>1</td>\n",
              "      <td>0</td>\n",
              "      <td>3</td>\n",
              "      <td>Braund, Mr. Owen Harris</td>\n",
              "      <td>male</td>\n",
              "      <td>22.0</td>\n",
              "      <td>1</td>\n",
              "      <td>0</td>\n",
              "      <td>A/5 21171</td>\n",
              "      <td>7.2500</td>\n",
              "      <td>NaN</td>\n",
              "      <td>S</td>\n",
              "    </tr>\n",
              "    <tr>\n",
              "      <th>1</th>\n",
              "      <td>2</td>\n",
              "      <td>1</td>\n",
              "      <td>1</td>\n",
              "      <td>Cumings, Mrs. John Bradley (Florence Briggs Th...</td>\n",
              "      <td>female</td>\n",
              "      <td>38.0</td>\n",
              "      <td>1</td>\n",
              "      <td>0</td>\n",
              "      <td>PC 17599</td>\n",
              "      <td>71.2833</td>\n",
              "      <td>C85</td>\n",
              "      <td>C</td>\n",
              "    </tr>\n",
              "    <tr>\n",
              "      <th>2</th>\n",
              "      <td>3</td>\n",
              "      <td>1</td>\n",
              "      <td>3</td>\n",
              "      <td>Heikkinen, Miss. Laina</td>\n",
              "      <td>female</td>\n",
              "      <td>26.0</td>\n",
              "      <td>0</td>\n",
              "      <td>0</td>\n",
              "      <td>STON/O2. 3101282</td>\n",
              "      <td>7.9250</td>\n",
              "      <td>NaN</td>\n",
              "      <td>S</td>\n",
              "    </tr>\n",
              "  </tbody>\n",
              "</table>\n",
              "</div>"
            ],
            "text/plain": [
              "   PassengerId  Survived  Pclass  ...     Fare Cabin  Embarked\n",
              "0            1         0       3  ...   7.2500   NaN         S\n",
              "1            2         1       1  ...  71.2833   C85         C\n",
              "2            3         1       3  ...   7.9250   NaN         S\n",
              "\n",
              "[3 rows x 12 columns]"
            ]
          },
          "metadata": {},
          "execution_count": 4
        }
      ]
    },
    {
      "cell_type": "code",
      "metadata": {
        "ExecuteTime": {
          "end_time": "2021-09-28T11:30:41.606563Z",
          "start_time": "2021-09-28T11:30:41.600729Z"
        },
        "colab": {
          "base_uri": "https://localhost:8080/"
        },
        "id": "0LIYhfvIJltV",
        "outputId": "9d3acc4f-dfa4-4dca-bc00-5b3e39a751c1"
      },
      "source": [
        "# DataFrame의 행과 열 크기 알아보기\n",
        "titanic_df.shape"
      ],
      "id": "0LIYhfvIJltV",
      "execution_count": null,
      "outputs": [
        {
          "output_type": "execute_result",
          "data": {
            "text/plain": [
              "(891, 12)"
            ]
          },
          "metadata": {},
          "execution_count": 5
        }
      ]
    },
    {
      "cell_type": "code",
      "metadata": {
        "ExecuteTime": {
          "end_time": "2021-09-28T11:33:40.143763Z",
          "start_time": "2021-09-28T11:33:40.111915Z"
        },
        "colab": {
          "base_uri": "https://localhost:8080/"
        },
        "id": "IzJ5x44cJltW",
        "outputId": "ab9f5ed7-30c8-498a-94f0-864db20be7be"
      },
      "source": [
        "# 총 데이터 건수, 데이터 타입, Null 개수 등을 확인\n",
        "titanic_df.info()"
      ],
      "id": "IzJ5x44cJltW",
      "execution_count": null,
      "outputs": [
        {
          "output_type": "stream",
          "name": "stdout",
          "text": [
            "<class 'pandas.core.frame.DataFrame'>\n",
            "RangeIndex: 891 entries, 0 to 890\n",
            "Data columns (total 12 columns):\n",
            " #   Column       Non-Null Count  Dtype  \n",
            "---  ------       --------------  -----  \n",
            " 0   PassengerId  891 non-null    int64  \n",
            " 1   Survived     891 non-null    int64  \n",
            " 2   Pclass       891 non-null    int64  \n",
            " 3   Name         891 non-null    object \n",
            " 4   Sex          891 non-null    object \n",
            " 5   Age          714 non-null    float64\n",
            " 6   SibSp        891 non-null    int64  \n",
            " 7   Parch        891 non-null    int64  \n",
            " 8   Ticket       891 non-null    object \n",
            " 9   Fare         891 non-null    float64\n",
            " 10  Cabin        204 non-null    object \n",
            " 11  Embarked     889 non-null    object \n",
            "dtypes: float64(2), int64(5), object(5)\n",
            "memory usage: 83.7+ KB\n"
          ]
        }
      ]
    },
    {
      "cell_type": "code",
      "metadata": {
        "ExecuteTime": {
          "end_time": "2021-09-28T11:35:21.284224Z",
          "start_time": "2021-09-28T11:35:21.245512Z"
        },
        "colab": {
          "base_uri": "https://localhost:8080/",
          "height": 297
        },
        "id": "5rIc3ajCJltX",
        "outputId": "d8cff7bb-ebe9-4cb2-9062-77147e40c529"
      },
      "source": [
        "# 숫자 형 칼럼에 대한 개략적인 데이터 분포도 확인\n",
        "titanic_df.describe()"
      ],
      "id": "5rIc3ajCJltX",
      "execution_count": null,
      "outputs": [
        {
          "output_type": "execute_result",
          "data": {
            "text/html": [
              "<div>\n",
              "<style scoped>\n",
              "    .dataframe tbody tr th:only-of-type {\n",
              "        vertical-align: middle;\n",
              "    }\n",
              "\n",
              "    .dataframe tbody tr th {\n",
              "        vertical-align: top;\n",
              "    }\n",
              "\n",
              "    .dataframe thead th {\n",
              "        text-align: right;\n",
              "    }\n",
              "</style>\n",
              "<table border=\"1\" class=\"dataframe\">\n",
              "  <thead>\n",
              "    <tr style=\"text-align: right;\">\n",
              "      <th></th>\n",
              "      <th>PassengerId</th>\n",
              "      <th>Survived</th>\n",
              "      <th>Pclass</th>\n",
              "      <th>Age</th>\n",
              "      <th>SibSp</th>\n",
              "      <th>Parch</th>\n",
              "      <th>Fare</th>\n",
              "    </tr>\n",
              "  </thead>\n",
              "  <tbody>\n",
              "    <tr>\n",
              "      <th>count</th>\n",
              "      <td>891.000000</td>\n",
              "      <td>891.000000</td>\n",
              "      <td>891.000000</td>\n",
              "      <td>714.000000</td>\n",
              "      <td>891.000000</td>\n",
              "      <td>891.000000</td>\n",
              "      <td>891.000000</td>\n",
              "    </tr>\n",
              "    <tr>\n",
              "      <th>mean</th>\n",
              "      <td>446.000000</td>\n",
              "      <td>0.383838</td>\n",
              "      <td>2.308642</td>\n",
              "      <td>29.699118</td>\n",
              "      <td>0.523008</td>\n",
              "      <td>0.381594</td>\n",
              "      <td>32.204208</td>\n",
              "    </tr>\n",
              "    <tr>\n",
              "      <th>std</th>\n",
              "      <td>257.353842</td>\n",
              "      <td>0.486592</td>\n",
              "      <td>0.836071</td>\n",
              "      <td>14.526497</td>\n",
              "      <td>1.102743</td>\n",
              "      <td>0.806057</td>\n",
              "      <td>49.693429</td>\n",
              "    </tr>\n",
              "    <tr>\n",
              "      <th>min</th>\n",
              "      <td>1.000000</td>\n",
              "      <td>0.000000</td>\n",
              "      <td>1.000000</td>\n",
              "      <td>0.420000</td>\n",
              "      <td>0.000000</td>\n",
              "      <td>0.000000</td>\n",
              "      <td>0.000000</td>\n",
              "    </tr>\n",
              "    <tr>\n",
              "      <th>25%</th>\n",
              "      <td>223.500000</td>\n",
              "      <td>0.000000</td>\n",
              "      <td>2.000000</td>\n",
              "      <td>20.125000</td>\n",
              "      <td>0.000000</td>\n",
              "      <td>0.000000</td>\n",
              "      <td>7.910400</td>\n",
              "    </tr>\n",
              "    <tr>\n",
              "      <th>50%</th>\n",
              "      <td>446.000000</td>\n",
              "      <td>0.000000</td>\n",
              "      <td>3.000000</td>\n",
              "      <td>28.000000</td>\n",
              "      <td>0.000000</td>\n",
              "      <td>0.000000</td>\n",
              "      <td>14.454200</td>\n",
              "    </tr>\n",
              "    <tr>\n",
              "      <th>75%</th>\n",
              "      <td>668.500000</td>\n",
              "      <td>1.000000</td>\n",
              "      <td>3.000000</td>\n",
              "      <td>38.000000</td>\n",
              "      <td>1.000000</td>\n",
              "      <td>0.000000</td>\n",
              "      <td>31.000000</td>\n",
              "    </tr>\n",
              "    <tr>\n",
              "      <th>max</th>\n",
              "      <td>891.000000</td>\n",
              "      <td>1.000000</td>\n",
              "      <td>3.000000</td>\n",
              "      <td>80.000000</td>\n",
              "      <td>8.000000</td>\n",
              "      <td>6.000000</td>\n",
              "      <td>512.329200</td>\n",
              "    </tr>\n",
              "  </tbody>\n",
              "</table>\n",
              "</div>"
            ],
            "text/plain": [
              "       PassengerId    Survived      Pclass  ...       SibSp       Parch        Fare\n",
              "count   891.000000  891.000000  891.000000  ...  891.000000  891.000000  891.000000\n",
              "mean    446.000000    0.383838    2.308642  ...    0.523008    0.381594   32.204208\n",
              "std     257.353842    0.486592    0.836071  ...    1.102743    0.806057   49.693429\n",
              "min       1.000000    0.000000    1.000000  ...    0.000000    0.000000    0.000000\n",
              "25%     223.500000    0.000000    2.000000  ...    0.000000    0.000000    7.910400\n",
              "50%     446.000000    0.000000    3.000000  ...    0.000000    0.000000   14.454200\n",
              "75%     668.500000    1.000000    3.000000  ...    1.000000    0.000000   31.000000\n",
              "max     891.000000    1.000000    3.000000  ...    8.000000    6.000000  512.329200\n",
              "\n",
              "[8 rows x 7 columns]"
            ]
          },
          "metadata": {},
          "execution_count": 7
        }
      ]
    },
    {
      "cell_type": "code",
      "metadata": {
        "ExecuteTime": {
          "end_time": "2021-09-28T11:47:11.887157Z",
          "start_time": "2021-09-28T11:47:11.879928Z"
        },
        "colab": {
          "base_uri": "https://localhost:8080/"
        },
        "id": "rZH-QQXIJltY",
        "outputId": "94238c47-708e-4ecb-8189-87874c24fe58"
      },
      "source": [
        "# 숫자형 카테고리 칼럼인 Pclass 칼럼 데이터 값의 유형과 건수 확인\n",
        "titanic_df['Pclass'].value_counts()"
      ],
      "id": "rZH-QQXIJltY",
      "execution_count": null,
      "outputs": [
        {
          "output_type": "execute_result",
          "data": {
            "text/plain": [
              "3    491\n",
              "1    216\n",
              "2    184\n",
              "Name: Pclass, dtype: int64"
            ]
          },
          "metadata": {},
          "execution_count": 9
        }
      ]
    },
    {
      "cell_type": "code",
      "metadata": {
        "id": "Kn3Nu1xjJlti"
      },
      "source": [
        ""
      ],
      "id": "Kn3Nu1xjJlti",
      "execution_count": null,
      "outputs": []
    },
    {
      "cell_type": "markdown",
      "metadata": {
        "id": "u0jleiWsJltj"
      },
      "source": [
        "### 명칭(label) 기반 인덱싱과 위치(position) 기반 인덱싱의 구분"
      ],
      "id": "u0jleiWsJltj"
    },
    {
      "cell_type": "code",
      "metadata": {
        "ExecuteTime": {
          "end_time": "2021-09-28T15:04:50.413519Z",
          "start_time": "2021-09-28T15:04:50.410129Z"
        },
        "id": "yx8k6OKWJltj"
      },
      "source": [
        "#간단히 DataFrame 생성"
      ],
      "id": "yx8k6OKWJltj",
      "execution_count": null,
      "outputs": []
    },
    {
      "cell_type": "code",
      "metadata": {
        "ExecuteTime": {
          "end_time": "2021-09-29T00:25:35.504967Z",
          "start_time": "2021-09-29T00:25:35.050295Z"
        },
        "id": "LFN1VpPIJltj"
      },
      "source": [
        "import pandas as pd"
      ],
      "id": "LFN1VpPIJltj",
      "execution_count": null,
      "outputs": []
    },
    {
      "cell_type": "code",
      "metadata": {
        "ExecuteTime": {
          "end_time": "2021-09-29T00:25:38.233385Z",
          "start_time": "2021-09-29T00:25:38.205391Z"
        },
        "id": "So0IDCyJJltj",
        "outputId": "78fda5ae-6e9b-4154-be85-eb5332a2ec06"
      },
      "source": [
        "data = {'Name': ['Chulmin', 'Eunkyung', 'Jinwoong', 'Soobeom'],\n",
        "        'Year': [2011, 2016, 2015, 2015],\n",
        "        'Gender': ['Male', 'Female', 'Male', 'Male']\n",
        "       }\n",
        "data_df = pd.DataFrame(data, index=['one', 'two', 'three', 'four'])\n",
        "data_df"
      ],
      "id": "So0IDCyJJltj",
      "execution_count": null,
      "outputs": [
        {
          "output_type": "execute_result",
          "data": {
            "text/html": [
              "<div>\n",
              "<style scoped>\n",
              "    .dataframe tbody tr th:only-of-type {\n",
              "        vertical-align: middle;\n",
              "    }\n",
              "\n",
              "    .dataframe tbody tr th {\n",
              "        vertical-align: top;\n",
              "    }\n",
              "\n",
              "    .dataframe thead th {\n",
              "        text-align: right;\n",
              "    }\n",
              "</style>\n",
              "<table border=\"1\" class=\"dataframe\">\n",
              "  <thead>\n",
              "    <tr style=\"text-align: right;\">\n",
              "      <th></th>\n",
              "      <th>Name</th>\n",
              "      <th>Year</th>\n",
              "      <th>Gender</th>\n",
              "    </tr>\n",
              "  </thead>\n",
              "  <tbody>\n",
              "    <tr>\n",
              "      <th>one</th>\n",
              "      <td>Chulmin</td>\n",
              "      <td>2011</td>\n",
              "      <td>Male</td>\n",
              "    </tr>\n",
              "    <tr>\n",
              "      <th>two</th>\n",
              "      <td>Eunkyung</td>\n",
              "      <td>2016</td>\n",
              "      <td>Female</td>\n",
              "    </tr>\n",
              "    <tr>\n",
              "      <th>three</th>\n",
              "      <td>Jinwoong</td>\n",
              "      <td>2015</td>\n",
              "      <td>Male</td>\n",
              "    </tr>\n",
              "    <tr>\n",
              "      <th>four</th>\n",
              "      <td>Soobeom</td>\n",
              "      <td>2015</td>\n",
              "      <td>Male</td>\n",
              "    </tr>\n",
              "  </tbody>\n",
              "</table>\n",
              "</div>"
            ],
            "text/plain": [
              "           Name  Year  Gender\n",
              "one     Chulmin  2011    Male\n",
              "two    Eunkyung  2016  Female\n",
              "three  Jinwoong  2015    Male\n",
              "four    Soobeom  2015    Male"
            ]
          },
          "metadata": {},
          "execution_count": 3
        }
      ]
    },
    {
      "cell_type": "code",
      "metadata": {
        "ExecuteTime": {
          "end_time": "2021-09-29T00:25:55.163716Z",
          "start_time": "2021-09-29T00:25:55.152043Z"
        },
        "id": "x2o4-cK2Jltj",
        "outputId": "3624acc0-0e66-4ed3-bc83-a9913e757628"
      },
      "source": [
        "#data_df를 reset_index()로 새로운 숫자형 인덱스를 생성\n",
        "data_df_reset = data_df.reset_index()\n",
        "data_df_reset = data_df_reset.rename(columns={'index':'old_index'})\n",
        "data_df_reset"
      ],
      "id": "x2o4-cK2Jltj",
      "execution_count": null,
      "outputs": [
        {
          "output_type": "execute_result",
          "data": {
            "text/html": [
              "<div>\n",
              "<style scoped>\n",
              "    .dataframe tbody tr th:only-of-type {\n",
              "        vertical-align: middle;\n",
              "    }\n",
              "\n",
              "    .dataframe tbody tr th {\n",
              "        vertical-align: top;\n",
              "    }\n",
              "\n",
              "    .dataframe thead th {\n",
              "        text-align: right;\n",
              "    }\n",
              "</style>\n",
              "<table border=\"1\" class=\"dataframe\">\n",
              "  <thead>\n",
              "    <tr style=\"text-align: right;\">\n",
              "      <th></th>\n",
              "      <th>old_index</th>\n",
              "      <th>Name</th>\n",
              "      <th>Year</th>\n",
              "      <th>Gender</th>\n",
              "    </tr>\n",
              "  </thead>\n",
              "  <tbody>\n",
              "    <tr>\n",
              "      <th>0</th>\n",
              "      <td>one</td>\n",
              "      <td>Chulmin</td>\n",
              "      <td>2011</td>\n",
              "      <td>Male</td>\n",
              "    </tr>\n",
              "    <tr>\n",
              "      <th>1</th>\n",
              "      <td>two</td>\n",
              "      <td>Eunkyung</td>\n",
              "      <td>2016</td>\n",
              "      <td>Female</td>\n",
              "    </tr>\n",
              "    <tr>\n",
              "      <th>2</th>\n",
              "      <td>three</td>\n",
              "      <td>Jinwoong</td>\n",
              "      <td>2015</td>\n",
              "      <td>Male</td>\n",
              "    </tr>\n",
              "    <tr>\n",
              "      <th>3</th>\n",
              "      <td>four</td>\n",
              "      <td>Soobeom</td>\n",
              "      <td>2015</td>\n",
              "      <td>Male</td>\n",
              "    </tr>\n",
              "  </tbody>\n",
              "</table>\n",
              "</div>"
            ],
            "text/plain": [
              "  old_index      Name  Year  Gender\n",
              "0       one   Chulmin  2011    Male\n",
              "1       two  Eunkyung  2016  Female\n",
              "2     three  Jinwoong  2015    Male\n",
              "3      four   Soobeom  2015    Male"
            ]
          },
          "metadata": {},
          "execution_count": 4
        }
      ]
    },
    {
      "cell_type": "code",
      "metadata": {
        "ExecuteTime": {
          "end_time": "2021-09-29T00:25:58.054994Z",
          "start_time": "2021-09-29T00:25:58.044959Z"
        },
        "id": "2fn84rDJJltj",
        "outputId": "49ea9b51-1364-415a-a609-47164fb5aef5"
      },
      "source": [
        "#인덱스 값에 1을 더해서 1부터 시작하는 새로운 인덱스값 생성\n",
        "data_df_reset.index = data_df_reset.index + 1\n",
        "data_df_reset"
      ],
      "id": "2fn84rDJJltj",
      "execution_count": null,
      "outputs": [
        {
          "output_type": "execute_result",
          "data": {
            "text/html": [
              "<div>\n",
              "<style scoped>\n",
              "    .dataframe tbody tr th:only-of-type {\n",
              "        vertical-align: middle;\n",
              "    }\n",
              "\n",
              "    .dataframe tbody tr th {\n",
              "        vertical-align: top;\n",
              "    }\n",
              "\n",
              "    .dataframe thead th {\n",
              "        text-align: right;\n",
              "    }\n",
              "</style>\n",
              "<table border=\"1\" class=\"dataframe\">\n",
              "  <thead>\n",
              "    <tr style=\"text-align: right;\">\n",
              "      <th></th>\n",
              "      <th>old_index</th>\n",
              "      <th>Name</th>\n",
              "      <th>Year</th>\n",
              "      <th>Gender</th>\n",
              "    </tr>\n",
              "  </thead>\n",
              "  <tbody>\n",
              "    <tr>\n",
              "      <th>1</th>\n",
              "      <td>one</td>\n",
              "      <td>Chulmin</td>\n",
              "      <td>2011</td>\n",
              "      <td>Male</td>\n",
              "    </tr>\n",
              "    <tr>\n",
              "      <th>2</th>\n",
              "      <td>two</td>\n",
              "      <td>Eunkyung</td>\n",
              "      <td>2016</td>\n",
              "      <td>Female</td>\n",
              "    </tr>\n",
              "    <tr>\n",
              "      <th>3</th>\n",
              "      <td>three</td>\n",
              "      <td>Jinwoong</td>\n",
              "      <td>2015</td>\n",
              "      <td>Male</td>\n",
              "    </tr>\n",
              "    <tr>\n",
              "      <th>4</th>\n",
              "      <td>four</td>\n",
              "      <td>Soobeom</td>\n",
              "      <td>2015</td>\n",
              "      <td>Male</td>\n",
              "    </tr>\n",
              "  </tbody>\n",
              "</table>\n",
              "</div>"
            ],
            "text/plain": [
              "  old_index      Name  Year  Gender\n",
              "1       one   Chulmin  2011    Male\n",
              "2       two  Eunkyung  2016  Female\n",
              "3     three  Jinwoong  2015    Male\n",
              "4      four   Soobeom  2015    Male"
            ]
          },
          "metadata": {},
          "execution_count": 5
        }
      ]
    },
    {
      "cell_type": "markdown",
      "metadata": {
        "id": "3K23SXQUJltj"
      },
      "source": [
        "### DataFrame iloc[ ] 연산자"
      ],
      "id": "3K23SXQUJltj"
    },
    {
      "cell_type": "markdown",
      "metadata": {
        "id": "SLbcPr59Jltj"
      },
      "source": [
        "- **iloc[ ]은 위치 기반 인덱싱만 허용**  \n",
        "행과 열 값으로 integer 또는 integer 형의 슬라이싱, 팬시 리스트 값을 입력  \n",
        "불린 인덱싱은 제공하지 않음"
      ],
      "id": "SLbcPr59Jltj"
    },
    {
      "cell_type": "code",
      "metadata": {
        "ExecuteTime": {
          "end_time": "2021-09-28T15:17:52.693488Z",
          "start_time": "2021-09-28T15:17:52.690914Z"
        },
        "id": "FcOpcR9mJltk"
      },
      "source": [
        "#data_df에서 첫 번째 행, 첫 번째 열의 데이터 추출하기"
      ],
      "id": "FcOpcR9mJltk",
      "execution_count": null,
      "outputs": []
    },
    {
      "cell_type": "code",
      "metadata": {
        "ExecuteTime": {
          "end_time": "2021-09-28T15:15:14.874639Z",
          "start_time": "2021-09-28T15:15:14.869257Z"
        },
        "id": "uSv6taPFJltk",
        "outputId": "fde76970-b451-4254-d0ec-60345bff96ab"
      },
      "source": [
        "data_df.iloc[0,0]"
      ],
      "id": "uSv6taPFJltk",
      "execution_count": null,
      "outputs": [
        {
          "output_type": "execute_result",
          "data": {
            "text/plain": [
              "'Chulmin'"
            ]
          },
          "metadata": {},
          "execution_count": 91
        }
      ]
    },
    {
      "cell_type": "markdown",
      "metadata": {
        "id": "EkMmLrpAJltk"
      },
      "source": [
        "\n",
        "- iloc[ ]에 위치 인덱싱이 아닌 명칭을 입력하면 오류 발생"
      ],
      "id": "EkMmLrpAJltk"
    },
    {
      "cell_type": "code",
      "metadata": {
        "ExecuteTime": {
          "end_time": "2021-09-28T15:16:09.069450Z",
          "start_time": "2021-09-28T15:16:09.066722Z"
        },
        "id": "Kx9_hXT_Jltk"
      },
      "source": [
        "#data_df.iloc[0, 'Name']"
      ],
      "id": "Kx9_hXT_Jltk",
      "execution_count": null,
      "outputs": []
    },
    {
      "cell_type": "markdown",
      "metadata": {
        "id": "AypN1XHDJltk"
      },
      "source": [
        "- iloc[ ]에 문자열 인덱스를 행 위치에 입력해도 오류 발생"
      ],
      "id": "AypN1XHDJltk"
    },
    {
      "cell_type": "code",
      "metadata": {
        "ExecuteTime": {
          "end_time": "2021-09-28T15:16:44.258075Z",
          "start_time": "2021-09-28T15:16:44.255361Z"
        },
        "id": "FcC-GKf7Jltk"
      },
      "source": [
        "#data_df.iloc['one', 0]"
      ],
      "id": "FcC-GKf7Jltk",
      "execution_count": null,
      "outputs": []
    },
    {
      "cell_type": "code",
      "metadata": {
        "ExecuteTime": {
          "end_time": "2021-09-28T15:18:21.960192Z",
          "start_time": "2021-09-28T15:18:21.958097Z"
        },
        "id": "KebR4p8OJltk"
      },
      "source": [
        "#data_df_reset에서 iloc[0,1] 적용하기"
      ],
      "id": "KebR4p8OJltk",
      "execution_count": null,
      "outputs": []
    },
    {
      "cell_type": "code",
      "metadata": {
        "ExecuteTime": {
          "end_time": "2021-09-28T15:18:59.833203Z",
          "start_time": "2021-09-28T15:18:59.828867Z"
        },
        "id": "pJZPQKHyJltk",
        "outputId": "428ebe51-904a-4691-b700-ccb735dcf539"
      },
      "source": [
        "data_df_reset.iloc[0,1] #첫 번째 행, 두 번째 열 위치에 있는 값을 반환함"
      ],
      "id": "pJZPQKHyJltk",
      "execution_count": null,
      "outputs": [
        {
          "output_type": "execute_result",
          "data": {
            "text/plain": [
              "'Chulmin'"
            ]
          },
          "metadata": {},
          "execution_count": 98
        }
      ]
    },
    {
      "cell_type": "code",
      "metadata": {
        "id": "KOeAob51Jltk"
      },
      "source": [
        ""
      ],
      "id": "KOeAob51Jltk",
      "execution_count": null,
      "outputs": []
    },
    {
      "cell_type": "markdown",
      "metadata": {
        "id": "ap4J7trPJltl"
      },
      "source": [
        "### DataFrame loc[ ] 연산자"
      ],
      "id": "ap4J7trPJltl"
    },
    {
      "cell_type": "markdown",
      "metadata": {
        "id": "Ee5Tv8c0Jltl"
      },
      "source": [
        "- **loc[ ]은 명칭 기반으로 데이터를 추출**  \n",
        "행 위치에는 DataFrame index 값을, 열 위치에는 칼럼 명을 입력"
      ],
      "id": "Ee5Tv8c0Jltl"
    },
    {
      "cell_type": "code",
      "metadata": {
        "ExecuteTime": {
          "end_time": "2021-09-28T15:21:14.263660Z",
          "start_time": "2021-09-28T15:21:14.261200Z"
        },
        "id": "nj6T0oQnJltl"
      },
      "source": [
        "#인덱스 값이 'one'인 행의 칼럼 명이 'name'인 데이터 추출"
      ],
      "id": "nj6T0oQnJltl",
      "execution_count": null,
      "outputs": []
    },
    {
      "cell_type": "code",
      "metadata": {
        "ExecuteTime": {
          "end_time": "2021-09-29T00:26:22.818067Z",
          "start_time": "2021-09-29T00:26:22.812594Z"
        },
        "id": "PCIXE0fqJltl",
        "outputId": "3662a117-56f2-45d6-d0ae-6bdff9c6fb22"
      },
      "source": [
        "data_df.loc['one', 'Name']"
      ],
      "id": "PCIXE0fqJltl",
      "execution_count": null,
      "outputs": [
        {
          "output_type": "execute_result",
          "data": {
            "text/plain": [
              "'Chulmin'"
            ]
          },
          "metadata": {},
          "execution_count": 7
        }
      ]
    },
    {
      "cell_type": "code",
      "metadata": {
        "ExecuteTime": {
          "end_time": "2021-09-29T00:30:41.419047Z",
          "start_time": "2021-09-29T00:30:41.416444Z"
        },
        "id": "41aVBsDmJltl"
      },
      "source": [
        "#인덱스 값이 정수형인 경우"
      ],
      "id": "41aVBsDmJltl",
      "execution_count": null,
      "outputs": []
    },
    {
      "cell_type": "code",
      "metadata": {
        "ExecuteTime": {
          "end_time": "2021-09-29T00:30:43.551700Z",
          "start_time": "2021-09-29T00:30:43.546754Z"
        },
        "id": "xbUM6bCmJltl",
        "outputId": "3fa06344-df2d-4bcd-aca3-694f58d15246"
      },
      "source": [
        "data_df_reset.loc[1, 'Name']"
      ],
      "id": "xbUM6bCmJltl",
      "execution_count": null,
      "outputs": [
        {
          "output_type": "execute_result",
          "data": {
            "text/plain": [
              "'Chulmin'"
            ]
          },
          "metadata": {},
          "execution_count": 11
        }
      ]
    },
    {
      "cell_type": "code",
      "metadata": {
        "ExecuteTime": {
          "end_time": "2021-09-29T00:31:29.897540Z",
          "start_time": "2021-09-29T00:31:29.894742Z"
        },
        "id": "Lx1pCu1ZJltl"
      },
      "source": [
        "#data_df.loc[0, 'Name']은 오류 발생 : 인덱스값이 0인 행이 없기 때문"
      ],
      "id": "Lx1pCu1ZJltl",
      "execution_count": null,
      "outputs": []
    },
    {
      "cell_type": "markdown",
      "metadata": {
        "id": "v1hTaOn_Jltl"
      },
      "source": [
        "\n",
        "- loc[시작 값:종료 값] 슬라이싱을 적용하면 시작 값 ~ 종료 값까지 포함하는 것을 의미  \n",
        "명칭 기반 인덱싱의 특성 때문"
      ],
      "id": "v1hTaOn_Jltl"
    },
    {
      "cell_type": "code",
      "metadata": {
        "ExecuteTime": {
          "end_time": "2021-09-29T00:34:14.379513Z",
          "start_time": "2021-09-29T00:34:14.373560Z"
        },
        "id": "zWPZmgRKJltm",
        "outputId": "99e95761-900b-4ba7-dbf8-dad2cf750407"
      },
      "source": [
        "print('명칭 기반 loc slicing\\n', data_df.loc['one':'two', 'Name'])"
      ],
      "id": "zWPZmgRKJltm",
      "execution_count": null,
      "outputs": [
        {
          "output_type": "stream",
          "name": "stdout",
          "text": [
            "명칭 기반 loc slicing\n",
            " one     Chulmin\n",
            "two    Eunkyung\n",
            "Name: Name, dtype: object\n"
          ]
        }
      ]
    },
    {
      "cell_type": "code",
      "metadata": {
        "ExecuteTime": {
          "end_time": "2021-09-29T00:36:35.680802Z",
          "start_time": "2021-09-29T00:36:35.675779Z"
        },
        "id": "LdH1PcscJltm",
        "outputId": "68957eeb-0d40-4f6c-ba20-19f08ae1012e"
      },
      "source": [
        "print(data_df_reset.loc[1:2, 'Name']) #인덱스가 1,2인 2개의 데이터 반환"
      ],
      "id": "LdH1PcscJltm",
      "execution_count": null,
      "outputs": [
        {
          "output_type": "stream",
          "name": "stdout",
          "text": [
            "1     Chulmin\n",
            "2    Eunkyung\n",
            "Name: Name, dtype: object\n"
          ]
        }
      ]
    },
    {
      "cell_type": "markdown",
      "metadata": {
        "id": "TuVFkYaeJltm"
      },
      "source": [
        "### 불린 인덱싱"
      ],
      "id": "TuVFkYaeJltm"
    },
    {
      "cell_type": "markdown",
      "metadata": {
        "id": "-sqyC36tJltm"
      },
      "source": [
        "불린 인덱싱으로 처음부터 가져올 조건을 입력하면 자동으로 원하는 값을 필터링함  \n",
        "[ ], ix[ ], loc[ ]에서 지원"
      ],
      "id": "-sqyC36tJltm"
    },
    {
      "cell_type": "code",
      "metadata": {
        "ExecuteTime": {
          "end_time": "2021-09-29T02:21:54.163905Z",
          "start_time": "2021-09-29T02:21:54.160952Z"
        },
        "id": "meT5g1akJltm"
      },
      "source": [
        "#승객 중 나이(Age)가 60세 초과인 데이터 추출하기"
      ],
      "id": "meT5g1akJltm",
      "execution_count": null,
      "outputs": []
    },
    {
      "cell_type": "code",
      "metadata": {
        "ExecuteTime": {
          "end_time": "2021-09-29T02:22:00.198182Z",
          "start_time": "2021-09-29T02:22:00.173241Z"
        },
        "id": "y_xl589OJltm",
        "outputId": "ad60b9a4-ee1c-4098-c3c0-9267c371a389"
      },
      "source": [
        "titanic_df = pd.read_csv('titanic_train.csv')\n",
        "titanic_boolean = titanic_df[titanic_df['Age']>60]\n",
        "print(type(titanic_boolean))\n",
        "titanic_boolean      "
      ],
      "id": "y_xl589OJltm",
      "execution_count": null,
      "outputs": [
        {
          "output_type": "stream",
          "name": "stdout",
          "text": [
            "<class 'pandas.core.frame.DataFrame'>\n"
          ]
        },
        {
          "output_type": "execute_result",
          "data": {
            "text/html": [
              "<div>\n",
              "<style scoped>\n",
              "    .dataframe tbody tr th:only-of-type {\n",
              "        vertical-align: middle;\n",
              "    }\n",
              "\n",
              "    .dataframe tbody tr th {\n",
              "        vertical-align: top;\n",
              "    }\n",
              "\n",
              "    .dataframe thead th {\n",
              "        text-align: right;\n",
              "    }\n",
              "</style>\n",
              "<table border=\"1\" class=\"dataframe\">\n",
              "  <thead>\n",
              "    <tr style=\"text-align: right;\">\n",
              "      <th></th>\n",
              "      <th>PassengerId</th>\n",
              "      <th>Survived</th>\n",
              "      <th>Pclass</th>\n",
              "      <th>Name</th>\n",
              "      <th>Sex</th>\n",
              "      <th>Age</th>\n",
              "      <th>SibSp</th>\n",
              "      <th>Parch</th>\n",
              "      <th>Ticket</th>\n",
              "      <th>Fare</th>\n",
              "      <th>Cabin</th>\n",
              "      <th>Embarked</th>\n",
              "    </tr>\n",
              "  </thead>\n",
              "  <tbody>\n",
              "    <tr>\n",
              "      <th>33</th>\n",
              "      <td>34</td>\n",
              "      <td>0</td>\n",
              "      <td>2</td>\n",
              "      <td>Wheadon, Mr. Edward H</td>\n",
              "      <td>male</td>\n",
              "      <td>66.0</td>\n",
              "      <td>0</td>\n",
              "      <td>0</td>\n",
              "      <td>C.A. 24579</td>\n",
              "      <td>10.5000</td>\n",
              "      <td>NaN</td>\n",
              "      <td>S</td>\n",
              "    </tr>\n",
              "    <tr>\n",
              "      <th>54</th>\n",
              "      <td>55</td>\n",
              "      <td>0</td>\n",
              "      <td>1</td>\n",
              "      <td>Ostby, Mr. Engelhart Cornelius</td>\n",
              "      <td>male</td>\n",
              "      <td>65.0</td>\n",
              "      <td>0</td>\n",
              "      <td>1</td>\n",
              "      <td>113509</td>\n",
              "      <td>61.9792</td>\n",
              "      <td>B30</td>\n",
              "      <td>C</td>\n",
              "    </tr>\n",
              "    <tr>\n",
              "      <th>96</th>\n",
              "      <td>97</td>\n",
              "      <td>0</td>\n",
              "      <td>1</td>\n",
              "      <td>Goldschmidt, Mr. George B</td>\n",
              "      <td>male</td>\n",
              "      <td>71.0</td>\n",
              "      <td>0</td>\n",
              "      <td>0</td>\n",
              "      <td>PC 17754</td>\n",
              "      <td>34.6542</td>\n",
              "      <td>A5</td>\n",
              "      <td>C</td>\n",
              "    </tr>\n",
              "    <tr>\n",
              "      <th>116</th>\n",
              "      <td>117</td>\n",
              "      <td>0</td>\n",
              "      <td>3</td>\n",
              "      <td>Connors, Mr. Patrick</td>\n",
              "      <td>male</td>\n",
              "      <td>70.5</td>\n",
              "      <td>0</td>\n",
              "      <td>0</td>\n",
              "      <td>370369</td>\n",
              "      <td>7.7500</td>\n",
              "      <td>NaN</td>\n",
              "      <td>Q</td>\n",
              "    </tr>\n",
              "    <tr>\n",
              "      <th>170</th>\n",
              "      <td>171</td>\n",
              "      <td>0</td>\n",
              "      <td>1</td>\n",
              "      <td>Van der hoef, Mr. Wyckoff</td>\n",
              "      <td>male</td>\n",
              "      <td>61.0</td>\n",
              "      <td>0</td>\n",
              "      <td>0</td>\n",
              "      <td>111240</td>\n",
              "      <td>33.5000</td>\n",
              "      <td>B19</td>\n",
              "      <td>S</td>\n",
              "    </tr>\n",
              "    <tr>\n",
              "      <th>252</th>\n",
              "      <td>253</td>\n",
              "      <td>0</td>\n",
              "      <td>1</td>\n",
              "      <td>Stead, Mr. William Thomas</td>\n",
              "      <td>male</td>\n",
              "      <td>62.0</td>\n",
              "      <td>0</td>\n",
              "      <td>0</td>\n",
              "      <td>113514</td>\n",
              "      <td>26.5500</td>\n",
              "      <td>C87</td>\n",
              "      <td>S</td>\n",
              "    </tr>\n",
              "    <tr>\n",
              "      <th>275</th>\n",
              "      <td>276</td>\n",
              "      <td>1</td>\n",
              "      <td>1</td>\n",
              "      <td>Andrews, Miss. Kornelia Theodosia</td>\n",
              "      <td>female</td>\n",
              "      <td>63.0</td>\n",
              "      <td>1</td>\n",
              "      <td>0</td>\n",
              "      <td>13502</td>\n",
              "      <td>77.9583</td>\n",
              "      <td>D7</td>\n",
              "      <td>S</td>\n",
              "    </tr>\n",
              "    <tr>\n",
              "      <th>280</th>\n",
              "      <td>281</td>\n",
              "      <td>0</td>\n",
              "      <td>3</td>\n",
              "      <td>Duane, Mr. Frank</td>\n",
              "      <td>male</td>\n",
              "      <td>65.0</td>\n",
              "      <td>0</td>\n",
              "      <td>0</td>\n",
              "      <td>336439</td>\n",
              "      <td>7.7500</td>\n",
              "      <td>NaN</td>\n",
              "      <td>Q</td>\n",
              "    </tr>\n",
              "    <tr>\n",
              "      <th>326</th>\n",
              "      <td>327</td>\n",
              "      <td>0</td>\n",
              "      <td>3</td>\n",
              "      <td>Nysveen, Mr. Johan Hansen</td>\n",
              "      <td>male</td>\n",
              "      <td>61.0</td>\n",
              "      <td>0</td>\n",
              "      <td>0</td>\n",
              "      <td>345364</td>\n",
              "      <td>6.2375</td>\n",
              "      <td>NaN</td>\n",
              "      <td>S</td>\n",
              "    </tr>\n",
              "    <tr>\n",
              "      <th>438</th>\n",
              "      <td>439</td>\n",
              "      <td>0</td>\n",
              "      <td>1</td>\n",
              "      <td>Fortune, Mr. Mark</td>\n",
              "      <td>male</td>\n",
              "      <td>64.0</td>\n",
              "      <td>1</td>\n",
              "      <td>4</td>\n",
              "      <td>19950</td>\n",
              "      <td>263.0000</td>\n",
              "      <td>C23 C25 C27</td>\n",
              "      <td>S</td>\n",
              "    </tr>\n",
              "    <tr>\n",
              "      <th>456</th>\n",
              "      <td>457</td>\n",
              "      <td>0</td>\n",
              "      <td>1</td>\n",
              "      <td>Millet, Mr. Francis Davis</td>\n",
              "      <td>male</td>\n",
              "      <td>65.0</td>\n",
              "      <td>0</td>\n",
              "      <td>0</td>\n",
              "      <td>13509</td>\n",
              "      <td>26.5500</td>\n",
              "      <td>E38</td>\n",
              "      <td>S</td>\n",
              "    </tr>\n",
              "    <tr>\n",
              "      <th>483</th>\n",
              "      <td>484</td>\n",
              "      <td>1</td>\n",
              "      <td>3</td>\n",
              "      <td>Turkula, Mrs. (Hedwig)</td>\n",
              "      <td>female</td>\n",
              "      <td>63.0</td>\n",
              "      <td>0</td>\n",
              "      <td>0</td>\n",
              "      <td>4134</td>\n",
              "      <td>9.5875</td>\n",
              "      <td>NaN</td>\n",
              "      <td>S</td>\n",
              "    </tr>\n",
              "    <tr>\n",
              "      <th>493</th>\n",
              "      <td>494</td>\n",
              "      <td>0</td>\n",
              "      <td>1</td>\n",
              "      <td>Artagaveytia, Mr. Ramon</td>\n",
              "      <td>male</td>\n",
              "      <td>71.0</td>\n",
              "      <td>0</td>\n",
              "      <td>0</td>\n",
              "      <td>PC 17609</td>\n",
              "      <td>49.5042</td>\n",
              "      <td>NaN</td>\n",
              "      <td>C</td>\n",
              "    </tr>\n",
              "    <tr>\n",
              "      <th>545</th>\n",
              "      <td>546</td>\n",
              "      <td>0</td>\n",
              "      <td>1</td>\n",
              "      <td>Nicholson, Mr. Arthur Ernest</td>\n",
              "      <td>male</td>\n",
              "      <td>64.0</td>\n",
              "      <td>0</td>\n",
              "      <td>0</td>\n",
              "      <td>693</td>\n",
              "      <td>26.0000</td>\n",
              "      <td>NaN</td>\n",
              "      <td>S</td>\n",
              "    </tr>\n",
              "    <tr>\n",
              "      <th>555</th>\n",
              "      <td>556</td>\n",
              "      <td>0</td>\n",
              "      <td>1</td>\n",
              "      <td>Wright, Mr. George</td>\n",
              "      <td>male</td>\n",
              "      <td>62.0</td>\n",
              "      <td>0</td>\n",
              "      <td>0</td>\n",
              "      <td>113807</td>\n",
              "      <td>26.5500</td>\n",
              "      <td>NaN</td>\n",
              "      <td>S</td>\n",
              "    </tr>\n",
              "    <tr>\n",
              "      <th>570</th>\n",
              "      <td>571</td>\n",
              "      <td>1</td>\n",
              "      <td>2</td>\n",
              "      <td>Harris, Mr. George</td>\n",
              "      <td>male</td>\n",
              "      <td>62.0</td>\n",
              "      <td>0</td>\n",
              "      <td>0</td>\n",
              "      <td>S.W./PP 752</td>\n",
              "      <td>10.5000</td>\n",
              "      <td>NaN</td>\n",
              "      <td>S</td>\n",
              "    </tr>\n",
              "    <tr>\n",
              "      <th>625</th>\n",
              "      <td>626</td>\n",
              "      <td>0</td>\n",
              "      <td>1</td>\n",
              "      <td>Sutton, Mr. Frederick</td>\n",
              "      <td>male</td>\n",
              "      <td>61.0</td>\n",
              "      <td>0</td>\n",
              "      <td>0</td>\n",
              "      <td>36963</td>\n",
              "      <td>32.3208</td>\n",
              "      <td>D50</td>\n",
              "      <td>S</td>\n",
              "    </tr>\n",
              "    <tr>\n",
              "      <th>630</th>\n",
              "      <td>631</td>\n",
              "      <td>1</td>\n",
              "      <td>1</td>\n",
              "      <td>Barkworth, Mr. Algernon Henry Wilson</td>\n",
              "      <td>male</td>\n",
              "      <td>80.0</td>\n",
              "      <td>0</td>\n",
              "      <td>0</td>\n",
              "      <td>27042</td>\n",
              "      <td>30.0000</td>\n",
              "      <td>A23</td>\n",
              "      <td>S</td>\n",
              "    </tr>\n",
              "    <tr>\n",
              "      <th>672</th>\n",
              "      <td>673</td>\n",
              "      <td>0</td>\n",
              "      <td>2</td>\n",
              "      <td>Mitchell, Mr. Henry Michael</td>\n",
              "      <td>male</td>\n",
              "      <td>70.0</td>\n",
              "      <td>0</td>\n",
              "      <td>0</td>\n",
              "      <td>C.A. 24580</td>\n",
              "      <td>10.5000</td>\n",
              "      <td>NaN</td>\n",
              "      <td>S</td>\n",
              "    </tr>\n",
              "    <tr>\n",
              "      <th>745</th>\n",
              "      <td>746</td>\n",
              "      <td>0</td>\n",
              "      <td>1</td>\n",
              "      <td>Crosby, Capt. Edward Gifford</td>\n",
              "      <td>male</td>\n",
              "      <td>70.0</td>\n",
              "      <td>1</td>\n",
              "      <td>1</td>\n",
              "      <td>WE/P 5735</td>\n",
              "      <td>71.0000</td>\n",
              "      <td>B22</td>\n",
              "      <td>S</td>\n",
              "    </tr>\n",
              "    <tr>\n",
              "      <th>829</th>\n",
              "      <td>830</td>\n",
              "      <td>1</td>\n",
              "      <td>1</td>\n",
              "      <td>Stone, Mrs. George Nelson (Martha Evelyn)</td>\n",
              "      <td>female</td>\n",
              "      <td>62.0</td>\n",
              "      <td>0</td>\n",
              "      <td>0</td>\n",
              "      <td>113572</td>\n",
              "      <td>80.0000</td>\n",
              "      <td>B28</td>\n",
              "      <td>NaN</td>\n",
              "    </tr>\n",
              "    <tr>\n",
              "      <th>851</th>\n",
              "      <td>852</td>\n",
              "      <td>0</td>\n",
              "      <td>3</td>\n",
              "      <td>Svensson, Mr. Johan</td>\n",
              "      <td>male</td>\n",
              "      <td>74.0</td>\n",
              "      <td>0</td>\n",
              "      <td>0</td>\n",
              "      <td>347060</td>\n",
              "      <td>7.7750</td>\n",
              "      <td>NaN</td>\n",
              "      <td>S</td>\n",
              "    </tr>\n",
              "  </tbody>\n",
              "</table>\n",
              "</div>"
            ],
            "text/plain": [
              "     PassengerId  Survived  Pclass                                       Name  \\\n",
              "33            34         0       2                      Wheadon, Mr. Edward H   \n",
              "54            55         0       1             Ostby, Mr. Engelhart Cornelius   \n",
              "96            97         0       1                  Goldschmidt, Mr. George B   \n",
              "116          117         0       3                       Connors, Mr. Patrick   \n",
              "170          171         0       1                  Van der hoef, Mr. Wyckoff   \n",
              "252          253         0       1                  Stead, Mr. William Thomas   \n",
              "275          276         1       1          Andrews, Miss. Kornelia Theodosia   \n",
              "280          281         0       3                           Duane, Mr. Frank   \n",
              "326          327         0       3                  Nysveen, Mr. Johan Hansen   \n",
              "438          439         0       1                          Fortune, Mr. Mark   \n",
              "456          457         0       1                  Millet, Mr. Francis Davis   \n",
              "483          484         1       3                     Turkula, Mrs. (Hedwig)   \n",
              "493          494         0       1                    Artagaveytia, Mr. Ramon   \n",
              "545          546         0       1               Nicholson, Mr. Arthur Ernest   \n",
              "555          556         0       1                         Wright, Mr. George   \n",
              "570          571         1       2                         Harris, Mr. George   \n",
              "625          626         0       1                      Sutton, Mr. Frederick   \n",
              "630          631         1       1       Barkworth, Mr. Algernon Henry Wilson   \n",
              "672          673         0       2                Mitchell, Mr. Henry Michael   \n",
              "745          746         0       1               Crosby, Capt. Edward Gifford   \n",
              "829          830         1       1  Stone, Mrs. George Nelson (Martha Evelyn)   \n",
              "851          852         0       3                        Svensson, Mr. Johan   \n",
              "\n",
              "        Sex   Age  SibSp  Parch       Ticket      Fare        Cabin Embarked  \n",
              "33     male  66.0      0      0   C.A. 24579   10.5000          NaN        S  \n",
              "54     male  65.0      0      1       113509   61.9792          B30        C  \n",
              "96     male  71.0      0      0     PC 17754   34.6542           A5        C  \n",
              "116    male  70.5      0      0       370369    7.7500          NaN        Q  \n",
              "170    male  61.0      0      0       111240   33.5000          B19        S  \n",
              "252    male  62.0      0      0       113514   26.5500          C87        S  \n",
              "275  female  63.0      1      0        13502   77.9583           D7        S  \n",
              "280    male  65.0      0      0       336439    7.7500          NaN        Q  \n",
              "326    male  61.0      0      0       345364    6.2375          NaN        S  \n",
              "438    male  64.0      1      4        19950  263.0000  C23 C25 C27        S  \n",
              "456    male  65.0      0      0        13509   26.5500          E38        S  \n",
              "483  female  63.0      0      0         4134    9.5875          NaN        S  \n",
              "493    male  71.0      0      0     PC 17609   49.5042          NaN        C  \n",
              "545    male  64.0      0      0          693   26.0000          NaN        S  \n",
              "555    male  62.0      0      0       113807   26.5500          NaN        S  \n",
              "570    male  62.0      0      0  S.W./PP 752   10.5000          NaN        S  \n",
              "625    male  61.0      0      0        36963   32.3208          D50        S  \n",
              "630    male  80.0      0      0        27042   30.0000          A23        S  \n",
              "672    male  70.0      0      0   C.A. 24580   10.5000          NaN        S  \n",
              "745    male  70.0      1      1    WE/P 5735   71.0000          B22        S  \n",
              "829  female  62.0      0      0       113572   80.0000          B28      NaN  \n",
              "851    male  74.0      0      0       347060    7.7750          NaN        S  "
            ]
          },
          "metadata": {},
          "execution_count": 22
        }
      ]
    },
    {
      "cell_type": "code",
      "metadata": {
        "ExecuteTime": {
          "end_time": "2021-09-29T02:23:01.452632Z",
          "start_time": "2021-09-29T02:23:01.450092Z"
        },
        "id": "mzyJn6QvJltm"
      },
      "source": [
        "#60세가 넘는 승객의 이름과 나이만 추출하기"
      ],
      "id": "mzyJn6QvJltm",
      "execution_count": null,
      "outputs": []
    },
    {
      "cell_type": "code",
      "metadata": {
        "ExecuteTime": {
          "end_time": "2021-09-29T02:23:04.557230Z",
          "start_time": "2021-09-29T02:23:04.543584Z"
        },
        "id": "VOXb35Q8Jltn",
        "outputId": "74bbd5da-99d7-415f-ab87-d23123d59cdc"
      },
      "source": [
        "titanic_df[titanic_df['Age']>60][['Name', 'Age']]"
      ],
      "id": "VOXb35Q8Jltn",
      "execution_count": null,
      "outputs": [
        {
          "output_type": "execute_result",
          "data": {
            "text/html": [
              "<div>\n",
              "<style scoped>\n",
              "    .dataframe tbody tr th:only-of-type {\n",
              "        vertical-align: middle;\n",
              "    }\n",
              "\n",
              "    .dataframe tbody tr th {\n",
              "        vertical-align: top;\n",
              "    }\n",
              "\n",
              "    .dataframe thead th {\n",
              "        text-align: right;\n",
              "    }\n",
              "</style>\n",
              "<table border=\"1\" class=\"dataframe\">\n",
              "  <thead>\n",
              "    <tr style=\"text-align: right;\">\n",
              "      <th></th>\n",
              "      <th>Name</th>\n",
              "      <th>Age</th>\n",
              "    </tr>\n",
              "  </thead>\n",
              "  <tbody>\n",
              "    <tr>\n",
              "      <th>33</th>\n",
              "      <td>Wheadon, Mr. Edward H</td>\n",
              "      <td>66.0</td>\n",
              "    </tr>\n",
              "    <tr>\n",
              "      <th>54</th>\n",
              "      <td>Ostby, Mr. Engelhart Cornelius</td>\n",
              "      <td>65.0</td>\n",
              "    </tr>\n",
              "    <tr>\n",
              "      <th>96</th>\n",
              "      <td>Goldschmidt, Mr. George B</td>\n",
              "      <td>71.0</td>\n",
              "    </tr>\n",
              "    <tr>\n",
              "      <th>116</th>\n",
              "      <td>Connors, Mr. Patrick</td>\n",
              "      <td>70.5</td>\n",
              "    </tr>\n",
              "    <tr>\n",
              "      <th>170</th>\n",
              "      <td>Van der hoef, Mr. Wyckoff</td>\n",
              "      <td>61.0</td>\n",
              "    </tr>\n",
              "    <tr>\n",
              "      <th>252</th>\n",
              "      <td>Stead, Mr. William Thomas</td>\n",
              "      <td>62.0</td>\n",
              "    </tr>\n",
              "    <tr>\n",
              "      <th>275</th>\n",
              "      <td>Andrews, Miss. Kornelia Theodosia</td>\n",
              "      <td>63.0</td>\n",
              "    </tr>\n",
              "    <tr>\n",
              "      <th>280</th>\n",
              "      <td>Duane, Mr. Frank</td>\n",
              "      <td>65.0</td>\n",
              "    </tr>\n",
              "    <tr>\n",
              "      <th>326</th>\n",
              "      <td>Nysveen, Mr. Johan Hansen</td>\n",
              "      <td>61.0</td>\n",
              "    </tr>\n",
              "    <tr>\n",
              "      <th>438</th>\n",
              "      <td>Fortune, Mr. Mark</td>\n",
              "      <td>64.0</td>\n",
              "    </tr>\n",
              "    <tr>\n",
              "      <th>456</th>\n",
              "      <td>Millet, Mr. Francis Davis</td>\n",
              "      <td>65.0</td>\n",
              "    </tr>\n",
              "    <tr>\n",
              "      <th>483</th>\n",
              "      <td>Turkula, Mrs. (Hedwig)</td>\n",
              "      <td>63.0</td>\n",
              "    </tr>\n",
              "    <tr>\n",
              "      <th>493</th>\n",
              "      <td>Artagaveytia, Mr. Ramon</td>\n",
              "      <td>71.0</td>\n",
              "    </tr>\n",
              "    <tr>\n",
              "      <th>545</th>\n",
              "      <td>Nicholson, Mr. Arthur Ernest</td>\n",
              "      <td>64.0</td>\n",
              "    </tr>\n",
              "    <tr>\n",
              "      <th>555</th>\n",
              "      <td>Wright, Mr. George</td>\n",
              "      <td>62.0</td>\n",
              "    </tr>\n",
              "    <tr>\n",
              "      <th>570</th>\n",
              "      <td>Harris, Mr. George</td>\n",
              "      <td>62.0</td>\n",
              "    </tr>\n",
              "    <tr>\n",
              "      <th>625</th>\n",
              "      <td>Sutton, Mr. Frederick</td>\n",
              "      <td>61.0</td>\n",
              "    </tr>\n",
              "    <tr>\n",
              "      <th>630</th>\n",
              "      <td>Barkworth, Mr. Algernon Henry Wilson</td>\n",
              "      <td>80.0</td>\n",
              "    </tr>\n",
              "    <tr>\n",
              "      <th>672</th>\n",
              "      <td>Mitchell, Mr. Henry Michael</td>\n",
              "      <td>70.0</td>\n",
              "    </tr>\n",
              "    <tr>\n",
              "      <th>745</th>\n",
              "      <td>Crosby, Capt. Edward Gifford</td>\n",
              "      <td>70.0</td>\n",
              "    </tr>\n",
              "    <tr>\n",
              "      <th>829</th>\n",
              "      <td>Stone, Mrs. George Nelson (Martha Evelyn)</td>\n",
              "      <td>62.0</td>\n",
              "    </tr>\n",
              "    <tr>\n",
              "      <th>851</th>\n",
              "      <td>Svensson, Mr. Johan</td>\n",
              "      <td>74.0</td>\n",
              "    </tr>\n",
              "  </tbody>\n",
              "</table>\n",
              "</div>"
            ],
            "text/plain": [
              "                                          Name   Age\n",
              "33                       Wheadon, Mr. Edward H  66.0\n",
              "54              Ostby, Mr. Engelhart Cornelius  65.0\n",
              "96                   Goldschmidt, Mr. George B  71.0\n",
              "116                       Connors, Mr. Patrick  70.5\n",
              "170                  Van der hoef, Mr. Wyckoff  61.0\n",
              "252                  Stead, Mr. William Thomas  62.0\n",
              "275          Andrews, Miss. Kornelia Theodosia  63.0\n",
              "280                           Duane, Mr. Frank  65.0\n",
              "326                  Nysveen, Mr. Johan Hansen  61.0\n",
              "438                          Fortune, Mr. Mark  64.0\n",
              "456                  Millet, Mr. Francis Davis  65.0\n",
              "483                     Turkula, Mrs. (Hedwig)  63.0\n",
              "493                    Artagaveytia, Mr. Ramon  71.0\n",
              "545               Nicholson, Mr. Arthur Ernest  64.0\n",
              "555                         Wright, Mr. George  62.0\n",
              "570                         Harris, Mr. George  62.0\n",
              "625                      Sutton, Mr. Frederick  61.0\n",
              "630       Barkworth, Mr. Algernon Henry Wilson  80.0\n",
              "672                Mitchell, Mr. Henry Michael  70.0\n",
              "745               Crosby, Capt. Edward Gifford  70.0\n",
              "829  Stone, Mrs. George Nelson (Martha Evelyn)  62.0\n",
              "851                        Svensson, Mr. Johan  74.0"
            ]
          },
          "metadata": {},
          "execution_count": 26
        }
      ]
    },
    {
      "cell_type": "code",
      "metadata": {
        "ExecuteTime": {
          "end_time": "2021-09-29T02:23:37.708682Z",
          "start_time": "2021-09-29T02:23:37.706183Z"
        },
        "id": "onSeN-byJltn"
      },
      "source": [
        "#loc을 이용해서 동일한 결과 출력하기"
      ],
      "id": "onSeN-byJltn",
      "execution_count": null,
      "outputs": []
    },
    {
      "cell_type": "code",
      "metadata": {
        "ExecuteTime": {
          "end_time": "2021-09-29T02:25:53.792687Z",
          "start_time": "2021-09-29T02:25:53.779742Z"
        },
        "id": "cQNnjt72Jltn",
        "outputId": "7825dae2-a7e2-4cfd-e20f-87a495209463"
      },
      "source": [
        "titanic_df.loc[titanic_df['Age']>60, ['Name', 'Age']]"
      ],
      "id": "cQNnjt72Jltn",
      "execution_count": null,
      "outputs": [
        {
          "output_type": "execute_result",
          "data": {
            "text/html": [
              "<div>\n",
              "<style scoped>\n",
              "    .dataframe tbody tr th:only-of-type {\n",
              "        vertical-align: middle;\n",
              "    }\n",
              "\n",
              "    .dataframe tbody tr th {\n",
              "        vertical-align: top;\n",
              "    }\n",
              "\n",
              "    .dataframe thead th {\n",
              "        text-align: right;\n",
              "    }\n",
              "</style>\n",
              "<table border=\"1\" class=\"dataframe\">\n",
              "  <thead>\n",
              "    <tr style=\"text-align: right;\">\n",
              "      <th></th>\n",
              "      <th>Name</th>\n",
              "      <th>Age</th>\n",
              "    </tr>\n",
              "  </thead>\n",
              "  <tbody>\n",
              "    <tr>\n",
              "      <th>33</th>\n",
              "      <td>Wheadon, Mr. Edward H</td>\n",
              "      <td>66.0</td>\n",
              "    </tr>\n",
              "    <tr>\n",
              "      <th>54</th>\n",
              "      <td>Ostby, Mr. Engelhart Cornelius</td>\n",
              "      <td>65.0</td>\n",
              "    </tr>\n",
              "    <tr>\n",
              "      <th>96</th>\n",
              "      <td>Goldschmidt, Mr. George B</td>\n",
              "      <td>71.0</td>\n",
              "    </tr>\n",
              "    <tr>\n",
              "      <th>116</th>\n",
              "      <td>Connors, Mr. Patrick</td>\n",
              "      <td>70.5</td>\n",
              "    </tr>\n",
              "    <tr>\n",
              "      <th>170</th>\n",
              "      <td>Van der hoef, Mr. Wyckoff</td>\n",
              "      <td>61.0</td>\n",
              "    </tr>\n",
              "    <tr>\n",
              "      <th>252</th>\n",
              "      <td>Stead, Mr. William Thomas</td>\n",
              "      <td>62.0</td>\n",
              "    </tr>\n",
              "    <tr>\n",
              "      <th>275</th>\n",
              "      <td>Andrews, Miss. Kornelia Theodosia</td>\n",
              "      <td>63.0</td>\n",
              "    </tr>\n",
              "    <tr>\n",
              "      <th>280</th>\n",
              "      <td>Duane, Mr. Frank</td>\n",
              "      <td>65.0</td>\n",
              "    </tr>\n",
              "    <tr>\n",
              "      <th>326</th>\n",
              "      <td>Nysveen, Mr. Johan Hansen</td>\n",
              "      <td>61.0</td>\n",
              "    </tr>\n",
              "    <tr>\n",
              "      <th>438</th>\n",
              "      <td>Fortune, Mr. Mark</td>\n",
              "      <td>64.0</td>\n",
              "    </tr>\n",
              "    <tr>\n",
              "      <th>456</th>\n",
              "      <td>Millet, Mr. Francis Davis</td>\n",
              "      <td>65.0</td>\n",
              "    </tr>\n",
              "    <tr>\n",
              "      <th>483</th>\n",
              "      <td>Turkula, Mrs. (Hedwig)</td>\n",
              "      <td>63.0</td>\n",
              "    </tr>\n",
              "    <tr>\n",
              "      <th>493</th>\n",
              "      <td>Artagaveytia, Mr. Ramon</td>\n",
              "      <td>71.0</td>\n",
              "    </tr>\n",
              "    <tr>\n",
              "      <th>545</th>\n",
              "      <td>Nicholson, Mr. Arthur Ernest</td>\n",
              "      <td>64.0</td>\n",
              "    </tr>\n",
              "    <tr>\n",
              "      <th>555</th>\n",
              "      <td>Wright, Mr. George</td>\n",
              "      <td>62.0</td>\n",
              "    </tr>\n",
              "    <tr>\n",
              "      <th>570</th>\n",
              "      <td>Harris, Mr. George</td>\n",
              "      <td>62.0</td>\n",
              "    </tr>\n",
              "    <tr>\n",
              "      <th>625</th>\n",
              "      <td>Sutton, Mr. Frederick</td>\n",
              "      <td>61.0</td>\n",
              "    </tr>\n",
              "    <tr>\n",
              "      <th>630</th>\n",
              "      <td>Barkworth, Mr. Algernon Henry Wilson</td>\n",
              "      <td>80.0</td>\n",
              "    </tr>\n",
              "    <tr>\n",
              "      <th>672</th>\n",
              "      <td>Mitchell, Mr. Henry Michael</td>\n",
              "      <td>70.0</td>\n",
              "    </tr>\n",
              "    <tr>\n",
              "      <th>745</th>\n",
              "      <td>Crosby, Capt. Edward Gifford</td>\n",
              "      <td>70.0</td>\n",
              "    </tr>\n",
              "    <tr>\n",
              "      <th>829</th>\n",
              "      <td>Stone, Mrs. George Nelson (Martha Evelyn)</td>\n",
              "      <td>62.0</td>\n",
              "    </tr>\n",
              "    <tr>\n",
              "      <th>851</th>\n",
              "      <td>Svensson, Mr. Johan</td>\n",
              "      <td>74.0</td>\n",
              "    </tr>\n",
              "  </tbody>\n",
              "</table>\n",
              "</div>"
            ],
            "text/plain": [
              "                                          Name   Age\n",
              "33                       Wheadon, Mr. Edward H  66.0\n",
              "54              Ostby, Mr. Engelhart Cornelius  65.0\n",
              "96                   Goldschmidt, Mr. George B  71.0\n",
              "116                       Connors, Mr. Patrick  70.5\n",
              "170                  Van der hoef, Mr. Wyckoff  61.0\n",
              "252                  Stead, Mr. William Thomas  62.0\n",
              "275          Andrews, Miss. Kornelia Theodosia  63.0\n",
              "280                           Duane, Mr. Frank  65.0\n",
              "326                  Nysveen, Mr. Johan Hansen  61.0\n",
              "438                          Fortune, Mr. Mark  64.0\n",
              "456                  Millet, Mr. Francis Davis  65.0\n",
              "483                     Turkula, Mrs. (Hedwig)  63.0\n",
              "493                    Artagaveytia, Mr. Ramon  71.0\n",
              "545               Nicholson, Mr. Arthur Ernest  64.0\n",
              "555                         Wright, Mr. George  62.0\n",
              "570                         Harris, Mr. George  62.0\n",
              "625                      Sutton, Mr. Frederick  61.0\n",
              "630       Barkworth, Mr. Algernon Henry Wilson  80.0\n",
              "672                Mitchell, Mr. Henry Michael  70.0\n",
              "745               Crosby, Capt. Edward Gifford  70.0\n",
              "829  Stone, Mrs. George Nelson (Martha Evelyn)  62.0\n",
              "851                        Svensson, Mr. Johan  74.0"
            ]
          },
          "metadata": {},
          "execution_count": 30
        }
      ]
    },
    {
      "cell_type": "markdown",
      "metadata": {
        "id": "2QZKHgg9Jltn"
      },
      "source": [
        "\n",
        "- 여러 개의 복합 조건을 결합해 적용하기 : 개별 조건은 ( )로 묶고, 복합 조건 연산자를 사용한다.\n",
        "1. and 조건일 때는 &\n",
        "2. or 조건일 때는 |\n",
        "3. Not 조건일 때는 ~"
      ],
      "id": "2QZKHgg9Jltn"
    },
    {
      "cell_type": "code",
      "metadata": {
        "ExecuteTime": {
          "end_time": "2021-09-29T02:29:30.103280Z",
          "start_time": "2021-09-29T02:29:30.100697Z"
        },
        "id": "TYcWJWMVJltn"
      },
      "source": [
        "#나이가 60세를 넘고, 선실 등급이 1등급이며, 성별이 여성인 승객 추출하기"
      ],
      "id": "TYcWJWMVJltn",
      "execution_count": null,
      "outputs": []
    },
    {
      "cell_type": "code",
      "metadata": {
        "ExecuteTime": {
          "end_time": "2021-09-29T02:30:34.405191Z",
          "start_time": "2021-09-29T02:30:34.389312Z"
        },
        "id": "aohPU4r7Jltn",
        "outputId": "da86be5c-ead8-4a23-d772-3f107d00ac6b"
      },
      "source": [
        "titanic_df[(titanic_df['Age']>60)&(titanic_df['Pclass']==1)&(titanic_df['Sex']=='female')]"
      ],
      "id": "aohPU4r7Jltn",
      "execution_count": null,
      "outputs": [
        {
          "output_type": "execute_result",
          "data": {
            "text/html": [
              "<div>\n",
              "<style scoped>\n",
              "    .dataframe tbody tr th:only-of-type {\n",
              "        vertical-align: middle;\n",
              "    }\n",
              "\n",
              "    .dataframe tbody tr th {\n",
              "        vertical-align: top;\n",
              "    }\n",
              "\n",
              "    .dataframe thead th {\n",
              "        text-align: right;\n",
              "    }\n",
              "</style>\n",
              "<table border=\"1\" class=\"dataframe\">\n",
              "  <thead>\n",
              "    <tr style=\"text-align: right;\">\n",
              "      <th></th>\n",
              "      <th>PassengerId</th>\n",
              "      <th>Survived</th>\n",
              "      <th>Pclass</th>\n",
              "      <th>Name</th>\n",
              "      <th>Sex</th>\n",
              "      <th>Age</th>\n",
              "      <th>SibSp</th>\n",
              "      <th>Parch</th>\n",
              "      <th>Ticket</th>\n",
              "      <th>Fare</th>\n",
              "      <th>Cabin</th>\n",
              "      <th>Embarked</th>\n",
              "    </tr>\n",
              "  </thead>\n",
              "  <tbody>\n",
              "    <tr>\n",
              "      <th>275</th>\n",
              "      <td>276</td>\n",
              "      <td>1</td>\n",
              "      <td>1</td>\n",
              "      <td>Andrews, Miss. Kornelia Theodosia</td>\n",
              "      <td>female</td>\n",
              "      <td>63.0</td>\n",
              "      <td>1</td>\n",
              "      <td>0</td>\n",
              "      <td>13502</td>\n",
              "      <td>77.9583</td>\n",
              "      <td>D7</td>\n",
              "      <td>S</td>\n",
              "    </tr>\n",
              "    <tr>\n",
              "      <th>829</th>\n",
              "      <td>830</td>\n",
              "      <td>1</td>\n",
              "      <td>1</td>\n",
              "      <td>Stone, Mrs. George Nelson (Martha Evelyn)</td>\n",
              "      <td>female</td>\n",
              "      <td>62.0</td>\n",
              "      <td>0</td>\n",
              "      <td>0</td>\n",
              "      <td>113572</td>\n",
              "      <td>80.0000</td>\n",
              "      <td>B28</td>\n",
              "      <td>NaN</td>\n",
              "    </tr>\n",
              "  </tbody>\n",
              "</table>\n",
              "</div>"
            ],
            "text/plain": [
              "     PassengerId  Survived  Pclass                                       Name  \\\n",
              "275          276         1       1          Andrews, Miss. Kornelia Theodosia   \n",
              "829          830         1       1  Stone, Mrs. George Nelson (Martha Evelyn)   \n",
              "\n",
              "        Sex   Age  SibSp  Parch  Ticket     Fare Cabin Embarked  \n",
              "275  female  63.0      1      0   13502  77.9583    D7        S  \n",
              "829  female  62.0      0      0  113572  80.0000   B28      NaN  "
            ]
          },
          "metadata": {},
          "execution_count": 32
        }
      ]
    },
    {
      "cell_type": "code",
      "metadata": {
        "ExecuteTime": {
          "end_time": "2021-09-29T02:33:08.205505Z",
          "start_time": "2021-09-29T02:33:08.203768Z"
        },
        "id": "EnxQsRtFJltn"
      },
      "source": [
        "#개별 조건을 변수에 할당하고 이들 변수를 결합해서 불린 인덱싱 수행하기"
      ],
      "id": "EnxQsRtFJltn",
      "execution_count": null,
      "outputs": []
    },
    {
      "cell_type": "code",
      "metadata": {
        "ExecuteTime": {
          "end_time": "2021-09-29T02:34:26.738366Z",
          "start_time": "2021-09-29T02:34:26.721528Z"
        },
        "id": "r0ILdY-lJltn",
        "outputId": "48278275-d1e7-4bd4-e341-2e673f2562c9"
      },
      "source": [
        "cond1 = titanic_df['Age']>60\n",
        "cond2 = titanic_df['Pclass']==1\n",
        "cond3 = titanic_df['Sex']=='female'\n",
        "titanic_df[cond1&cond2&cond3]"
      ],
      "id": "r0ILdY-lJltn",
      "execution_count": null,
      "outputs": [
        {
          "output_type": "execute_result",
          "data": {
            "text/html": [
              "<div>\n",
              "<style scoped>\n",
              "    .dataframe tbody tr th:only-of-type {\n",
              "        vertical-align: middle;\n",
              "    }\n",
              "\n",
              "    .dataframe tbody tr th {\n",
              "        vertical-align: top;\n",
              "    }\n",
              "\n",
              "    .dataframe thead th {\n",
              "        text-align: right;\n",
              "    }\n",
              "</style>\n",
              "<table border=\"1\" class=\"dataframe\">\n",
              "  <thead>\n",
              "    <tr style=\"text-align: right;\">\n",
              "      <th></th>\n",
              "      <th>PassengerId</th>\n",
              "      <th>Survived</th>\n",
              "      <th>Pclass</th>\n",
              "      <th>Name</th>\n",
              "      <th>Sex</th>\n",
              "      <th>Age</th>\n",
              "      <th>SibSp</th>\n",
              "      <th>Parch</th>\n",
              "      <th>Ticket</th>\n",
              "      <th>Fare</th>\n",
              "      <th>Cabin</th>\n",
              "      <th>Embarked</th>\n",
              "    </tr>\n",
              "  </thead>\n",
              "  <tbody>\n",
              "    <tr>\n",
              "      <th>275</th>\n",
              "      <td>276</td>\n",
              "      <td>1</td>\n",
              "      <td>1</td>\n",
              "      <td>Andrews, Miss. Kornelia Theodosia</td>\n",
              "      <td>female</td>\n",
              "      <td>63.0</td>\n",
              "      <td>1</td>\n",
              "      <td>0</td>\n",
              "      <td>13502</td>\n",
              "      <td>77.9583</td>\n",
              "      <td>D7</td>\n",
              "      <td>S</td>\n",
              "    </tr>\n",
              "    <tr>\n",
              "      <th>829</th>\n",
              "      <td>830</td>\n",
              "      <td>1</td>\n",
              "      <td>1</td>\n",
              "      <td>Stone, Mrs. George Nelson (Martha Evelyn)</td>\n",
              "      <td>female</td>\n",
              "      <td>62.0</td>\n",
              "      <td>0</td>\n",
              "      <td>0</td>\n",
              "      <td>113572</td>\n",
              "      <td>80.0000</td>\n",
              "      <td>B28</td>\n",
              "      <td>NaN</td>\n",
              "    </tr>\n",
              "  </tbody>\n",
              "</table>\n",
              "</div>"
            ],
            "text/plain": [
              "     PassengerId  Survived  Pclass                                       Name  \\\n",
              "275          276         1       1          Andrews, Miss. Kornelia Theodosia   \n",
              "829          830         1       1  Stone, Mrs. George Nelson (Martha Evelyn)   \n",
              "\n",
              "        Sex   Age  SibSp  Parch  Ticket     Fare Cabin Embarked  \n",
              "275  female  63.0      1      0   13502  77.9583    D7        S  \n",
              "829  female  62.0      0      0  113572  80.0000   B28      NaN  "
            ]
          },
          "metadata": {},
          "execution_count": 34
        }
      ]
    },
    {
      "cell_type": "code",
      "metadata": {
        "id": "7Fr8ZZMMJlto"
      },
      "source": [
        ""
      ],
      "id": "7Fr8ZZMMJlto",
      "execution_count": null,
      "outputs": []
    },
    {
      "cell_type": "markdown",
      "metadata": {
        "id": "AcidzDuiJlto"
      },
      "source": [
        "## 정렬, Aggregation 함수, GroupBy 적용"
      ],
      "id": "AcidzDuiJlto"
    },
    {
      "cell_type": "markdown",
      "metadata": {
        "id": "Wyrq266IJlto"
      },
      "source": [
        "### DataFrame, Series의 정렬 - sort_values()"
      ],
      "id": "Wyrq266IJlto"
    },
    {
      "cell_type": "markdown",
      "metadata": {
        "id": "sSl9tw3AJlto"
      },
      "source": [
        "- sort_values()는 RDBMS SQL의 order by 키워드와 매우 유사함  \n",
        "주요 입력 파라미터 : by, ascending, inplace  \n",
        "by=['칼럼명'] : 해당 칼럼으로 정렬 수행, 여러 개의 칼럼으로 정렬하려면 리스트 형식으로 정렬하려는 칼럼명을 입력  \n",
        "ascending=True : Default값, 오름차순 정렬  \n",
        "ascending=False : 내림차순 정렬  \n",
        "inplace=False : Default값, sort_values()를 호출한 DataFrame은 그대로 유지하며 정렬된 DataFrame을 반환  \n",
        "inplace=True : 호출한 DataFrame의 정렬 결과를 그대로 적용함"
      ],
      "id": "sSl9tw3AJlto"
    },
    {
      "cell_type": "code",
      "metadata": {
        "ExecuteTime": {
          "end_time": "2021-09-29T02:50:13.986055Z",
          "start_time": "2021-09-29T02:50:13.983882Z"
        },
        "id": "zTBqq_9UJlto"
      },
      "source": [
        "#Name 칼럼으로 오름차순 정렬해 반환"
      ],
      "id": "zTBqq_9UJlto",
      "execution_count": null,
      "outputs": []
    },
    {
      "cell_type": "code",
      "metadata": {
        "ExecuteTime": {
          "end_time": "2021-09-29T02:51:03.328033Z",
          "start_time": "2021-09-29T02:51:03.308251Z"
        },
        "id": "uttrLWSwJlto",
        "outputId": "4e45627c-79d7-4958-846e-557e05ff69b6"
      },
      "source": [
        "titanic_sorted = titanic_df.sort_values(by=['Name'])\n",
        "titanic_sorted.head(3)"
      ],
      "id": "uttrLWSwJlto",
      "execution_count": null,
      "outputs": [
        {
          "output_type": "execute_result",
          "data": {
            "text/html": [
              "<div>\n",
              "<style scoped>\n",
              "    .dataframe tbody tr th:only-of-type {\n",
              "        vertical-align: middle;\n",
              "    }\n",
              "\n",
              "    .dataframe tbody tr th {\n",
              "        vertical-align: top;\n",
              "    }\n",
              "\n",
              "    .dataframe thead th {\n",
              "        text-align: right;\n",
              "    }\n",
              "</style>\n",
              "<table border=\"1\" class=\"dataframe\">\n",
              "  <thead>\n",
              "    <tr style=\"text-align: right;\">\n",
              "      <th></th>\n",
              "      <th>PassengerId</th>\n",
              "      <th>Survived</th>\n",
              "      <th>Pclass</th>\n",
              "      <th>Name</th>\n",
              "      <th>Sex</th>\n",
              "      <th>Age</th>\n",
              "      <th>SibSp</th>\n",
              "      <th>Parch</th>\n",
              "      <th>Ticket</th>\n",
              "      <th>Fare</th>\n",
              "      <th>Cabin</th>\n",
              "      <th>Embarked</th>\n",
              "    </tr>\n",
              "  </thead>\n",
              "  <tbody>\n",
              "    <tr>\n",
              "      <th>845</th>\n",
              "      <td>846</td>\n",
              "      <td>0</td>\n",
              "      <td>3</td>\n",
              "      <td>Abbing, Mr. Anthony</td>\n",
              "      <td>male</td>\n",
              "      <td>42.0</td>\n",
              "      <td>0</td>\n",
              "      <td>0</td>\n",
              "      <td>C.A. 5547</td>\n",
              "      <td>7.55</td>\n",
              "      <td>NaN</td>\n",
              "      <td>S</td>\n",
              "    </tr>\n",
              "    <tr>\n",
              "      <th>746</th>\n",
              "      <td>747</td>\n",
              "      <td>0</td>\n",
              "      <td>3</td>\n",
              "      <td>Abbott, Mr. Rossmore Edward</td>\n",
              "      <td>male</td>\n",
              "      <td>16.0</td>\n",
              "      <td>1</td>\n",
              "      <td>1</td>\n",
              "      <td>C.A. 2673</td>\n",
              "      <td>20.25</td>\n",
              "      <td>NaN</td>\n",
              "      <td>S</td>\n",
              "    </tr>\n",
              "    <tr>\n",
              "      <th>279</th>\n",
              "      <td>280</td>\n",
              "      <td>1</td>\n",
              "      <td>3</td>\n",
              "      <td>Abbott, Mrs. Stanton (Rosa Hunt)</td>\n",
              "      <td>female</td>\n",
              "      <td>35.0</td>\n",
              "      <td>1</td>\n",
              "      <td>1</td>\n",
              "      <td>C.A. 2673</td>\n",
              "      <td>20.25</td>\n",
              "      <td>NaN</td>\n",
              "      <td>S</td>\n",
              "    </tr>\n",
              "  </tbody>\n",
              "</table>\n",
              "</div>"
            ],
            "text/plain": [
              "     PassengerId  Survived  Pclass                              Name     Sex  \\\n",
              "845          846         0       3               Abbing, Mr. Anthony    male   \n",
              "746          747         0       3       Abbott, Mr. Rossmore Edward    male   \n",
              "279          280         1       3  Abbott, Mrs. Stanton (Rosa Hunt)  female   \n",
              "\n",
              "      Age  SibSp  Parch     Ticket   Fare Cabin Embarked  \n",
              "845  42.0      0      0  C.A. 5547   7.55   NaN        S  \n",
              "746  16.0      1      1  C.A. 2673  20.25   NaN        S  \n",
              "279  35.0      1      1  C.A. 2673  20.25   NaN        S  "
            ]
          },
          "metadata": {},
          "execution_count": 36
        }
      ]
    },
    {
      "cell_type": "code",
      "metadata": {
        "ExecuteTime": {
          "end_time": "2021-09-29T02:59:01.431466Z",
          "start_time": "2021-09-29T02:59:01.428337Z"
        },
        "id": "4zbYGzcfJlto"
      },
      "source": [
        "#Pclass, Name 칼럼으로 내림차순 정렬한 결과를 반환"
      ],
      "id": "4zbYGzcfJlto",
      "execution_count": null,
      "outputs": []
    },
    {
      "cell_type": "code",
      "metadata": {
        "ExecuteTime": {
          "end_time": "2021-09-29T02:59:47.388609Z",
          "start_time": "2021-09-29T02:59:47.367433Z"
        },
        "id": "3PskbybCJlto",
        "outputId": "6aee73a5-bd99-48a8-bfb2-c40c1bcf9afb"
      },
      "source": [
        "titanic_sorted = titanic_df.sort_values(by=['Pclass', 'Name'], ascending=False)\n",
        "titanic_sorted.head(3)"
      ],
      "id": "3PskbybCJlto",
      "execution_count": null,
      "outputs": [
        {
          "output_type": "execute_result",
          "data": {
            "text/html": [
              "<div>\n",
              "<style scoped>\n",
              "    .dataframe tbody tr th:only-of-type {\n",
              "        vertical-align: middle;\n",
              "    }\n",
              "\n",
              "    .dataframe tbody tr th {\n",
              "        vertical-align: top;\n",
              "    }\n",
              "\n",
              "    .dataframe thead th {\n",
              "        text-align: right;\n",
              "    }\n",
              "</style>\n",
              "<table border=\"1\" class=\"dataframe\">\n",
              "  <thead>\n",
              "    <tr style=\"text-align: right;\">\n",
              "      <th></th>\n",
              "      <th>PassengerId</th>\n",
              "      <th>Survived</th>\n",
              "      <th>Pclass</th>\n",
              "      <th>Name</th>\n",
              "      <th>Sex</th>\n",
              "      <th>Age</th>\n",
              "      <th>SibSp</th>\n",
              "      <th>Parch</th>\n",
              "      <th>Ticket</th>\n",
              "      <th>Fare</th>\n",
              "      <th>Cabin</th>\n",
              "      <th>Embarked</th>\n",
              "    </tr>\n",
              "  </thead>\n",
              "  <tbody>\n",
              "    <tr>\n",
              "      <th>868</th>\n",
              "      <td>869</td>\n",
              "      <td>0</td>\n",
              "      <td>3</td>\n",
              "      <td>van Melkebeke, Mr. Philemon</td>\n",
              "      <td>male</td>\n",
              "      <td>NaN</td>\n",
              "      <td>0</td>\n",
              "      <td>0</td>\n",
              "      <td>345777</td>\n",
              "      <td>9.5</td>\n",
              "      <td>NaN</td>\n",
              "      <td>S</td>\n",
              "    </tr>\n",
              "    <tr>\n",
              "      <th>153</th>\n",
              "      <td>154</td>\n",
              "      <td>0</td>\n",
              "      <td>3</td>\n",
              "      <td>van Billiard, Mr. Austin Blyler</td>\n",
              "      <td>male</td>\n",
              "      <td>40.5</td>\n",
              "      <td>0</td>\n",
              "      <td>2</td>\n",
              "      <td>A/5. 851</td>\n",
              "      <td>14.5</td>\n",
              "      <td>NaN</td>\n",
              "      <td>S</td>\n",
              "    </tr>\n",
              "    <tr>\n",
              "      <th>282</th>\n",
              "      <td>283</td>\n",
              "      <td>0</td>\n",
              "      <td>3</td>\n",
              "      <td>de Pelsmaeker, Mr. Alfons</td>\n",
              "      <td>male</td>\n",
              "      <td>16.0</td>\n",
              "      <td>0</td>\n",
              "      <td>0</td>\n",
              "      <td>345778</td>\n",
              "      <td>9.5</td>\n",
              "      <td>NaN</td>\n",
              "      <td>S</td>\n",
              "    </tr>\n",
              "  </tbody>\n",
              "</table>\n",
              "</div>"
            ],
            "text/plain": [
              "     PassengerId  Survived  Pclass                             Name   Sex  \\\n",
              "868          869         0       3      van Melkebeke, Mr. Philemon  male   \n",
              "153          154         0       3  van Billiard, Mr. Austin Blyler  male   \n",
              "282          283         0       3        de Pelsmaeker, Mr. Alfons  male   \n",
              "\n",
              "      Age  SibSp  Parch    Ticket  Fare Cabin Embarked  \n",
              "868   NaN      0      0    345777   9.5   NaN        S  \n",
              "153  40.5      0      2  A/5. 851  14.5   NaN        S  \n",
              "282  16.0      0      0    345778   9.5   NaN        S  "
            ]
          },
          "metadata": {},
          "execution_count": 38
        }
      ]
    },
    {
      "cell_type": "markdown",
      "metadata": {
        "id": "CkYgOsbuJltp"
      },
      "source": [
        "### Aggregation 함수 적용"
      ],
      "id": "CkYgOsbuJltp"
    },
    {
      "cell_type": "markdown",
      "metadata": {
        "id": "_IAACdpLJltp"
      },
      "source": [
        "DataFrame에서 min(), max(), sum(), count()와 같은 aggregation 함수를 호출하면 모든 칼럼에 해당 aggregation을 적용한다."
      ],
      "id": "_IAACdpLJltp"
    },
    {
      "cell_type": "code",
      "metadata": {
        "ExecuteTime": {
          "end_time": "2021-09-29T03:20:24.230023Z",
          "start_time": "2021-09-29T03:20:24.214124Z"
        },
        "id": "ez_IEmRsJltp",
        "outputId": "18a49574-dc94-420b-ca04-bf46569999ec"
      },
      "source": [
        "titanic_df.count()"
      ],
      "id": "ez_IEmRsJltp",
      "execution_count": null,
      "outputs": [
        {
          "output_type": "execute_result",
          "data": {
            "text/plain": [
              "PassengerId    891\n",
              "Survived       891\n",
              "Pclass         891\n",
              "Name           891\n",
              "Sex            891\n",
              "Age            714\n",
              "SibSp          891\n",
              "Parch          891\n",
              "Ticket         891\n",
              "Fare           891\n",
              "Cabin          204\n",
              "Embarked       889\n",
              "dtype: int64"
            ]
          },
          "metadata": {},
          "execution_count": 39
        }
      ]
    },
    {
      "cell_type": "markdown",
      "metadata": {
        "id": "rdZWNomhJltp"
      },
      "source": [
        "\n",
        "특정 칼럼에 aggregation 함수를 적용하기 위해서는 DataFrame에 대상 칼럼들만 추출해서 적용한다."
      ],
      "id": "rdZWNomhJltp"
    },
    {
      "cell_type": "code",
      "metadata": {
        "ExecuteTime": {
          "end_time": "2021-09-29T03:21:49.203623Z",
          "start_time": "2021-09-29T03:21:49.195639Z"
        },
        "id": "xNhGVgnyJltp",
        "outputId": "6bcdd72b-d14f-425d-dcb5-54e4bc582cb6"
      },
      "source": [
        "titanic_df[['Age', 'Fare']].mean()"
      ],
      "id": "xNhGVgnyJltp",
      "execution_count": null,
      "outputs": [
        {
          "output_type": "execute_result",
          "data": {
            "text/plain": [
              "Age     29.699118\n",
              "Fare    32.204208\n",
              "dtype: float64"
            ]
          },
          "metadata": {},
          "execution_count": 40
        }
      ]
    },
    {
      "cell_type": "markdown",
      "metadata": {
        "id": "8I3BEVzbJltp"
      },
      "source": [
        "### groupby( ) 적용"
      ],
      "id": "8I3BEVzbJltp"
    },
    {
      "cell_type": "markdown",
      "metadata": {
        "id": "Mg6ToAqxJltp"
      },
      "source": [
        "DataFrame의 groupby( ) 사용 시 입력 파라미터 by에 칼럼을 입력하면 대상 칼럼으로 groupby된다.  \n",
        "이때, DataFrameGroupBy라는 또 다른 형태의 DataFrame을 반환한다."
      ],
      "id": "Mg6ToAqxJltp"
    },
    {
      "cell_type": "code",
      "metadata": {
        "ExecuteTime": {
          "end_time": "2021-09-29T03:33:10.208609Z",
          "start_time": "2021-09-29T03:33:10.205797Z"
        },
        "id": "6KgSx3GkJltq"
      },
      "source": [
        "#Pclass 칼럼 기준으로 GroupBy된 DataFrameGroupBy 객체 반환하기"
      ],
      "id": "6KgSx3GkJltq",
      "execution_count": null,
      "outputs": []
    },
    {
      "cell_type": "code",
      "metadata": {
        "ExecuteTime": {
          "end_time": "2021-09-29T03:35:06.649156Z",
          "start_time": "2021-09-29T03:35:06.643347Z"
        },
        "id": "RI6mgIxMJltq",
        "outputId": "8e1246f7-256e-45a3-8c92-8581a2c6aafd"
      },
      "source": [
        "titanic_groupby = titanic_df.groupby(by='Pclass')\n",
        "print(type(titanic_groupby))"
      ],
      "id": "RI6mgIxMJltq",
      "execution_count": null,
      "outputs": [
        {
          "output_type": "stream",
          "name": "stdout",
          "text": [
            "<class 'pandas.core.groupby.generic.DataFrameGroupBy'>\n"
          ]
        }
      ]
    },
    {
      "cell_type": "markdown",
      "metadata": {
        "id": "EF3anQdSJltq"
      },
      "source": [
        "\n",
        "DataFrame의 groupby()에 aggregation 함수를 호출하면 groupby() 대상 칼럼을 제외한 모든 칼럼에 해당 aggregation 함수를 적용한다."
      ],
      "id": "EF3anQdSJltq"
    },
    {
      "cell_type": "code",
      "metadata": {
        "ExecuteTime": {
          "end_time": "2021-09-29T03:37:04.288545Z",
          "start_time": "2021-09-29T03:37:04.270551Z"
        },
        "id": "HKlvtV40Jltq",
        "outputId": "f37dbc07-f734-42fc-8e18-8358626408c2"
      },
      "source": [
        "titanic_groupby = titanic_df.groupby('Pclass').count()\n",
        "titanic_groupby"
      ],
      "id": "HKlvtV40Jltq",
      "execution_count": null,
      "outputs": [
        {
          "output_type": "execute_result",
          "data": {
            "text/html": [
              "<div>\n",
              "<style scoped>\n",
              "    .dataframe tbody tr th:only-of-type {\n",
              "        vertical-align: middle;\n",
              "    }\n",
              "\n",
              "    .dataframe tbody tr th {\n",
              "        vertical-align: top;\n",
              "    }\n",
              "\n",
              "    .dataframe thead th {\n",
              "        text-align: right;\n",
              "    }\n",
              "</style>\n",
              "<table border=\"1\" class=\"dataframe\">\n",
              "  <thead>\n",
              "    <tr style=\"text-align: right;\">\n",
              "      <th></th>\n",
              "      <th>PassengerId</th>\n",
              "      <th>Survived</th>\n",
              "      <th>Name</th>\n",
              "      <th>Sex</th>\n",
              "      <th>Age</th>\n",
              "      <th>SibSp</th>\n",
              "      <th>Parch</th>\n",
              "      <th>Ticket</th>\n",
              "      <th>Fare</th>\n",
              "      <th>Cabin</th>\n",
              "      <th>Embarked</th>\n",
              "    </tr>\n",
              "    <tr>\n",
              "      <th>Pclass</th>\n",
              "      <th></th>\n",
              "      <th></th>\n",
              "      <th></th>\n",
              "      <th></th>\n",
              "      <th></th>\n",
              "      <th></th>\n",
              "      <th></th>\n",
              "      <th></th>\n",
              "      <th></th>\n",
              "      <th></th>\n",
              "      <th></th>\n",
              "    </tr>\n",
              "  </thead>\n",
              "  <tbody>\n",
              "    <tr>\n",
              "      <th>1</th>\n",
              "      <td>216</td>\n",
              "      <td>216</td>\n",
              "      <td>216</td>\n",
              "      <td>216</td>\n",
              "      <td>186</td>\n",
              "      <td>216</td>\n",
              "      <td>216</td>\n",
              "      <td>216</td>\n",
              "      <td>216</td>\n",
              "      <td>176</td>\n",
              "      <td>214</td>\n",
              "    </tr>\n",
              "    <tr>\n",
              "      <th>2</th>\n",
              "      <td>184</td>\n",
              "      <td>184</td>\n",
              "      <td>184</td>\n",
              "      <td>184</td>\n",
              "      <td>173</td>\n",
              "      <td>184</td>\n",
              "      <td>184</td>\n",
              "      <td>184</td>\n",
              "      <td>184</td>\n",
              "      <td>16</td>\n",
              "      <td>184</td>\n",
              "    </tr>\n",
              "    <tr>\n",
              "      <th>3</th>\n",
              "      <td>491</td>\n",
              "      <td>491</td>\n",
              "      <td>491</td>\n",
              "      <td>491</td>\n",
              "      <td>355</td>\n",
              "      <td>491</td>\n",
              "      <td>491</td>\n",
              "      <td>491</td>\n",
              "      <td>491</td>\n",
              "      <td>12</td>\n",
              "      <td>491</td>\n",
              "    </tr>\n",
              "  </tbody>\n",
              "</table>\n",
              "</div>"
            ],
            "text/plain": [
              "        PassengerId  Survived  Name  Sex  Age  SibSp  Parch  Ticket  Fare  \\\n",
              "Pclass                                                                      \n",
              "1               216       216   216  216  186    216    216     216   216   \n",
              "2               184       184   184  184  173    184    184     184   184   \n",
              "3               491       491   491  491  355    491    491     491   491   \n",
              "\n",
              "        Cabin  Embarked  \n",
              "Pclass                   \n",
              "1         176       214  \n",
              "2          16       184  \n",
              "3          12       491  "
            ]
          },
          "metadata": {},
          "execution_count": 43
        }
      ]
    },
    {
      "cell_type": "markdown",
      "metadata": {
        "id": "1AKGCYFkJltq"
      },
      "source": [
        "\n",
        "DataFrame의 groupby()에 특정 칼럼만 aggregation 함수를 적용하려면 groupby()로 반환된 객체에 해당 칼럼을 필터링한 뒤 aggregation 함수를 적용한다."
      ],
      "id": "1AKGCYFkJltq"
    },
    {
      "cell_type": "code",
      "metadata": {
        "ExecuteTime": {
          "end_time": "2021-09-29T03:40:28.752476Z",
          "start_time": "2021-09-29T03:40:28.750413Z"
        },
        "id": "_MselE2OJltq"
      },
      "source": [
        "#Pclass로 groupby()하고, PassengerId, Survived 칼럼에만 count() 수행하기"
      ],
      "id": "_MselE2OJltq",
      "execution_count": null,
      "outputs": []
    },
    {
      "cell_type": "code",
      "metadata": {
        "ExecuteTime": {
          "end_time": "2021-09-29T03:42:44.431077Z",
          "start_time": "2021-09-29T03:42:44.420635Z"
        },
        "id": "VuzJB_kPJltq",
        "outputId": "baf45e3e-3f70-4f2b-86f0-444927e77486"
      },
      "source": [
        "titanic_groupby = titanic_df.groupby('Pclass')[['PassengerId', 'Survived']].count()\n",
        "titanic_groupby"
      ],
      "id": "VuzJB_kPJltq",
      "execution_count": null,
      "outputs": [
        {
          "output_type": "execute_result",
          "data": {
            "text/html": [
              "<div>\n",
              "<style scoped>\n",
              "    .dataframe tbody tr th:only-of-type {\n",
              "        vertical-align: middle;\n",
              "    }\n",
              "\n",
              "    .dataframe tbody tr th {\n",
              "        vertical-align: top;\n",
              "    }\n",
              "\n",
              "    .dataframe thead th {\n",
              "        text-align: right;\n",
              "    }\n",
              "</style>\n",
              "<table border=\"1\" class=\"dataframe\">\n",
              "  <thead>\n",
              "    <tr style=\"text-align: right;\">\n",
              "      <th></th>\n",
              "      <th>PassengerId</th>\n",
              "      <th>Survived</th>\n",
              "    </tr>\n",
              "    <tr>\n",
              "      <th>Pclass</th>\n",
              "      <th></th>\n",
              "      <th></th>\n",
              "    </tr>\n",
              "  </thead>\n",
              "  <tbody>\n",
              "    <tr>\n",
              "      <th>1</th>\n",
              "      <td>216</td>\n",
              "      <td>216</td>\n",
              "    </tr>\n",
              "    <tr>\n",
              "      <th>2</th>\n",
              "      <td>184</td>\n",
              "      <td>184</td>\n",
              "    </tr>\n",
              "    <tr>\n",
              "      <th>3</th>\n",
              "      <td>491</td>\n",
              "      <td>491</td>\n",
              "    </tr>\n",
              "  </tbody>\n",
              "</table>\n",
              "</div>"
            ],
            "text/plain": [
              "        PassengerId  Survived\n",
              "Pclass                       \n",
              "1               216       216\n",
              "2               184       184\n",
              "3               491       491"
            ]
          },
          "metadata": {},
          "execution_count": 45
        }
      ]
    },
    {
      "cell_type": "markdown",
      "metadata": {
        "id": "IIdUOr6yJltq"
      },
      "source": [
        "\n",
        "DataFrame의 groupby()에 서로 다른 aggregation 함수를 적용할 경우에는 DataFrameGroupBy 객체의 agg( ) 내에 인자로 입력해서 사용한다."
      ],
      "id": "IIdUOr6yJltq"
    },
    {
      "cell_type": "code",
      "metadata": {
        "ExecuteTime": {
          "end_time": "2021-09-29T03:48:21.701499Z",
          "start_time": "2021-09-29T03:48:21.685281Z"
        },
        "id": "p8JVh_1cJltr",
        "outputId": "e6e9b881-1fa9-42ae-e190-90f59010f67e"
      },
      "source": [
        "titanic_df.groupby('Pclass')['Age'].agg([max, min])"
      ],
      "id": "p8JVh_1cJltr",
      "execution_count": null,
      "outputs": [
        {
          "output_type": "execute_result",
          "data": {
            "text/html": [
              "<div>\n",
              "<style scoped>\n",
              "    .dataframe tbody tr th:only-of-type {\n",
              "        vertical-align: middle;\n",
              "    }\n",
              "\n",
              "    .dataframe tbody tr th {\n",
              "        vertical-align: top;\n",
              "    }\n",
              "\n",
              "    .dataframe thead th {\n",
              "        text-align: right;\n",
              "    }\n",
              "</style>\n",
              "<table border=\"1\" class=\"dataframe\">\n",
              "  <thead>\n",
              "    <tr style=\"text-align: right;\">\n",
              "      <th></th>\n",
              "      <th>max</th>\n",
              "      <th>min</th>\n",
              "    </tr>\n",
              "    <tr>\n",
              "      <th>Pclass</th>\n",
              "      <th></th>\n",
              "      <th></th>\n",
              "    </tr>\n",
              "  </thead>\n",
              "  <tbody>\n",
              "    <tr>\n",
              "      <th>1</th>\n",
              "      <td>80.0</td>\n",
              "      <td>0.92</td>\n",
              "    </tr>\n",
              "    <tr>\n",
              "      <th>2</th>\n",
              "      <td>70.0</td>\n",
              "      <td>0.67</td>\n",
              "    </tr>\n",
              "    <tr>\n",
              "      <th>3</th>\n",
              "      <td>74.0</td>\n",
              "      <td>0.42</td>\n",
              "    </tr>\n",
              "  </tbody>\n",
              "</table>\n",
              "</div>"
            ],
            "text/plain": [
              "         max   min\n",
              "Pclass            \n",
              "1       80.0  0.92\n",
              "2       70.0  0.67\n",
              "3       74.0  0.42"
            ]
          },
          "metadata": {},
          "execution_count": 46
        }
      ]
    },
    {
      "cell_type": "markdown",
      "metadata": {
        "id": "E6MKSL2GJltr"
      },
      "source": [
        "\n",
        "여러 개의 칼럼이 서로 다른 aggregation 함수를 groupby에서 호출하려면 agg( ) 내에 입력 값으로 딕셔너리 형태 {'aggregation이 적용될 칼럼': 'aggregation 함수'}를 입력한다."
      ],
      "id": "E6MKSL2GJltr"
    },
    {
      "cell_type": "code",
      "metadata": {
        "ExecuteTime": {
          "end_time": "2021-09-29T05:13:05.121055Z",
          "start_time": "2021-09-29T05:13:05.106681Z"
        },
        "id": "6x0XUc83Jltr",
        "outputId": "10a530a0-ee49-4f3f-8b4a-dfa5132a980d"
      },
      "source": [
        "agg_format = {'Age':'max', 'SibSp':'sum', 'Fare':'mean'}\n",
        "titanic_df.groupby('Pclass').agg(agg_format)"
      ],
      "id": "6x0XUc83Jltr",
      "execution_count": null,
      "outputs": [
        {
          "output_type": "execute_result",
          "data": {
            "text/html": [
              "<div>\n",
              "<style scoped>\n",
              "    .dataframe tbody tr th:only-of-type {\n",
              "        vertical-align: middle;\n",
              "    }\n",
              "\n",
              "    .dataframe tbody tr th {\n",
              "        vertical-align: top;\n",
              "    }\n",
              "\n",
              "    .dataframe thead th {\n",
              "        text-align: right;\n",
              "    }\n",
              "</style>\n",
              "<table border=\"1\" class=\"dataframe\">\n",
              "  <thead>\n",
              "    <tr style=\"text-align: right;\">\n",
              "      <th></th>\n",
              "      <th>Age</th>\n",
              "      <th>SibSp</th>\n",
              "      <th>Fare</th>\n",
              "    </tr>\n",
              "    <tr>\n",
              "      <th>Pclass</th>\n",
              "      <th></th>\n",
              "      <th></th>\n",
              "      <th></th>\n",
              "    </tr>\n",
              "  </thead>\n",
              "  <tbody>\n",
              "    <tr>\n",
              "      <th>1</th>\n",
              "      <td>80.0</td>\n",
              "      <td>90</td>\n",
              "      <td>84.154687</td>\n",
              "    </tr>\n",
              "    <tr>\n",
              "      <th>2</th>\n",
              "      <td>70.0</td>\n",
              "      <td>74</td>\n",
              "      <td>20.662183</td>\n",
              "    </tr>\n",
              "    <tr>\n",
              "      <th>3</th>\n",
              "      <td>74.0</td>\n",
              "      <td>302</td>\n",
              "      <td>13.675550</td>\n",
              "    </tr>\n",
              "  </tbody>\n",
              "</table>\n",
              "</div>"
            ],
            "text/plain": [
              "         Age  SibSp       Fare\n",
              "Pclass                        \n",
              "1       80.0     90  84.154687\n",
              "2       70.0     74  20.662183\n",
              "3       74.0    302  13.675550"
            ]
          },
          "metadata": {},
          "execution_count": 48
        }
      ]
    },
    {
      "cell_type": "code",
      "metadata": {
        "id": "rgZrZ7loJltr"
      },
      "source": [
        ""
      ],
      "id": "rgZrZ7loJltr",
      "execution_count": null,
      "outputs": []
    },
    {
      "cell_type": "markdown",
      "metadata": {
        "id": "v4ILuNSaJltr"
      },
      "source": [
        "## 결손 데이터 처리하기"
      ],
      "id": "v4ILuNSaJltr"
    },
    {
      "cell_type": "markdown",
      "metadata": {
        "id": "EGD9RVaSJltr"
      },
      "source": [
        "- 결손 데이터 : 칼럼에 값이 없는(Null)인 경우를 의미하며, 이를 넘파이의 **NaN**으로 표시한다.  \n",
        "기본적으로 Machine Learning은 NaN 값을 처리하지 않고, 평균, 총합 등의 함수 연산에서도 제외되므로 이 Nan 값을 다른 값으로 대체해야 한다.  \n",
        "- **isna( ) : NaN 여부를 확인하는 API**  \n",
        "- **fillna( ) : NaN 값을 다른 값으로 대체하는 API**"
      ],
      "id": "EGD9RVaSJltr"
    },
    {
      "cell_type": "markdown",
      "metadata": {
        "id": "CY6DHK9BJltr"
      },
      "source": [
        "### isna( )로 결손 데이터 여부 확인"
      ],
      "id": "CY6DHK9BJltr"
    },
    {
      "cell_type": "markdown",
      "metadata": {
        "id": "P5NBoLaUJlts"
      },
      "source": [
        "- isna( )는 데이터가 NaN인지 아닌지를 알려준다.  "
      ],
      "id": "P5NBoLaUJlts"
    },
    {
      "cell_type": "markdown",
      "metadata": {
        "id": "PzPrecrOJltt"
      },
      "source": [
        "DataFrame에 isna() 수행 시 모든 칼럼의 값에 대한 NaN 여부를 True, False로 알려준다."
      ],
      "id": "PzPrecrOJltt"
    },
    {
      "cell_type": "code",
      "metadata": {
        "ExecuteTime": {
          "end_time": "2021-09-29T05:31:08.348036Z",
          "start_time": "2021-09-29T05:31:08.332515Z"
        },
        "id": "RwJvwGoJJltt",
        "outputId": "7b8074d9-2c3e-4da9-826c-1363ce016030"
      },
      "source": [
        "titanic_df.isna().head(3)"
      ],
      "id": "RwJvwGoJJltt",
      "execution_count": null,
      "outputs": [
        {
          "output_type": "execute_result",
          "data": {
            "text/html": [
              "<div>\n",
              "<style scoped>\n",
              "    .dataframe tbody tr th:only-of-type {\n",
              "        vertical-align: middle;\n",
              "    }\n",
              "\n",
              "    .dataframe tbody tr th {\n",
              "        vertical-align: top;\n",
              "    }\n",
              "\n",
              "    .dataframe thead th {\n",
              "        text-align: right;\n",
              "    }\n",
              "</style>\n",
              "<table border=\"1\" class=\"dataframe\">\n",
              "  <thead>\n",
              "    <tr style=\"text-align: right;\">\n",
              "      <th></th>\n",
              "      <th>PassengerId</th>\n",
              "      <th>Survived</th>\n",
              "      <th>Pclass</th>\n",
              "      <th>Name</th>\n",
              "      <th>Sex</th>\n",
              "      <th>Age</th>\n",
              "      <th>SibSp</th>\n",
              "      <th>Parch</th>\n",
              "      <th>Ticket</th>\n",
              "      <th>Fare</th>\n",
              "      <th>Cabin</th>\n",
              "      <th>Embarked</th>\n",
              "    </tr>\n",
              "  </thead>\n",
              "  <tbody>\n",
              "    <tr>\n",
              "      <th>0</th>\n",
              "      <td>False</td>\n",
              "      <td>False</td>\n",
              "      <td>False</td>\n",
              "      <td>False</td>\n",
              "      <td>False</td>\n",
              "      <td>False</td>\n",
              "      <td>False</td>\n",
              "      <td>False</td>\n",
              "      <td>False</td>\n",
              "      <td>False</td>\n",
              "      <td>True</td>\n",
              "      <td>False</td>\n",
              "    </tr>\n",
              "    <tr>\n",
              "      <th>1</th>\n",
              "      <td>False</td>\n",
              "      <td>False</td>\n",
              "      <td>False</td>\n",
              "      <td>False</td>\n",
              "      <td>False</td>\n",
              "      <td>False</td>\n",
              "      <td>False</td>\n",
              "      <td>False</td>\n",
              "      <td>False</td>\n",
              "      <td>False</td>\n",
              "      <td>False</td>\n",
              "      <td>False</td>\n",
              "    </tr>\n",
              "    <tr>\n",
              "      <th>2</th>\n",
              "      <td>False</td>\n",
              "      <td>False</td>\n",
              "      <td>False</td>\n",
              "      <td>False</td>\n",
              "      <td>False</td>\n",
              "      <td>False</td>\n",
              "      <td>False</td>\n",
              "      <td>False</td>\n",
              "      <td>False</td>\n",
              "      <td>False</td>\n",
              "      <td>True</td>\n",
              "      <td>False</td>\n",
              "    </tr>\n",
              "  </tbody>\n",
              "</table>\n",
              "</div>"
            ],
            "text/plain": [
              "   PassengerId  Survived  Pclass   Name    Sex    Age  SibSp  Parch  Ticket  \\\n",
              "0        False     False   False  False  False  False  False  False   False   \n",
              "1        False     False   False  False  False  False  False  False   False   \n",
              "2        False     False   False  False  False  False  False  False   False   \n",
              "\n",
              "    Fare  Cabin  Embarked  \n",
              "0  False   True     False  \n",
              "1  False  False     False  \n",
              "2  False   True     False  "
            ]
          },
          "metadata": {},
          "execution_count": 49
        }
      ]
    },
    {
      "cell_type": "code",
      "metadata": {
        "ExecuteTime": {
          "end_time": "2021-09-29T05:43:23.880501Z",
          "start_time": "2021-09-29T05:43:23.871614Z"
        },
        "id": "bEf6NENtJltt"
      },
      "source": [
        "#isna() 결과에 sum() 함수를 추가해서 결손 데이터의 개수 구하기"
      ],
      "id": "bEf6NENtJltt",
      "execution_count": null,
      "outputs": []
    },
    {
      "cell_type": "code",
      "metadata": {
        "ExecuteTime": {
          "end_time": "2021-09-29T05:43:35.195666Z",
          "start_time": "2021-09-29T05:43:35.184334Z"
        },
        "id": "NQjKSDbTJltt",
        "outputId": "1473974e-c46e-48a2-d583-3cea0d80c091"
      },
      "source": [
        "titanic_df.isna().sum()"
      ],
      "id": "NQjKSDbTJltt",
      "execution_count": null,
      "outputs": [
        {
          "output_type": "execute_result",
          "data": {
            "text/plain": [
              "PassengerId      0\n",
              "Survived         0\n",
              "Pclass           0\n",
              "Name             0\n",
              "Sex              0\n",
              "Age            177\n",
              "SibSp            0\n",
              "Parch            0\n",
              "Ticket           0\n",
              "Fare             0\n",
              "Cabin          687\n",
              "Embarked         2\n",
              "dtype: int64"
            ]
          },
          "metadata": {},
          "execution_count": 51
        }
      ]
    },
    {
      "cell_type": "markdown",
      "metadata": {
        "id": "JM9mXeXyJltt"
      },
      "source": [
        "### fillna( )로 결손 데이터 대체하기"
      ],
      "id": "JM9mXeXyJltt"
    },
    {
      "cell_type": "markdown",
      "metadata": {
        "id": "_2lZMoAcJltt"
      },
      "source": [
        "- fillna( )로 결손 데이터(NaN)를 다른 값으로 대체할 수 있다.\n",
        "- **fillna()를 이용해 반환 값을 다시 받거나, inplace=True 파라미터를 추가해야 실제 데이터 세트 값이 변경된다.**"
      ],
      "id": "_2lZMoAcJltt"
    },
    {
      "cell_type": "code",
      "metadata": {
        "ExecuteTime": {
          "end_time": "2021-09-29T05:46:48.307943Z",
          "start_time": "2021-09-29T05:46:48.305833Z"
        },
        "id": "udY7ffk2Jltu"
      },
      "source": [
        "#'Cabin' 칼럼의 NaN값을 'C000'으로 대체하기"
      ],
      "id": "udY7ffk2Jltu",
      "execution_count": null,
      "outputs": []
    },
    {
      "cell_type": "code",
      "metadata": {
        "ExecuteTime": {
          "end_time": "2021-09-29T05:55:54.734071Z",
          "start_time": "2021-09-29T05:55:54.718465Z"
        },
        "id": "fvdClGIjJltu",
        "outputId": "44734d4e-6266-48f6-f5bb-7ef3ccc0d926"
      },
      "source": [
        "titanic_df['Cabin'] = titanic_df['Cabin'].fillna('C000') #fillna() 반환 값을 다시 받기\n",
        "#titanic_df['Cabin'].fillna('C000', inplace=True)\n",
        "titanic_df.head(3)"
      ],
      "id": "fvdClGIjJltu",
      "execution_count": null,
      "outputs": [
        {
          "output_type": "execute_result",
          "data": {
            "text/html": [
              "<div>\n",
              "<style scoped>\n",
              "    .dataframe tbody tr th:only-of-type {\n",
              "        vertical-align: middle;\n",
              "    }\n",
              "\n",
              "    .dataframe tbody tr th {\n",
              "        vertical-align: top;\n",
              "    }\n",
              "\n",
              "    .dataframe thead th {\n",
              "        text-align: right;\n",
              "    }\n",
              "</style>\n",
              "<table border=\"1\" class=\"dataframe\">\n",
              "  <thead>\n",
              "    <tr style=\"text-align: right;\">\n",
              "      <th></th>\n",
              "      <th>PassengerId</th>\n",
              "      <th>Survived</th>\n",
              "      <th>Pclass</th>\n",
              "      <th>Name</th>\n",
              "      <th>Sex</th>\n",
              "      <th>Age</th>\n",
              "      <th>SibSp</th>\n",
              "      <th>Parch</th>\n",
              "      <th>Ticket</th>\n",
              "      <th>Fare</th>\n",
              "      <th>Cabin</th>\n",
              "      <th>Embarked</th>\n",
              "    </tr>\n",
              "  </thead>\n",
              "  <tbody>\n",
              "    <tr>\n",
              "      <th>0</th>\n",
              "      <td>1</td>\n",
              "      <td>0</td>\n",
              "      <td>3</td>\n",
              "      <td>Braund, Mr. Owen Harris</td>\n",
              "      <td>male</td>\n",
              "      <td>22.0</td>\n",
              "      <td>1</td>\n",
              "      <td>0</td>\n",
              "      <td>A/5 21171</td>\n",
              "      <td>7.2500</td>\n",
              "      <td>C000</td>\n",
              "      <td>S</td>\n",
              "    </tr>\n",
              "    <tr>\n",
              "      <th>1</th>\n",
              "      <td>2</td>\n",
              "      <td>1</td>\n",
              "      <td>1</td>\n",
              "      <td>Cumings, Mrs. John Bradley (Florence Briggs Th...</td>\n",
              "      <td>female</td>\n",
              "      <td>38.0</td>\n",
              "      <td>1</td>\n",
              "      <td>0</td>\n",
              "      <td>PC 17599</td>\n",
              "      <td>71.2833</td>\n",
              "      <td>C85</td>\n",
              "      <td>C</td>\n",
              "    </tr>\n",
              "    <tr>\n",
              "      <th>2</th>\n",
              "      <td>3</td>\n",
              "      <td>1</td>\n",
              "      <td>3</td>\n",
              "      <td>Heikkinen, Miss. Laina</td>\n",
              "      <td>female</td>\n",
              "      <td>26.0</td>\n",
              "      <td>0</td>\n",
              "      <td>0</td>\n",
              "      <td>STON/O2. 3101282</td>\n",
              "      <td>7.9250</td>\n",
              "      <td>C000</td>\n",
              "      <td>S</td>\n",
              "    </tr>\n",
              "  </tbody>\n",
              "</table>\n",
              "</div>"
            ],
            "text/plain": [
              "   PassengerId  Survived  Pclass  \\\n",
              "0            1         0       3   \n",
              "1            2         1       1   \n",
              "2            3         1       3   \n",
              "\n",
              "                                                Name     Sex   Age  SibSp  \\\n",
              "0                            Braund, Mr. Owen Harris    male  22.0      1   \n",
              "1  Cumings, Mrs. John Bradley (Florence Briggs Th...  female  38.0      1   \n",
              "2                             Heikkinen, Miss. Laina  female  26.0      0   \n",
              "\n",
              "   Parch            Ticket     Fare Cabin Embarked  \n",
              "0      0         A/5 21171   7.2500  C000        S  \n",
              "1      0          PC 17599  71.2833   C85        C  \n",
              "2      0  STON/O2. 3101282   7.9250  C000        S  "
            ]
          },
          "metadata": {},
          "execution_count": 57
        }
      ]
    },
    {
      "cell_type": "code",
      "metadata": {
        "ExecuteTime": {
          "end_time": "2021-09-29T05:51:31.149420Z",
          "start_time": "2021-09-29T05:51:31.147272Z"
        },
        "id": "OzZUeacjJltu"
      },
      "source": [
        "#'Age' 칼럼의 NaN 값을 평균 나이로, 'Embarked' 칼럼의 NaN값을 'S'로 대체해 모든 결손 데이터를 처리하기"
      ],
      "id": "OzZUeacjJltu",
      "execution_count": null,
      "outputs": []
    },
    {
      "cell_type": "code",
      "metadata": {
        "ExecuteTime": {
          "end_time": "2021-09-29T05:54:45.611045Z",
          "start_time": "2021-09-29T05:54:45.599968Z"
        },
        "id": "6Wa-IZj9Jltu",
        "outputId": "04c1b2a0-9546-4cc1-9688-958a5ae5eb9d"
      },
      "source": [
        "titanic_df['Age'] = titanic_df['Age'].fillna(titanic_df['Age'].mean())\n",
        "titanic_df['Embarked'] = titanic_df['Embarked'].fillna('S')\n",
        "titanic_df.isna().sum()"
      ],
      "id": "6Wa-IZj9Jltu",
      "execution_count": null,
      "outputs": [
        {
          "output_type": "execute_result",
          "data": {
            "text/plain": [
              "PassengerId    0\n",
              "Survived       0\n",
              "Pclass         0\n",
              "Name           0\n",
              "Sex            0\n",
              "Age            0\n",
              "SibSp          0\n",
              "Parch          0\n",
              "Ticket         0\n",
              "Fare           0\n",
              "Cabin          0\n",
              "Embarked       0\n",
              "dtype: int64"
            ]
          },
          "metadata": {},
          "execution_count": 56
        }
      ]
    },
    {
      "cell_type": "code",
      "metadata": {
        "id": "zODHmsfjJltu"
      },
      "source": [
        ""
      ],
      "id": "zODHmsfjJltu",
      "execution_count": null,
      "outputs": []
    },
    {
      "cell_type": "markdown",
      "metadata": {
        "id": "vj9aVvGtJltu"
      },
      "source": [
        "## apply lambda 식으로 데이터 가공"
      ],
      "id": "vj9aVvGtJltu"
    },
    {
      "cell_type": "markdown",
      "metadata": {
        "id": "tzbROMDYJltv"
      },
      "source": [
        "복잡한 데이터의 가공이 필요한 경우 apply lambda를 이용한다."
      ],
      "id": "tzbROMDYJltv"
    },
    {
      "cell_type": "markdown",
      "metadata": {
        "id": "7rEB0i0DJltv"
      },
      "source": [
        "- **lambda식**  \n",
        "lambda 입력 인자 : 입력 인자의 계산식  \n",
        "':'로 입력 인자와 반환될 입력 인자의 계산식을 분리한다.  \n",
        "(예시) lambda x : x ** 2  "
      ],
      "id": "7rEB0i0DJltv"
    },
    {
      "cell_type": "code",
      "metadata": {
        "ExecuteTime": {
          "end_time": "2021-09-29T06:53:27.840114Z",
          "start_time": "2021-09-29T06:53:27.828386Z"
        },
        "id": "pyZVRoa7Jltv",
        "outputId": "08c7e576-581c-41ab-e5da-962a282d6fd5"
      },
      "source": [
        "def get_square(a):\n",
        "    return a ** 2\n",
        "\n",
        "print('3의 제곱은: ', get_square(3))"
      ],
      "id": "pyZVRoa7Jltv",
      "execution_count": null,
      "outputs": [
        {
          "output_type": "stream",
          "name": "stdout",
          "text": [
            "3의 제곱은:  9\n"
          ]
        }
      ]
    },
    {
      "cell_type": "code",
      "metadata": {
        "ExecuteTime": {
          "end_time": "2021-09-29T06:54:13.585751Z",
          "start_time": "2021-09-29T06:54:13.582063Z"
        },
        "id": "msP5syb2Jltv",
        "outputId": "facc68de-95df-4119-e399-c7228f8659eb"
      },
      "source": [
        "lambda_square = lambda x : x ** 2\n",
        "print('3의 제곱은: ', lambda_square(3))"
      ],
      "id": "msP5syb2Jltv",
      "execution_count": null,
      "outputs": [
        {
          "output_type": "stream",
          "name": "stdout",
          "text": [
            "3의 제곱은:  9\n"
          ]
        }
      ]
    },
    {
      "cell_type": "markdown",
      "metadata": {
        "id": "eXCjhb2YJltv"
      },
      "source": [
        "- 여러 개의 값을 입력 인자로 사용해야 할 경우에는 map( ) 함수를 결합해서 사용한다."
      ],
      "id": "eXCjhb2YJltv"
    },
    {
      "cell_type": "code",
      "metadata": {
        "ExecuteTime": {
          "end_time": "2021-09-29T06:58:44.468911Z",
          "start_time": "2021-09-29T06:58:44.462322Z"
        },
        "id": "kSO0bX0NJltv",
        "outputId": "9fd91f1c-0057-4a76-95f1-0699102b6870"
      },
      "source": [
        "a = [1, 2, 3]\n",
        "squares = map(lambda x : x ** 2, a)\n",
        "list(squares)"
      ],
      "id": "kSO0bX0NJltv",
      "execution_count": null,
      "outputs": [
        {
          "output_type": "execute_result",
          "data": {
            "text/plain": [
              "[1, 4, 9]"
            ]
          },
          "metadata": {},
          "execution_count": 60
        }
      ]
    },
    {
      "cell_type": "markdown",
      "metadata": {
        "id": "_HlRNg0LJltv"
      },
      "source": [
        "- DataFrame의 lambda식은 파이썬의 lambda식을 그대로 적용한 것  \n",
        "- DataFrame.apply(lambda식)"
      ],
      "id": "_HlRNg0LJltv"
    },
    {
      "cell_type": "code",
      "metadata": {
        "ExecuteTime": {
          "end_time": "2021-09-29T07:00:02.366846Z",
          "start_time": "2021-09-29T07:00:02.364642Z"
        },
        "id": "_ld-EHuoJltv"
      },
      "source": [
        "#'Name' 칼럼의 문자열 개수를 별도의 칼럼인 'Name_len'에 생성하기"
      ],
      "id": "_ld-EHuoJltv",
      "execution_count": null,
      "outputs": []
    },
    {
      "cell_type": "code",
      "metadata": {
        "ExecuteTime": {
          "end_time": "2021-09-29T07:04:08.012054Z",
          "start_time": "2021-09-29T07:04:07.996676Z"
        },
        "id": "jIbzfGMlJltw",
        "outputId": "8bf609e8-0b91-4d13-b282-31839e45c2e7"
      },
      "source": [
        "titanic_df['Name_len'] = titanic_df['Name'].apply(lambda x : len(x))\n",
        "titanic_df[['Name', 'Name_len']].head(3)"
      ],
      "id": "jIbzfGMlJltw",
      "execution_count": null,
      "outputs": [
        {
          "output_type": "execute_result",
          "data": {
            "text/html": [
              "<div>\n",
              "<style scoped>\n",
              "    .dataframe tbody tr th:only-of-type {\n",
              "        vertical-align: middle;\n",
              "    }\n",
              "\n",
              "    .dataframe tbody tr th {\n",
              "        vertical-align: top;\n",
              "    }\n",
              "\n",
              "    .dataframe thead th {\n",
              "        text-align: right;\n",
              "    }\n",
              "</style>\n",
              "<table border=\"1\" class=\"dataframe\">\n",
              "  <thead>\n",
              "    <tr style=\"text-align: right;\">\n",
              "      <th></th>\n",
              "      <th>Name</th>\n",
              "      <th>Name_len</th>\n",
              "    </tr>\n",
              "  </thead>\n",
              "  <tbody>\n",
              "    <tr>\n",
              "      <th>0</th>\n",
              "      <td>Braund, Mr. Owen Harris</td>\n",
              "      <td>23</td>\n",
              "    </tr>\n",
              "    <tr>\n",
              "      <th>1</th>\n",
              "      <td>Cumings, Mrs. John Bradley (Florence Briggs Th...</td>\n",
              "      <td>51</td>\n",
              "    </tr>\n",
              "    <tr>\n",
              "      <th>2</th>\n",
              "      <td>Heikkinen, Miss. Laina</td>\n",
              "      <td>22</td>\n",
              "    </tr>\n",
              "  </tbody>\n",
              "</table>\n",
              "</div>"
            ],
            "text/plain": [
              "                                                Name  Name_len\n",
              "0                            Braund, Mr. Owen Harris        23\n",
              "1  Cumings, Mrs. John Bradley (Florence Briggs Th...        51\n",
              "2                             Heikkinen, Miss. Laina        22"
            ]
          },
          "metadata": {},
          "execution_count": 62
        }
      ]
    },
    {
      "cell_type": "code",
      "metadata": {
        "ExecuteTime": {
          "end_time": "2021-09-29T09:02:46.644090Z",
          "start_time": "2021-09-29T09:02:46.626352Z"
        },
        "id": "KPH4dVbaJltw"
      },
      "source": [
        "#lambda식에서 if else 절을 사용해서 나이가 15세 이하면 'Child', 그렇지 않으면 'Adult'로 구분하기"
      ],
      "id": "KPH4dVbaJltw",
      "execution_count": null,
      "outputs": []
    },
    {
      "cell_type": "code",
      "metadata": {
        "ExecuteTime": {
          "end_time": "2021-09-29T09:07:19.505677Z",
          "start_time": "2021-09-29T09:07:19.494950Z"
        },
        "id": "wKJZkII1Jltw",
        "outputId": "7c928561-e4c6-4712-a4e6-d68d865de5c1"
      },
      "source": [
        "titanic_df['Child_Adult'] = titanic_df['Age'].apply(lambda x : 'Child' if x <= 15 else 'Adult')\n",
        "titanic_df[['Age', 'Child_Adult']].head(10)"
      ],
      "id": "wKJZkII1Jltw",
      "execution_count": null,
      "outputs": [
        {
          "output_type": "execute_result",
          "data": {
            "text/html": [
              "<div>\n",
              "<style scoped>\n",
              "    .dataframe tbody tr th:only-of-type {\n",
              "        vertical-align: middle;\n",
              "    }\n",
              "\n",
              "    .dataframe tbody tr th {\n",
              "        vertical-align: top;\n",
              "    }\n",
              "\n",
              "    .dataframe thead th {\n",
              "        text-align: right;\n",
              "    }\n",
              "</style>\n",
              "<table border=\"1\" class=\"dataframe\">\n",
              "  <thead>\n",
              "    <tr style=\"text-align: right;\">\n",
              "      <th></th>\n",
              "      <th>Age</th>\n",
              "      <th>Child_Adult</th>\n",
              "    </tr>\n",
              "  </thead>\n",
              "  <tbody>\n",
              "    <tr>\n",
              "      <th>0</th>\n",
              "      <td>22.000000</td>\n",
              "      <td>Adult</td>\n",
              "    </tr>\n",
              "    <tr>\n",
              "      <th>1</th>\n",
              "      <td>38.000000</td>\n",
              "      <td>Adult</td>\n",
              "    </tr>\n",
              "    <tr>\n",
              "      <th>2</th>\n",
              "      <td>26.000000</td>\n",
              "      <td>Adult</td>\n",
              "    </tr>\n",
              "    <tr>\n",
              "      <th>3</th>\n",
              "      <td>35.000000</td>\n",
              "      <td>Adult</td>\n",
              "    </tr>\n",
              "    <tr>\n",
              "      <th>4</th>\n",
              "      <td>35.000000</td>\n",
              "      <td>Adult</td>\n",
              "    </tr>\n",
              "    <tr>\n",
              "      <th>5</th>\n",
              "      <td>29.699118</td>\n",
              "      <td>Adult</td>\n",
              "    </tr>\n",
              "    <tr>\n",
              "      <th>6</th>\n",
              "      <td>54.000000</td>\n",
              "      <td>Adult</td>\n",
              "    </tr>\n",
              "    <tr>\n",
              "      <th>7</th>\n",
              "      <td>2.000000</td>\n",
              "      <td>Child</td>\n",
              "    </tr>\n",
              "    <tr>\n",
              "      <th>8</th>\n",
              "      <td>27.000000</td>\n",
              "      <td>Adult</td>\n",
              "    </tr>\n",
              "    <tr>\n",
              "      <th>9</th>\n",
              "      <td>14.000000</td>\n",
              "      <td>Child</td>\n",
              "    </tr>\n",
              "  </tbody>\n",
              "</table>\n",
              "</div>"
            ],
            "text/plain": [
              "         Age Child_Adult\n",
              "0  22.000000       Adult\n",
              "1  38.000000       Adult\n",
              "2  26.000000       Adult\n",
              "3  35.000000       Adult\n",
              "4  35.000000       Adult\n",
              "5  29.699118       Adult\n",
              "6  54.000000       Adult\n",
              "7   2.000000       Child\n",
              "8  27.000000       Adult\n",
              "9  14.000000       Child"
            ]
          },
          "metadata": {},
          "execution_count": 65
        }
      ]
    },
    {
      "cell_type": "markdown",
      "metadata": {
        "id": "nLldXdydJltx"
      },
      "source": [
        "\n",
        "lambda식에서는 elif를 지원하지 않는다.  \n",
        "조건식을 여러 개 사용하는 경우 else절을 ( )로 내포해 ( ) 내에서 다시 if, else를 적용해 사용한다."
      ],
      "id": "nLldXdydJltx"
    },
    {
      "cell_type": "code",
      "metadata": {
        "ExecuteTime": {
          "end_time": "2021-09-29T12:29:46.434550Z",
          "start_time": "2021-09-29T12:29:46.420993Z"
        },
        "id": "oLs-EbqnJltx"
      },
      "source": [
        "#나이가 15세 이하이면 Child, 15 ~ 60세 사이는 Adult, 61세 이상은 Elderly로 분류하는 'Age_Cat' 칼럼 만들기"
      ],
      "id": "oLs-EbqnJltx",
      "execution_count": null,
      "outputs": []
    },
    {
      "cell_type": "code",
      "metadata": {
        "ExecuteTime": {
          "end_time": "2021-09-29T12:49:25.952252Z",
          "start_time": "2021-09-29T12:49:25.943334Z"
        },
        "id": "lS209bVxJltx",
        "outputId": "247e194f-34fa-4c26-df77-0b468ff478ba"
      },
      "source": [
        "titanic_df['Age_Cat'] = titanic_df['Age'].apply(lambda x : 'Child' if x <= 15 else('Adult' if x <= 60 else 'Elderly'))\n",
        "titanic_df['Age_Cat'].value_counts()"
      ],
      "id": "lS209bVxJltx",
      "execution_count": null,
      "outputs": [
        {
          "output_type": "execute_result",
          "data": {
            "text/plain": [
              "Adult      786\n",
              "Child       83\n",
              "Elderly     22\n",
              "Name: Age_Cat, dtype: int64"
            ]
          },
          "metadata": {},
          "execution_count": 7
        }
      ]
    },
    {
      "cell_type": "markdown",
      "metadata": {
        "id": "0UdYWguXJltx"
      },
      "source": [
        "\n",
        "조건식이 많을 때에는 별도의 함수를 만든다."
      ],
      "id": "0UdYWguXJltx"
    },
    {
      "cell_type": "code",
      "metadata": {
        "ExecuteTime": {
          "end_time": "2021-09-29T13:11:53.347941Z",
          "start_time": "2021-09-29T13:11:53.339647Z"
        },
        "id": "bfHN6PmHJlty"
      },
      "source": [
        "#5살 이하는 Baby, 12살 이하는 Child, 18살 이하는 Teenage, 25살 이하는 Student,\n",
        "#35살 이하는 Young Adult, 60세 이하는 Adult, 그 이상은 Elderly로 분류하기"
      ],
      "id": "bfHN6PmHJlty",
      "execution_count": null,
      "outputs": []
    },
    {
      "cell_type": "code",
      "metadata": {
        "ExecuteTime": {
          "end_time": "2021-09-29T13:16:09.192288Z",
          "start_time": "2021-09-29T13:16:09.166371Z"
        },
        "id": "XsR0tTr5Jlty",
        "outputId": "6c608809-56ff-49a1-a738-c76f06ae2ed2"
      },
      "source": [
        "def get_category(age):\n",
        "    cat = ''\n",
        "    if age <= 5: cat = 'Baby'\n",
        "    elif age <= 12: cat = 'Child'\n",
        "    elif age <= 25: cat = 'Student'\n",
        "    elif age <= 35: cat = 'Young Adult'\n",
        "    elif age <= 60: cat = 'Adult'\n",
        "    else: 'Elderly'\n",
        "    return cat\n",
        "\n",
        "#lambda식에서 위에서 생성한 get_category()함수를 반환값으로 지정\n",
        "#get_category()함수는 입력값으로 'Age' 칼럼 값을 받아서 해당하는 cat으로 반환함\n",
        "\n",
        "titanic_df['Age_Cat'] = titanic_df['Age'].apply(lambda x : get_category(x))\n",
        "titanic_df[['Age', 'Age_Cat']].head()"
      ],
      "id": "XsR0tTr5Jlty",
      "execution_count": null,
      "outputs": [
        {
          "output_type": "execute_result",
          "data": {
            "text/html": [
              "<div>\n",
              "<style scoped>\n",
              "    .dataframe tbody tr th:only-of-type {\n",
              "        vertical-align: middle;\n",
              "    }\n",
              "\n",
              "    .dataframe tbody tr th {\n",
              "        vertical-align: top;\n",
              "    }\n",
              "\n",
              "    .dataframe thead th {\n",
              "        text-align: right;\n",
              "    }\n",
              "</style>\n",
              "<table border=\"1\" class=\"dataframe\">\n",
              "  <thead>\n",
              "    <tr style=\"text-align: right;\">\n",
              "      <th></th>\n",
              "      <th>Age</th>\n",
              "      <th>Age_Cat</th>\n",
              "    </tr>\n",
              "  </thead>\n",
              "  <tbody>\n",
              "    <tr>\n",
              "      <th>0</th>\n",
              "      <td>22.0</td>\n",
              "      <td>Student</td>\n",
              "    </tr>\n",
              "    <tr>\n",
              "      <th>1</th>\n",
              "      <td>38.0</td>\n",
              "      <td>Adult</td>\n",
              "    </tr>\n",
              "    <tr>\n",
              "      <th>2</th>\n",
              "      <td>26.0</td>\n",
              "      <td>Young Adult</td>\n",
              "    </tr>\n",
              "    <tr>\n",
              "      <th>3</th>\n",
              "      <td>35.0</td>\n",
              "      <td>Young Adult</td>\n",
              "    </tr>\n",
              "    <tr>\n",
              "      <th>4</th>\n",
              "      <td>35.0</td>\n",
              "      <td>Young Adult</td>\n",
              "    </tr>\n",
              "  </tbody>\n",
              "</table>\n",
              "</div>"
            ],
            "text/plain": [
              "    Age      Age_Cat\n",
              "0  22.0      Student\n",
              "1  38.0        Adult\n",
              "2  26.0  Young Adult\n",
              "3  35.0  Young Adult\n",
              "4  35.0  Young Adult"
            ]
          },
          "metadata": {},
          "execution_count": 9
        }
      ]
    },
    {
      "cell_type": "code",
      "metadata": {
        "id": "PUaiJ1c_Jlty"
      },
      "source": [
        ""
      ],
      "id": "PUaiJ1c_Jlty",
      "execution_count": null,
      "outputs": []
    }
  ]
}